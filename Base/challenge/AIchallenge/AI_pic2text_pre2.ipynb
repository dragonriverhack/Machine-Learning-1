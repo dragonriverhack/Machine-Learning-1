{
 "cells": [
  {
   "cell_type": "code",
   "execution_count": 2,
   "metadata": {},
   "outputs": [
    {
     "name": "stdout",
     "output_type": "stream",
     "text": [
      "210000\n"
     ]
    }
   ],
   "source": [
    "import numpy as np\n",
    "import matplotlib.pyplot as plt\n",
    "import matplotlib.image as mpimg # mpimg 用于读取图片\n",
    "import json\n",
    "import pandas as pd\n",
    "\n",
    "img_names1 = pd.read_csv(r\"D:\\data\\ai_challenge\\img_names1.csv\",encoding = 'gb18030')\n",
    "label_list = list(img_names1['label1'])\n",
    "print(len(label_list))"
   ]
  },
  {
   "cell_type": "code",
   "execution_count": 5,
   "metadata": {},
   "outputs": [
    {
     "data": {
      "text/plain": [
       "'一个穿着黑色裤子的男人搂着一个穿着裙子的女人在冰面上滑冰'"
      ]
     },
     "execution_count": 5,
     "metadata": {},
     "output_type": "execute_result"
    }
   ],
   "source": [
    "label_list[0]"
   ]
  },
  {
   "cell_type": "code",
   "execution_count": 6,
   "metadata": {},
   "outputs": [
    {
     "data": {
      "text/plain": [
       "True"
      ]
     },
     "execution_count": 6,
     "metadata": {},
     "output_type": "execute_result"
    }
   ],
   "source": [
    "'人' in label_list[0]"
   ]
  },
  {
   "cell_type": "code",
   "execution_count": 50,
   "metadata": {},
   "outputs": [
    {
     "name": "stdout",
     "output_type": "stream",
     "text": [
      "25\n"
     ]
    }
   ],
   "source": [
    "#####看看是不是都是人为主角\n",
    "count = 0\n",
    "ex_i = []\n",
    "for i in range(210000):\n",
    "    if '人' in label_list[i] or '男' in label_list[i] or '女' in label_list[i] \\\n",
    "            or '员' in label_list[i] or '孩' in label_list[i] or '孕' in label_list[i] \\\n",
    "            or '师' in label_list[i] or '生' in label_list[i] or '姐' in label_list[i] \\\n",
    "            or '友' in label_list[i] or '民' in label_list[i] or '爷' in label_list[i] \\\n",
    "            or '童' in label_list[i] or '子' in label_list[i] or '亲' in label_list[i] \\\n",
    "            or '儿' in label_list[i] or '运动' in label_list[i] or '汉' in label_list[i] \\\n",
    "            or '士' in label_list[i] or '客' in label_list[i] or '僧' in label_list[i] \\\n",
    "            or '和尚' in label_list[i] or '模' in label_list[i] or '工' in label_list[i]:\n",
    "        continue\n",
    "    else:\n",
    "        ex_i.append(i)\n",
    "        count+=1\n",
    "print(count)"
   ]
  },
  {
   "cell_type": "code",
   "execution_count": 51,
   "metadata": {},
   "outputs": [
    {
     "name": "stdout",
     "output_type": "stream",
     "text": [
      "一个穿着白色衣服的在药店里整理药物\n",
      "葡萄园里一群穿着浅色上衣的看着葡萄架上的葡萄\n",
      "两个共同拿着一个装有东西的箩筐站在房屋内的灶台旁干活\n",
      "四个穿着白大褂的兽医在养殖场内给一头奶牛做检查\n",
      "三个衣着各异的在昏暗的房间内交谈\n",
      "一个穿着蓝色球衣的在绿油油的球场上踢足球\n",
      "白雪皑皑的街道上站着一个双手拿着铁铲在铲雪\n",
      "球场上有一个右手拿着球拍的难惹在打网球\n",
      "房间里走着一个抱着圆柱体的东西\n",
      "展板前的舞台上站着一位右手拿着包的nvshi\n",
      "车间里有一个双手拿着平板电脑站在汽车旁\n",
      "跳过跳过跳过跳过跳过\n",
      "一个右手握着鼠标的小姑娘在教室的讲台上说话\n",
      "婚姻登记处的大门前站着一对手举着结婚证的情侣\n",
      "灯光明亮的大巴里面坐着两个正在招手的阿姨\n",
      "灯光绚丽的舞台上有一个穿连衣裙的在唱歌\n",
      "两个穿着冰刀鞋在平坦的溜冰场上表演花样滑冰\n",
      "绿树旁的街道上站着一个双手拿着东西的警察\n",
      "绚丽的舞台上有三个穿着长裤在表演节目\n",
      "一个身穿制服的警察在马路上指挥交通\n",
      "加油站里有一个双手拿着加油枪在给汽车加油\n",
      "房间里站着一个双手捧着一个装满龙虾的盆\n",
      "一个戴着听诊器的兽医在光线充足的房屋内给小猫做检查\n",
      "宽敞的路上走着一个警察在推着车\n",
      "一个单手托着鸟的渔翁坐在水边的船只上\n"
     ]
    }
   ],
   "source": [
    "for i in ex_i:\n",
    "    print(label_list[i])"
   ]
  },
  {
   "cell_type": "code",
   "execution_count": 59,
   "metadata": {},
   "outputs": [
    {
     "name": "stdout",
     "output_type": "stream",
     "text": [
      "53\n"
     ]
    }
   ],
   "source": [
    "########看看是不是都有数量词\n",
    "count_n = 0\n",
    "ex_i_n = []\n",
    "for i in range(210000):\n",
    "    if '个' in label_list[i] or '群' in label_list[i] or '对' in label_list[i] \\\n",
    "                 or '位' in label_list[i] or '名' in label_list[i]:\n",
    "        continue\n",
    "    else:\n",
    "        ex_i_n.append(i)\n",
    "        count_n+=1\n",
    "print(count_n)"
   ]
  },
  {
   "cell_type": "code",
   "execution_count": 60,
   "metadata": {},
   "outputs": [
    {
     "name": "stdout",
     "output_type": "stream",
     "text": [
      "商店里有一推着推车的男人在选购商品\n",
      "穿着球衣的男人走在万众瞩目的运动场上\n",
      "泥泞的菜地里站着上身前倾、双手拿着锄头锄地的女人\n",
      "人来人往的道路上站着左手插兜的女人\n",
      "室外有两穿着各异的人在挑拣萝卜\n",
      "排球场上有两穿着不同球衣的男人在打球\n",
      "房子里的墙壁边站着一盒右手插兜的男人\n",
      "运动场上有一表演服饰的女人在做单杆体操\n",
      "穿着红色衣服的女子走在马路上\n",
      "衣着绚丽的女人在狭小的舞台上站着\n",
      "茂密的树木旁站着一左手拿着树枝的女人\n",
      "广告牌前站着双手背在身后的女人\n",
      "两人拿着纸挡着头的女人走在人来人往的路上\n",
      "两人相互抱着的人站在室外的道路上\n",
      "干净的屋子里一衣着时尚的男女拿着酒杯坐在椅子上聊天\n",
      "碧绿的草地上有一戴着帽子的男人在挥杆\n",
      "房间里的桌子旁有三短发男孩在组装东西\n",
      "一穿着黑色背心的男人牵着一只动物站在室内\n",
      "房间里医德端着杯子的人在给躺在长椅上的人喂水\n",
      "一穿着红色上衣系着围裙的女人站在道路上卖东西\n",
      "右手拿着牙刷的小孩站在道路上刷牙\n",
      "两人左手戴着手套的人站在树林边的空地上\n",
      "平坦的跑道上有三双手撑地的人准备起跑\n",
      "足球场上两人穿着球服的男人在踢足球\n",
      "球场上有两人穿着黄色球服的男人在踢足球\n",
      "一穿着短裤右手拿着东西的女人走在道路上\n",
      "人来人往的大厅里走着右手拎着包的女人\n",
      "舞台上有一戴着耳麦的女人在跳舞\n",
      "宽敞的球场上站着两排相互肩搭着肩的男人\n",
      "医院的走廊里走着一戴着口罩左手打着点滴的女人\n",
      "一长发女人抬着双臂在运动场上锻炼身体\n",
      "餐厅里有左手端着盘子的女人在盛肉\n",
      "右手拽左臂的男人和外套系在腰间的女人站在冰雪混杂的树林中\n",
      "宽敞的屋子里有一右手拿着刷子、右手拎着桶的男人站梯子上\n",
      "跳过跳过跳过跳过跳过\n",
      "三人衣着休闲的男女骑着马站在郁郁葱葱的草地上\n",
      "明亮的房间里坐着右臂放在膝盖上的女人\n",
      "宽敞的球场上有两身穿球衣的男人碰撞在一起\n",
      "运动场上有一双手握着球拍的女人在打网球\n",
      "翠绿的草地上坐着一右手拿着水杯的男人\n",
      "一双手拎着包的女人站在广告牌前的地面上\n",
      "发布会的幕布前站着穿深色连衣裙的女人\n",
      "身穿精致礼服的男女在整洁的室内跳舞\n",
      "整洁的教室里手拿证书的女孩坐在蓝衣服女孩的前面\n",
      "房屋外有左手放在方向盘上的男人坐在赛车上\n",
      "道路上有一穿着运动装的女人坐在长椅上\n",
      "房屋外有双手抓着方向盘的男人坐在拖拉机上\n",
      "室外的台阶上走着一左手插进兜里的男人\n",
      "站在路上的女子一只手拎着包一只手摸着帽子\n",
      "洒满阳光的马路上站着一右手拿着手机的女人\n",
      "一戴着帽子的人在漫天飞雪的道路上骑着车\n",
      "一穿着深色上衣的男人在道路上骑自行车\n",
      "一裙穿着球衣的男人在球场上踢足球\n"
     ]
    }
   ],
   "source": [
    "for i in ex_i_n:\n",
    "    print(label_list[i])"
   ]
  },
  {
   "cell_type": "code",
   "execution_count": null,
   "metadata": {
    "collapsed": true
   },
   "outputs": [],
   "source": []
  }
 ],
 "metadata": {
  "kernelspec": {
   "display_name": "Python 3",
   "language": "python",
   "name": "python3"
  },
  "language_info": {
   "codemirror_mode": {
    "name": "ipython",
    "version": 3
   },
   "file_extension": ".py",
   "mimetype": "text/x-python",
   "name": "python",
   "nbconvert_exporter": "python",
   "pygments_lexer": "ipython3",
   "version": "3.5.2rc1"
  }
 },
 "nbformat": 4,
 "nbformat_minor": 2
}
