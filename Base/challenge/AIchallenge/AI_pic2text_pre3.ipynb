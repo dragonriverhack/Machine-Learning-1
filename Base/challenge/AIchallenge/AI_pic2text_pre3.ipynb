{
 "cells": [
  {
   "cell_type": "code",
   "execution_count": 1,
   "metadata": {},
   "outputs": [
    {
     "name": "stdout",
     "output_type": "stream",
     "text": [
      "210000\n"
     ]
    }
   ],
   "source": [
    "import numpy as np\n",
    "import matplotlib.pyplot as plt\n",
    "import matplotlib.image as mpimg # mpimg 用于读取图片\n",
    "import json\n",
    "import pandas as pd\n",
    "\n",
    "img_names1 = pd.read_csv(r\"D:\\data\\ai_challenge\\img_names1.csv\",encoding = 'gb18030')\n",
    "label_list = list(img_names1['label1'])\n",
    "print(len(label_list))"
   ]
  },
  {
   "cell_type": "code",
   "execution_count": 20,
   "metadata": {},
   "outputs": [
    {
     "name": "stdout",
     "output_type": "stream",
     "text": [
      "29\n",
      "162025\n",
      "34789\n",
      "9695\n",
      "3462\n"
     ]
    }
   ],
   "source": [
    "count = 0\n",
    "ex = []\n",
    "\n",
    "count1 = 0\n",
    "count2 = 0\n",
    "count3 = 0\n",
    "count4 = 0\n",
    "\n",
    "for i in range(210000):\n",
    "    if '一' in label_list[i]:\n",
    "        count1+=1\n",
    "        continue\n",
    "    if '二' in label_list[i] or '对' in label_list[i] or '两' in label_list[i]:\n",
    "        count2+=1\n",
    "        continue\n",
    "    if '三' in label_list[i]:\n",
    "        count3+=1\n",
    "        continue\n",
    "    if '四' in label_list[i] or '五' in label_list[i] or '六' in label_list[i] \\\n",
    "            or '七' in label_list[i] or '八' in label_list[i] or '几' in label_list[i]:\n",
    "        count4+=1\n",
    "        continue\n",
    "\n",
    "    ex.append(i)\n",
    "    count+=1\n",
    "    \n",
    "print(count)\n",
    "print(count1)\n",
    "print(count2)\n",
    "print(count3)\n",
    "print(count4)\n",
    "\n"
   ]
  },
  {
   "cell_type": "code",
   "execution_count": 11,
   "metadata": {},
   "outputs": [
    {
     "name": "stdout",
     "output_type": "stream",
     "text": [
      "运动场上有个右手抬起的女人坐在椅子上\n",
      "穿着球衣的男人走在万众瞩目的运动场上\n",
      "泥泞的菜地里站着上身前倾、双手拿着锄头锄地的女人\n",
      "人来人往的道路上站着左手插兜的女人\n",
      "穿着红色衣服的女子走在马路上\n",
      "街道上的白色车子旁俩个带着印花帽子的女人在交谈\n",
      "衣着绚丽的女人在狭小的舞台上站着\n",
      "郁郁葱葱的草坪上有个穿着牛仔裤的孩子坐在玩具车上\n",
      "广告牌前站着双手背在身后的女人\n",
      "个面带笑容的女人拿着种植盘走在宽阔的苗圃中\n",
      "室外有个左手拿着话筒的女人坐在台阶上\n",
      "屋子里有个戴眼镜的男人坐在沙发上\n",
      "房间里医德端着杯子的人在给躺在长椅上的人喂水\n",
      "右手拿着牙刷的小孩站在道路上刷牙\n",
      "球场上有个左手拿着高尔夫球杆的男人在振臂欢呼\n",
      "人来人往的大厅里走着右手拎着包的女人\n",
      "运动场上有丙个戴着帽子的女人在握手\n",
      "蓝天下的建筑工地的施工现场有1个带着安全帽的工人半跪着工作\n",
      "餐厅里有左手端着盘子的女人在盛肉\n",
      "右手拽左臂的男人和外套系在腰间的女人站在冰雪混杂的树林中\n",
      "跳过跳过跳过跳过跳过\n",
      "5个手上拿着球杆的男人在绿茵茵的草地上奔跑\n",
      "明亮的房间里坐着右臂放在膝盖上的女人\n",
      "发布会的幕布前站着穿深色连衣裙的女人\n",
      "身穿精致礼服的男女在整洁的室内跳舞\n",
      "整洁的教室里手拿证书的女孩坐在蓝衣服女孩的前面\n",
      "房屋外有左手放在方向盘上的男人坐在赛车上\n",
      "房屋外有双手抓着方向盘的男人坐在拖拉机上\n"
     ]
    }
   ],
   "source": [
    "for i in ex:\n",
    "    print(label_list[i])"
   ]
  },
  {
   "cell_type": "code",
   "execution_count": 4,
   "metadata": {},
   "outputs": [
    {
     "data": {
      "text/html": [
       "<div>\n",
       "<style>\n",
       "    .dataframe thead tr:only-child th {\n",
       "        text-align: right;\n",
       "    }\n",
       "\n",
       "    .dataframe thead th {\n",
       "        text-align: left;\n",
       "    }\n",
       "\n",
       "    .dataframe tbody tr th {\n",
       "        vertical-align: top;\n",
       "    }\n",
       "</style>\n",
       "<table border=\"1\" class=\"dataframe\">\n",
       "  <thead>\n",
       "    <tr style=\"text-align: right;\">\n",
       "      <th></th>\n",
       "      <th>Unnamed: 0</th>\n",
       "      <th>img</th>\n",
       "      <th>label1</th>\n",
       "    </tr>\n",
       "  </thead>\n",
       "  <tbody>\n",
       "    <tr>\n",
       "      <th>0</th>\n",
       "      <td>0</td>\n",
       "      <td>0000252aea98840a550dac9a78c476ecb9f47ffa.jpg</td>\n",
       "      <td>一个穿着黑色裤子的男人搂着一个穿着裙子的女人在冰面上滑冰</td>\n",
       "    </tr>\n",
       "    <tr>\n",
       "      <th>1</th>\n",
       "      <td>1</td>\n",
       "      <td>000041512fa82558167d5cd9b1f7bc1b24e4ceea.jpg</td>\n",
       "      <td>两个穿着不同球服的球员头碰头站在球场上</td>\n",
       "    </tr>\n",
       "    <tr>\n",
       "      <th>2</th>\n",
       "      <td>2</td>\n",
       "      <td>000078b2a9c37d4004124720cdfa3b1667ca43ff.jpg</td>\n",
       "      <td>一个拿着花束的女人和一个穿着西服的男人站在舞台上</td>\n",
       "    </tr>\n",
       "    <tr>\n",
       "      <th>3</th>\n",
       "      <td>3</td>\n",
       "      <td>0000ab10e435518335540b4ec216fa7cc2ee90c7.jpg</td>\n",
       "      <td>网吧里的两个人旁边有一个戴着耳机的女人在玩游戏</td>\n",
       "    </tr>\n",
       "    <tr>\n",
       "      <th>4</th>\n",
       "      <td>4</td>\n",
       "      <td>0000e06c1fc586992dc2445e9e102899ccb5e3fc.jpg</td>\n",
       "      <td>运动场上有一个右手拿着球拍的女人在打网球</td>\n",
       "    </tr>\n",
       "  </tbody>\n",
       "</table>\n",
       "</div>"
      ],
      "text/plain": [
       "   Unnamed: 0                                           img  \\\n",
       "0           0  0000252aea98840a550dac9a78c476ecb9f47ffa.jpg   \n",
       "1           1  000041512fa82558167d5cd9b1f7bc1b24e4ceea.jpg   \n",
       "2           2  000078b2a9c37d4004124720cdfa3b1667ca43ff.jpg   \n",
       "3           3  0000ab10e435518335540b4ec216fa7cc2ee90c7.jpg   \n",
       "4           4  0000e06c1fc586992dc2445e9e102899ccb5e3fc.jpg   \n",
       "\n",
       "                         label1  \n",
       "0  一个穿着黑色裤子的男人搂着一个穿着裙子的女人在冰面上滑冰  \n",
       "1           两个穿着不同球服的球员头碰头站在球场上  \n",
       "2      一个拿着花束的女人和一个穿着西服的男人站在舞台上  \n",
       "3       网吧里的两个人旁边有一个戴着耳机的女人在玩游戏  \n",
       "4          运动场上有一个右手拿着球拍的女人在打网球  "
      ]
     },
     "execution_count": 4,
     "metadata": {},
     "output_type": "execute_result"
    }
   ],
   "source": [
    "output = img_names1.copy()\n",
    "output.head()"
   ]
  },
  {
   "cell_type": "code",
   "execution_count": 31,
   "metadata": {},
   "outputs": [
    {
     "data": {
      "text/plain": [
       "1    000041512fa82558167d5cd9b1f7bc1b24e4ceea.jpg\n",
       "3    0000ab10e435518335540b4ec216fa7cc2ee90c7.jpg\n",
       "Name: img, dtype: object"
      ]
     },
     "execution_count": 31,
     "metadata": {},
     "output_type": "execute_result"
    }
   ],
   "source": [
    "xx = [1,3]\n",
    "output.loc[xx]['img']"
   ]
  },
  {
   "cell_type": "code",
   "execution_count": 2,
   "metadata": {},
   "outputs": [
    {
     "name": "stdout",
     "output_type": "stream",
     "text": [
      "done\n"
     ]
    }
   ],
   "source": [
    "##### 生成训练数据\n",
    "\n",
    "count1 = 0\n",
    "\n",
    "pos = []\n",
    "neg = []\n",
    "\n",
    "for i in range(210000):\n",
    "    if '一' in label_list[i] and count1<60000:\n",
    "        pos.append(i)\n",
    "        count1+=1\n",
    "    if '一' not in label_list[i]:\n",
    "        neg.append(i)\n",
    "        \n",
    "print('done')"
   ]
  },
  {
   "cell_type": "code",
   "execution_count": 5,
   "metadata": {},
   "outputs": [
    {
     "data": {
      "text/html": [
       "<div>\n",
       "<style>\n",
       "    .dataframe thead tr:only-child th {\n",
       "        text-align: right;\n",
       "    }\n",
       "\n",
       "    .dataframe thead th {\n",
       "        text-align: left;\n",
       "    }\n",
       "\n",
       "    .dataframe tbody tr th {\n",
       "        vertical-align: top;\n",
       "    }\n",
       "</style>\n",
       "<table border=\"1\" class=\"dataframe\">\n",
       "  <thead>\n",
       "    <tr style=\"text-align: right;\">\n",
       "      <th></th>\n",
       "      <th>Unnamed: 0</th>\n",
       "      <th>img</th>\n",
       "      <th>label1</th>\n",
       "      <th>y</th>\n",
       "    </tr>\n",
       "  </thead>\n",
       "  <tbody>\n",
       "    <tr>\n",
       "      <th>0</th>\n",
       "      <td>0</td>\n",
       "      <td>0000252aea98840a550dac9a78c476ecb9f47ffa.jpg</td>\n",
       "      <td>一个穿着黑色裤子的男人搂着一个穿着裙子的女人在冰面上滑冰</td>\n",
       "      <td>1</td>\n",
       "    </tr>\n",
       "    <tr>\n",
       "      <th>2</th>\n",
       "      <td>2</td>\n",
       "      <td>000078b2a9c37d4004124720cdfa3b1667ca43ff.jpg</td>\n",
       "      <td>一个拿着花束的女人和一个穿着西服的男人站在舞台上</td>\n",
       "      <td>1</td>\n",
       "    </tr>\n",
       "    <tr>\n",
       "      <th>3</th>\n",
       "      <td>3</td>\n",
       "      <td>0000ab10e435518335540b4ec216fa7cc2ee90c7.jpg</td>\n",
       "      <td>网吧里的两个人旁边有一个戴着耳机的女人在玩游戏</td>\n",
       "      <td>1</td>\n",
       "    </tr>\n",
       "    <tr>\n",
       "      <th>4</th>\n",
       "      <td>4</td>\n",
       "      <td>0000e06c1fc586992dc2445e9e102899ccb5e3fc.jpg</td>\n",
       "      <td>运动场上有一个右手拿着球拍的女人在打网球</td>\n",
       "      <td>1</td>\n",
       "    </tr>\n",
       "    <tr>\n",
       "      <th>5</th>\n",
       "      <td>5</td>\n",
       "      <td>0000fa57f8448db6f16c101b988a80bcdef0d355.jpg</td>\n",
       "      <td>屋子里有一个男人坐在堆满硬币的桌子边数硬币</td>\n",
       "      <td>1</td>\n",
       "    </tr>\n",
       "  </tbody>\n",
       "</table>\n",
       "</div>"
      ],
      "text/plain": [
       "   Unnamed: 0                                           img  \\\n",
       "0           0  0000252aea98840a550dac9a78c476ecb9f47ffa.jpg   \n",
       "2           2  000078b2a9c37d4004124720cdfa3b1667ca43ff.jpg   \n",
       "3           3  0000ab10e435518335540b4ec216fa7cc2ee90c7.jpg   \n",
       "4           4  0000e06c1fc586992dc2445e9e102899ccb5e3fc.jpg   \n",
       "5           5  0000fa57f8448db6f16c101b988a80bcdef0d355.jpg   \n",
       "\n",
       "                         label1  y  \n",
       "0  一个穿着黑色裤子的男人搂着一个穿着裙子的女人在冰面上滑冰  1  \n",
       "2      一个拿着花束的女人和一个穿着西服的男人站在舞台上  1  \n",
       "3       网吧里的两个人旁边有一个戴着耳机的女人在玩游戏  1  \n",
       "4          运动场上有一个右手拿着球拍的女人在打网球  1  \n",
       "5         屋子里有一个男人坐在堆满硬币的桌子边数硬币  1  "
      ]
     },
     "execution_count": 5,
     "metadata": {},
     "output_type": "execute_result"
    }
   ],
   "source": [
    "frame1 = output.loc[pos].copy()\n",
    "frame1['y'] = 1\n",
    "frame1.head()"
   ]
  },
  {
   "cell_type": "code",
   "execution_count": 6,
   "metadata": {},
   "outputs": [
    {
     "data": {
      "text/html": [
       "<div>\n",
       "<style>\n",
       "    .dataframe thead tr:only-child th {\n",
       "        text-align: right;\n",
       "    }\n",
       "\n",
       "    .dataframe thead th {\n",
       "        text-align: left;\n",
       "    }\n",
       "\n",
       "    .dataframe tbody tr th {\n",
       "        vertical-align: top;\n",
       "    }\n",
       "</style>\n",
       "<table border=\"1\" class=\"dataframe\">\n",
       "  <thead>\n",
       "    <tr style=\"text-align: right;\">\n",
       "      <th></th>\n",
       "      <th>Unnamed: 0</th>\n",
       "      <th>img</th>\n",
       "      <th>label1</th>\n",
       "      <th>y</th>\n",
       "    </tr>\n",
       "  </thead>\n",
       "  <tbody>\n",
       "    <tr>\n",
       "      <th>1</th>\n",
       "      <td>1</td>\n",
       "      <td>000041512fa82558167d5cd9b1f7bc1b24e4ceea.jpg</td>\n",
       "      <td>两个穿着不同球服的球员头碰头站在球场上</td>\n",
       "      <td>-1</td>\n",
       "    </tr>\n",
       "    <tr>\n",
       "      <th>11</th>\n",
       "      <td>11</td>\n",
       "      <td>0002bb81206ddd163ddad4b6970e690025bf3cbc.jpg</td>\n",
       "      <td>明亮的舞台上两个穿着深色上衣的男人在击掌</td>\n",
       "      <td>-1</td>\n",
       "    </tr>\n",
       "    <tr>\n",
       "      <th>12</th>\n",
       "      <td>12</td>\n",
       "      <td>0002c590c6b4b5d3fcecfc3d9177756c614ca0ad.jpg</td>\n",
       "      <td>球场上有两个穿着运动服的人在抢足球</td>\n",
       "      <td>-1</td>\n",
       "    </tr>\n",
       "    <tr>\n",
       "      <th>14</th>\n",
       "      <td>14</td>\n",
       "      <td>0003941d90c286333424e765f52dca8594af860e.jpg</td>\n",
       "      <td>绿油油的草地上有三个小孩在玩耍</td>\n",
       "      <td>-1</td>\n",
       "    </tr>\n",
       "    <tr>\n",
       "      <th>19</th>\n",
       "      <td>19</td>\n",
       "      <td>0004f024ed1b4fc1505a61d254b44341f518f877.jpg</td>\n",
       "      <td>四个穿着球衣的男人在平坦的运动场上奔跑</td>\n",
       "      <td>-1</td>\n",
       "    </tr>\n",
       "  </tbody>\n",
       "</table>\n",
       "</div>"
      ],
      "text/plain": [
       "    Unnamed: 0                                           img  \\\n",
       "1            1  000041512fa82558167d5cd9b1f7bc1b24e4ceea.jpg   \n",
       "11          11  0002bb81206ddd163ddad4b6970e690025bf3cbc.jpg   \n",
       "12          12  0002c590c6b4b5d3fcecfc3d9177756c614ca0ad.jpg   \n",
       "14          14  0003941d90c286333424e765f52dca8594af860e.jpg   \n",
       "19          19  0004f024ed1b4fc1505a61d254b44341f518f877.jpg   \n",
       "\n",
       "                  label1  y  \n",
       "1    两个穿着不同球服的球员头碰头站在球场上 -1  \n",
       "11  明亮的舞台上两个穿着深色上衣的男人在击掌 -1  \n",
       "12     球场上有两个穿着运动服的人在抢足球 -1  \n",
       "14       绿油油的草地上有三个小孩在玩耍 -1  \n",
       "19   四个穿着球衣的男人在平坦的运动场上奔跑 -1  "
      ]
     },
     "execution_count": 6,
     "metadata": {},
     "output_type": "execute_result"
    }
   ],
   "source": [
    "frame2 = output.loc[neg].copy()\n",
    "frame2['y'] = -1\n",
    "frame2.head()"
   ]
  },
  {
   "cell_type": "code",
   "execution_count": 7,
   "metadata": {},
   "outputs": [
    {
     "data": {
      "text/html": [
       "<div>\n",
       "<style>\n",
       "    .dataframe thead tr:only-child th {\n",
       "        text-align: right;\n",
       "    }\n",
       "\n",
       "    .dataframe thead th {\n",
       "        text-align: left;\n",
       "    }\n",
       "\n",
       "    .dataframe tbody tr th {\n",
       "        vertical-align: top;\n",
       "    }\n",
       "</style>\n",
       "<table border=\"1\" class=\"dataframe\">\n",
       "  <thead>\n",
       "    <tr style=\"text-align: right;\">\n",
       "      <th></th>\n",
       "      <th>Unnamed: 0</th>\n",
       "      <th>img</th>\n",
       "      <th>label1</th>\n",
       "      <th>y</th>\n",
       "    </tr>\n",
       "  </thead>\n",
       "  <tbody>\n",
       "    <tr>\n",
       "      <th>0</th>\n",
       "      <td>0</td>\n",
       "      <td>0000252aea98840a550dac9a78c476ecb9f47ffa.jpg</td>\n",
       "      <td>一个穿着黑色裤子的男人搂着一个穿着裙子的女人在冰面上滑冰</td>\n",
       "      <td>1</td>\n",
       "    </tr>\n",
       "    <tr>\n",
       "      <th>2</th>\n",
       "      <td>2</td>\n",
       "      <td>000078b2a9c37d4004124720cdfa3b1667ca43ff.jpg</td>\n",
       "      <td>一个拿着花束的女人和一个穿着西服的男人站在舞台上</td>\n",
       "      <td>1</td>\n",
       "    </tr>\n",
       "    <tr>\n",
       "      <th>3</th>\n",
       "      <td>3</td>\n",
       "      <td>0000ab10e435518335540b4ec216fa7cc2ee90c7.jpg</td>\n",
       "      <td>网吧里的两个人旁边有一个戴着耳机的女人在玩游戏</td>\n",
       "      <td>1</td>\n",
       "    </tr>\n",
       "    <tr>\n",
       "      <th>4</th>\n",
       "      <td>4</td>\n",
       "      <td>0000e06c1fc586992dc2445e9e102899ccb5e3fc.jpg</td>\n",
       "      <td>运动场上有一个右手拿着球拍的女人在打网球</td>\n",
       "      <td>1</td>\n",
       "    </tr>\n",
       "    <tr>\n",
       "      <th>5</th>\n",
       "      <td>5</td>\n",
       "      <td>0000fa57f8448db6f16c101b988a80bcdef0d355.jpg</td>\n",
       "      <td>屋子里有一个男人坐在堆满硬币的桌子边数硬币</td>\n",
       "      <td>1</td>\n",
       "    </tr>\n",
       "  </tbody>\n",
       "</table>\n",
       "</div>"
      ],
      "text/plain": [
       "   Unnamed: 0                                           img  \\\n",
       "0           0  0000252aea98840a550dac9a78c476ecb9f47ffa.jpg   \n",
       "2           2  000078b2a9c37d4004124720cdfa3b1667ca43ff.jpg   \n",
       "3           3  0000ab10e435518335540b4ec216fa7cc2ee90c7.jpg   \n",
       "4           4  0000e06c1fc586992dc2445e9e102899ccb5e3fc.jpg   \n",
       "5           5  0000fa57f8448db6f16c101b988a80bcdef0d355.jpg   \n",
       "\n",
       "                         label1  y  \n",
       "0  一个穿着黑色裤子的男人搂着一个穿着裙子的女人在冰面上滑冰  1  \n",
       "2      一个拿着花束的女人和一个穿着西服的男人站在舞台上  1  \n",
       "3       网吧里的两个人旁边有一个戴着耳机的女人在玩游戏  1  \n",
       "4          运动场上有一个右手拿着球拍的女人在打网球  1  \n",
       "5         屋子里有一个男人坐在堆满硬币的桌子边数硬币  1  "
      ]
     },
     "execution_count": 7,
     "metadata": {},
     "output_type": "execute_result"
    }
   ],
   "source": [
    "df = frame1.append(frame2)\n",
    "df.head()"
   ]
  },
  {
   "cell_type": "code",
   "execution_count": 14,
   "metadata": {},
   "outputs": [
    {
     "name": "stdout",
     "output_type": "stream",
     "text": [
      "done\n"
     ]
    }
   ],
   "source": [
    "people_num = df.loc[:,{'img','label1','y'}]\n",
    "\n",
    "people_num.to_csv(r\"D:\\data\\ai_challenge\\people_num.csv\", index=False,header=True,columns=['img','label1','y'])\n",
    "print('done')"
   ]
  },
  {
   "cell_type": "code",
   "execution_count": 17,
   "metadata": {},
   "outputs": [
    {
     "name": "stdout",
     "output_type": "stream",
     "text": [
      "done\n"
     ]
    }
   ],
   "source": [
    "tt = pd.read_csv(r\"D:\\data\\ai_challenge\\people_num.csv\",encoding = 'gb18030')\n",
    "from sklearn.utils import shuffle  \n",
    "tt = shuffle(tt)  \n",
    "tt.to_csv(r\"D:\\data\\ai_challenge\\people_num_shuffle.csv\", index=False,header=True,columns=['img','label1','y'])\n",
    "print('done')"
   ]
  },
  {
   "cell_type": "code",
   "execution_count": null,
   "metadata": {
    "collapsed": true
   },
   "outputs": [],
   "source": []
  }
 ],
 "metadata": {
  "kernelspec": {
   "display_name": "Python 3",
   "language": "python",
   "name": "python3"
  },
  "language_info": {
   "codemirror_mode": {
    "name": "ipython",
    "version": 3
   },
   "file_extension": ".py",
   "mimetype": "text/x-python",
   "name": "python",
   "nbconvert_exporter": "python",
   "pygments_lexer": "ipython3",
   "version": "3.5.2rc1"
  }
 },
 "nbformat": 4,
 "nbformat_minor": 2
}
