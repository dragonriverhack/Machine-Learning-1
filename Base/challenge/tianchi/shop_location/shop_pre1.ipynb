{
 "cells": [
  {
   "cell_type": "markdown",
   "metadata": {},
   "source": [
    "[比赛地址](https://tianchi.aliyun.com/competition/information.htm?spm=5176.100067.5678.2.7890a1dcnyVaYL&raceId=231620)"
   ]
  },
  {
   "cell_type": "code",
   "execution_count": 30,
   "metadata": {},
   "outputs": [],
   "source": [
    "############# 1.数据预处理 ################\n",
    "import numpy as np\n",
    "import tensorflow as tf\n",
    "import pandas as pd\n",
    "from pandas import Series,DataFrame\n",
    "\n",
    "train_shop = pd.read_csv(r\"F:/data/shop/训练数据-ccf_first_round_shop_info.csv\")\n",
    "train_user = pd.read_csv(r\"F:/data/shop/训练数据-ccf_first_round_user_shop_behavior.csv\")\n",
    "test = pd.read_csv(r\"F:/data/shop/AB榜测试集-evaluation_public.csv\")"
   ]
  },
  {
   "cell_type": "markdown",
   "metadata": {},
   "source": [
    "## PART 1 观察数据\n",
    "### 1.训练数据-ccf_first_round_shop_info.csv"
   ]
  },
  {
   "cell_type": "code",
   "execution_count": 3,
   "metadata": {},
   "outputs": [
    {
     "name": "stdout",
     "output_type": "stream",
     "text": [
      "<class 'pandas.core.frame.DataFrame'>\n",
      "RangeIndex: 8477 entries, 0 to 8476\n",
      "Data columns (total 6 columns):\n",
      "shop_id        8477 non-null object\n",
      "category_id    8477 non-null object\n",
      "longitude      8477 non-null float64\n",
      "latitude       8477 non-null float64\n",
      "price          8477 non-null int64\n",
      "mall_id        8477 non-null object\n",
      "dtypes: float64(2), int64(1), object(3)\n",
      "memory usage: 397.4+ KB\n"
     ]
    }
   ],
   "source": [
    "train_shop.info()"
   ]
  },
  {
   "cell_type": "code",
   "execution_count": 3,
   "metadata": {},
   "outputs": [
    {
     "data": {
      "text/html": [
       "<div>\n",
       "<style>\n",
       "    .dataframe thead tr:only-child th {\n",
       "        text-align: right;\n",
       "    }\n",
       "\n",
       "    .dataframe thead th {\n",
       "        text-align: left;\n",
       "    }\n",
       "\n",
       "    .dataframe tbody tr th {\n",
       "        vertical-align: top;\n",
       "    }\n",
       "</style>\n",
       "<table border=\"1\" class=\"dataframe\">\n",
       "  <thead>\n",
       "    <tr style=\"text-align: right;\">\n",
       "      <th></th>\n",
       "      <th>longitude</th>\n",
       "      <th>latitude</th>\n",
       "      <th>price</th>\n",
       "    </tr>\n",
       "  </thead>\n",
       "  <tbody>\n",
       "    <tr>\n",
       "      <th>count</th>\n",
       "      <td>8477.000000</td>\n",
       "      <td>8477.000000</td>\n",
       "      <td>8477.000000</td>\n",
       "    </tr>\n",
       "    <tr>\n",
       "      <th>mean</th>\n",
       "      <td>117.426526</td>\n",
       "      <td>32.961908</td>\n",
       "      <td>50.527309</td>\n",
       "    </tr>\n",
       "    <tr>\n",
       "      <th>std</th>\n",
       "      <td>4.367982</td>\n",
       "      <td>4.687368</td>\n",
       "      <td>9.416713</td>\n",
       "    </tr>\n",
       "    <tr>\n",
       "      <th>min</th>\n",
       "      <td>104.414352</td>\n",
       "      <td>23.157355</td>\n",
       "      <td>24.000000</td>\n",
       "    </tr>\n",
       "    <tr>\n",
       "      <th>25%</th>\n",
       "      <td>114.829869</td>\n",
       "      <td>30.911022</td>\n",
       "      <td>43.000000</td>\n",
       "    </tr>\n",
       "    <tr>\n",
       "      <th>50%</th>\n",
       "      <td>118.192157</td>\n",
       "      <td>32.181703</td>\n",
       "      <td>50.000000</td>\n",
       "    </tr>\n",
       "    <tr>\n",
       "      <th>75%</th>\n",
       "      <td>120.927247</td>\n",
       "      <td>36.827750</td>\n",
       "      <td>59.000000</td>\n",
       "    </tr>\n",
       "    <tr>\n",
       "      <th>max</th>\n",
       "      <td>123.801593</td>\n",
       "      <td>42.367802</td>\n",
       "      <td>88.000000</td>\n",
       "    </tr>\n",
       "  </tbody>\n",
       "</table>\n",
       "</div>"
      ],
      "text/plain": [
       "         longitude     latitude        price\n",
       "count  8477.000000  8477.000000  8477.000000\n",
       "mean    117.426526    32.961908    50.527309\n",
       "std       4.367982     4.687368     9.416713\n",
       "min     104.414352    23.157355    24.000000\n",
       "25%     114.829869    30.911022    43.000000\n",
       "50%     118.192157    32.181703    50.000000\n",
       "75%     120.927247    36.827750    59.000000\n",
       "max     123.801593    42.367802    88.000000"
      ]
     },
     "execution_count": 3,
     "metadata": {},
     "output_type": "execute_result"
    }
   ],
   "source": [
    "train_shop.describe()\n",
    "#消费最高88最低24 说明都是消费了的人群"
   ]
  },
  {
   "cell_type": "code",
   "execution_count": 22,
   "metadata": {},
   "outputs": [
    {
     "name": "stdout",
     "output_type": "stream",
     "text": [
      "shop_id :  8477\n",
      "category_id:  67\n",
      "mall_id:  97\n",
      "lo_id:  6991\n"
     ]
    }
   ],
   "source": [
    "shop_id  = train_shop['shop_id'].drop_duplicates()\n",
    "print('shop_id : ', shop_id .count()) \n",
    "#一共8477条数据，而shop_id = 8477，说明每个shop一条...\n",
    "\n",
    "category_id = train_shop['category_id'].drop_duplicates()\n",
    "print('category_id: ', category_id.count()) \n",
    "#店铺类型ID\n",
    "\n",
    "mall_id = train_shop['mall_id'].drop_duplicates()\n",
    "print('mall_id: ', mall_id.count())\n",
    "#97个商城\n",
    "\n",
    "lo_id = train_shop['longitude'].drop_duplicates()\n",
    "print('lo_id: ', lo_id.count())\n",
    "#经纬度有重合，说明不同楼层统一位置"
   ]
  },
  {
   "cell_type": "code",
   "execution_count": 17,
   "metadata": {},
   "outputs": [
    {
     "data": {
      "text/html": [
       "<div>\n",
       "<style>\n",
       "    .dataframe thead tr:only-child th {\n",
       "        text-align: right;\n",
       "    }\n",
       "\n",
       "    .dataframe thead th {\n",
       "        text-align: left;\n",
       "    }\n",
       "\n",
       "    .dataframe tbody tr th {\n",
       "        vertical-align: top;\n",
       "    }\n",
       "</style>\n",
       "<table border=\"1\" class=\"dataframe\">\n",
       "  <thead>\n",
       "    <tr style=\"text-align: right;\">\n",
       "      <th></th>\n",
       "      <th>shop_id</th>\n",
       "      <th>category_id</th>\n",
       "      <th>longitude</th>\n",
       "      <th>latitude</th>\n",
       "      <th>price</th>\n",
       "      <th>mall_id</th>\n",
       "    </tr>\n",
       "  </thead>\n",
       "  <tbody>\n",
       "    <tr>\n",
       "      <th>0</th>\n",
       "      <td>s_26</td>\n",
       "      <td>c_4</td>\n",
       "      <td>122.346736</td>\n",
       "      <td>31.833507</td>\n",
       "      <td>57</td>\n",
       "      <td>m_690</td>\n",
       "    </tr>\n",
       "    <tr>\n",
       "      <th>1</th>\n",
       "      <td>s_133</td>\n",
       "      <td>c_6</td>\n",
       "      <td>121.134362</td>\n",
       "      <td>31.197511</td>\n",
       "      <td>58</td>\n",
       "      <td>m_6587</td>\n",
       "    </tr>\n",
       "    <tr>\n",
       "      <th>2</th>\n",
       "      <td>s_251</td>\n",
       "      <td>c_38</td>\n",
       "      <td>121.000505</td>\n",
       "      <td>30.907667</td>\n",
       "      <td>34</td>\n",
       "      <td>m_5892</td>\n",
       "    </tr>\n",
       "    <tr>\n",
       "      <th>3</th>\n",
       "      <td>s_372</td>\n",
       "      <td>c_30</td>\n",
       "      <td>119.864982</td>\n",
       "      <td>26.659876</td>\n",
       "      <td>44</td>\n",
       "      <td>m_625</td>\n",
       "    </tr>\n",
       "    <tr>\n",
       "      <th>4</th>\n",
       "      <td>s_456</td>\n",
       "      <td>c_26</td>\n",
       "      <td>122.594243</td>\n",
       "      <td>31.581499</td>\n",
       "      <td>44</td>\n",
       "      <td>m_3839</td>\n",
       "    </tr>\n",
       "  </tbody>\n",
       "</table>\n",
       "</div>"
      ],
      "text/plain": [
       "  shop_id category_id   longitude   latitude  price mall_id\n",
       "0    s_26         c_4  122.346736  31.833507     57   m_690\n",
       "1   s_133         c_6  121.134362  31.197511     58  m_6587\n",
       "2   s_251        c_38  121.000505  30.907667     34  m_5892\n",
       "3   s_372        c_30  119.864982  26.659876     44   m_625\n",
       "4   s_456        c_26  122.594243  31.581499     44  m_3839"
      ]
     },
     "execution_count": 17,
     "metadata": {},
     "output_type": "execute_result"
    }
   ],
   "source": [
    "train_shop.head()"
   ]
  },
  {
   "cell_type": "code",
   "execution_count": 26,
   "metadata": {},
   "outputs": [
    {
     "data": {
      "image/png": "[encoded data removed]",
      "text/plain": [
       "<matplotlib.figure.Figure at 0x1701c5295c0>"
      ]
     },
     "metadata": {},
     "output_type": "display_data"
    }
   ],
   "source": [
    "#观察下大致的经纬度关系\n",
    "import matplotlib.pyplot as plt\n",
    "def plotLOLA(lo,la):\n",
    "    fig = plt.figure()  \n",
    "    ax= fig.add_subplot(111) #使画在一个图上\n",
    "    \n",
    "    ax = plt.scatter(lo, la, marker = 'x', color = 'r')  \n",
    "\n",
    "    plt.xlabel('longitude') \n",
    "    plt.ylabel('latitude')\n",
    "    \n",
    "    plt.show()\n",
    "\n",
    "plotLOLA(train_shop['longitude'],train_shop['latitude'])"
   ]
  },
  {
   "cell_type": "markdown",
   "metadata": {},
   "source": [
    "### 2.训练数据-ccf_first_round_user_shop_behavior.csv"
   ]
  },
  {
   "cell_type": "code",
   "execution_count": 9,
   "metadata": {},
   "outputs": [
    {
     "name": "stdout",
     "output_type": "stream",
     "text": [
      "<class 'pandas.core.frame.DataFrame'>\n",
      "RangeIndex: 1138015 entries, 0 to 1138014\n",
      "Data columns (total 6 columns):\n",
      "user_id       1138015 non-null object\n",
      "shop_id       1138015 non-null object\n",
      "time_stamp    1138015 non-null object\n",
      "longitude     1138015 non-null float64\n",
      "latitude      1138015 non-null float64\n",
      "wifi_infos    1138015 non-null object\n",
      "dtypes: float64(2), object(4)\n",
      "memory usage: 52.1+ MB\n"
     ]
    }
   ],
   "source": [
    "train_user.info()"
   ]
  },
  {
   "cell_type": "code",
   "execution_count": 10,
   "metadata": {},
   "outputs": [
    {
     "data": {
      "text/html": [
       "<div>\n",
       "<style>\n",
       "    .dataframe thead tr:only-child th {\n",
       "        text-align: right;\n",
       "    }\n",
       "\n",
       "    .dataframe thead th {\n",
       "        text-align: left;\n",
       "    }\n",
       "\n",
       "    .dataframe tbody tr th {\n",
       "        vertical-align: top;\n",
       "    }\n",
       "</style>\n",
       "<table border=\"1\" class=\"dataframe\">\n",
       "  <thead>\n",
       "    <tr style=\"text-align: right;\">\n",
       "      <th></th>\n",
       "      <th>longitude</th>\n",
       "      <th>latitude</th>\n",
       "    </tr>\n",
       "  </thead>\n",
       "  <tbody>\n",
       "    <tr>\n",
       "      <th>count</th>\n",
       "      <td>1.138015e+06</td>\n",
       "      <td>1.138015e+06</td>\n",
       "    </tr>\n",
       "    <tr>\n",
       "      <th>mean</th>\n",
       "      <td>1.174162e+02</td>\n",
       "      <td>3.286613e+01</td>\n",
       "    </tr>\n",
       "    <tr>\n",
       "      <th>std</th>\n",
       "      <td>4.359182e+00</td>\n",
       "      <td>4.392070e+00</td>\n",
       "    </tr>\n",
       "    <tr>\n",
       "      <th>min</th>\n",
       "      <td>-1.139504e+02</td>\n",
       "      <td>5.364270e-01</td>\n",
       "    </tr>\n",
       "    <tr>\n",
       "      <th>25%</th>\n",
       "      <td>1.146429e+02</td>\n",
       "      <td>3.097768e+01</td>\n",
       "    </tr>\n",
       "    <tr>\n",
       "      <th>50%</th>\n",
       "      <td>1.180478e+02</td>\n",
       "      <td>3.208677e+01</td>\n",
       "    </tr>\n",
       "    <tr>\n",
       "      <th>75%</th>\n",
       "      <td>1.210030e+02</td>\n",
       "      <td>3.525854e+01</td>\n",
       "    </tr>\n",
       "    <tr>\n",
       "      <th>max</th>\n",
       "      <td>1.271192e+02</td>\n",
       "      <td>5.110064e+01</td>\n",
       "    </tr>\n",
       "  </tbody>\n",
       "</table>\n",
       "</div>"
      ],
      "text/plain": [
       "          longitude      latitude\n",
       "count  1.138015e+06  1.138015e+06\n",
       "mean   1.174162e+02  3.286613e+01\n",
       "std    4.359182e+00  4.392070e+00\n",
       "min   -1.139504e+02  5.364270e-01\n",
       "25%    1.146429e+02  3.097768e+01\n",
       "50%    1.180478e+02  3.208677e+01\n",
       "75%    1.210030e+02  3.525854e+01\n",
       "max    1.271192e+02  5.110064e+01"
      ]
     },
     "execution_count": 10,
     "metadata": {},
     "output_type": "execute_result"
    }
   ],
   "source": [
    "train_user.describe()"
   ]
  },
  {
   "cell_type": "code",
   "execution_count": 11,
   "metadata": {},
   "outputs": [
    {
     "name": "stdout",
     "output_type": "stream",
     "text": [
      "user_id :  714608\n",
      "shop_id :  8477\n"
     ]
    }
   ],
   "source": [
    "user_id  = train_user['user_id'].drop_duplicates()\n",
    "print('user_id : ', user_id .count())\n",
    "#一共1138015条数据，说明同一用户有多条信息\n",
    "\n",
    "shop_id  = train_user['shop_id'].drop_duplicates()\n",
    "print('shop_id : ', shop_id .count())\n"
   ]
  },
  {
   "cell_type": "code",
   "execution_count": 18,
   "metadata": {},
   "outputs": [
    {
     "data": {
      "text/html": [
       "<div>\n",
       "<style>\n",
       "    .dataframe thead tr:only-child th {\n",
       "        text-align: right;\n",
       "    }\n",
       "\n",
       "    .dataframe thead th {\n",
       "        text-align: left;\n",
       "    }\n",
       "\n",
       "    .dataframe tbody tr th {\n",
       "        vertical-align: top;\n",
       "    }\n",
       "</style>\n",
       "<table border=\"1\" class=\"dataframe\">\n",
       "  <thead>\n",
       "    <tr style=\"text-align: right;\">\n",
       "      <th></th>\n",
       "      <th>user_id</th>\n",
       "      <th>shop_id</th>\n",
       "      <th>time_stamp</th>\n",
       "      <th>longitude</th>\n",
       "      <th>latitude</th>\n",
       "      <th>wifi_infos</th>\n",
       "    </tr>\n",
       "  </thead>\n",
       "  <tbody>\n",
       "    <tr>\n",
       "      <th>0</th>\n",
       "      <td>u_376</td>\n",
       "      <td>s_2871718</td>\n",
       "      <td>2017-08-06 21:20</td>\n",
       "      <td>122.308291</td>\n",
       "      <td>32.088040</td>\n",
       "      <td>b_6396480|-67|false;b_41124514|-86|false;b_287...</td>\n",
       "    </tr>\n",
       "    <tr>\n",
       "      <th>1</th>\n",
       "      <td>u_376</td>\n",
       "      <td>s_2871718</td>\n",
       "      <td>2017-08-06 21:20</td>\n",
       "      <td>122.308162</td>\n",
       "      <td>32.087970</td>\n",
       "      <td>b_6396480|-67|false;b_56328155|-73|false;b_411...</td>\n",
       "    </tr>\n",
       "    <tr>\n",
       "      <th>2</th>\n",
       "      <td>u_1041</td>\n",
       "      <td>s_181637</td>\n",
       "      <td>2017-08-02 13:10</td>\n",
       "      <td>117.365255</td>\n",
       "      <td>40.638214</td>\n",
       "      <td>b_8006367|-78|false;b_2485110|-52|false;b_3005...</td>\n",
       "    </tr>\n",
       "    <tr>\n",
       "      <th>3</th>\n",
       "      <td>u_1158</td>\n",
       "      <td>s_609470</td>\n",
       "      <td>2017-08-13 12:30</td>\n",
       "      <td>121.134451</td>\n",
       "      <td>31.197416</td>\n",
       "      <td>b_26250579|-73|false;b_26250580|-64|false;b_26...</td>\n",
       "    </tr>\n",
       "    <tr>\n",
       "      <th>4</th>\n",
       "      <td>u_1654</td>\n",
       "      <td>s_3816766</td>\n",
       "      <td>2017-08-25 19:50</td>\n",
       "      <td>122.255867</td>\n",
       "      <td>31.351320</td>\n",
       "      <td>b_39004150|-66|false;b_39004148|-58|false;b_21...</td>\n",
       "    </tr>\n",
       "  </tbody>\n",
       "</table>\n",
       "</div>"
      ],
      "text/plain": [
       "  user_id    shop_id        time_stamp   longitude   latitude  \\\n",
       "0   u_376  s_2871718  2017-08-06 21:20  122.308291  32.088040   \n",
       "1   u_376  s_2871718  2017-08-06 21:20  122.308162  32.087970   \n",
       "2  u_1041   s_181637  2017-08-02 13:10  117.365255  40.638214   \n",
       "3  u_1158   s_609470  2017-08-13 12:30  121.134451  31.197416   \n",
       "4  u_1654  s_3816766  2017-08-25 19:50  122.255867  31.351320   \n",
       "\n",
       "                                          wifi_infos  \n",
       "0  b_6396480|-67|false;b_41124514|-86|false;b_287...  \n",
       "1  b_6396480|-67|false;b_56328155|-73|false;b_411...  \n",
       "2  b_8006367|-78|false;b_2485110|-52|false;b_3005...  \n",
       "3  b_26250579|-73|false;b_26250580|-64|false;b_26...  \n",
       "4  b_39004150|-66|false;b_39004148|-58|false;b_21...  "
      ]
     },
     "execution_count": 18,
     "metadata": {},
     "output_type": "execute_result"
    }
   ],
   "source": [
    "train_user.head()"
   ]
  },
  {
   "cell_type": "code",
   "execution_count": 23,
   "metadata": {},
   "outputs": [
    {
     "name": "stdout",
     "output_type": "stream",
     "text": [
      "231976\n"
     ]
    }
   ],
   "source": [
    "true_count = 0\n",
    "for i in train_user['wifi_infos']:\n",
    "    if 'true' in i:\n",
    "        true_count+=1\n",
    "print(true_count)\n",
    "#一共1138015条信息，714608个用户，231976条连接了wifi。"
   ]
  },
  {
   "cell_type": "markdown",
   "metadata": {},
   "source": [
    "### 3.AB榜测试集-evaluation_public.csv"
   ]
  },
  {
   "cell_type": "code",
   "execution_count": 19,
   "metadata": {},
   "outputs": [
    {
     "name": "stdout",
     "output_type": "stream",
     "text": [
      "<class 'pandas.core.frame.DataFrame'>\n",
      "RangeIndex: 483931 entries, 0 to 483930\n",
      "Data columns (total 7 columns):\n",
      "row_id        483931 non-null int64\n",
      "user_id       483931 non-null object\n",
      "mall_id       483931 non-null object\n",
      "time_stamp    483931 non-null object\n",
      "longitude     483931 non-null float64\n",
      "latitude      483931 non-null float64\n",
      "wifi_infos    483931 non-null object\n",
      "dtypes: float64(2), int64(1), object(4)\n",
      "memory usage: 25.8+ MB\n"
     ]
    }
   ],
   "source": [
    "test.info()"
   ]
  },
  {
   "cell_type": "code",
   "execution_count": 34,
   "metadata": {},
   "outputs": [
    {
     "name": "stdout",
     "output_type": "stream",
     "text": [
      "user_id :  338642\n",
      "mall_id :  97\n"
     ]
    }
   ],
   "source": [
    "user_id  = test['user_id'].drop_duplicates()\n",
    "print('user_id : ', user_id .count())\n",
    "#一共1138015条数据，说明同一用户有多条信息\n",
    "\n",
    "mall_id  = test['mall_id'].drop_duplicates()\n",
    "print('mall_id : ', mall_id.count())\n"
   ]
  },
  {
   "cell_type": "code",
   "execution_count": 21,
   "metadata": {},
   "outputs": [
    {
     "data": {
      "text/html": [
       "<div>\n",
       "<style>\n",
       "    .dataframe thead tr:only-child th {\n",
       "        text-align: right;\n",
       "    }\n",
       "\n",
       "    .dataframe thead th {\n",
       "        text-align: left;\n",
       "    }\n",
       "\n",
       "    .dataframe tbody tr th {\n",
       "        vertical-align: top;\n",
       "    }\n",
       "</style>\n",
       "<table border=\"1\" class=\"dataframe\">\n",
       "  <thead>\n",
       "    <tr style=\"text-align: right;\">\n",
       "      <th></th>\n",
       "      <th>row_id</th>\n",
       "      <th>user_id</th>\n",
       "      <th>mall_id</th>\n",
       "      <th>time_stamp</th>\n",
       "      <th>longitude</th>\n",
       "      <th>latitude</th>\n",
       "      <th>wifi_infos</th>\n",
       "    </tr>\n",
       "  </thead>\n",
       "  <tbody>\n",
       "    <tr>\n",
       "      <th>0</th>\n",
       "      <td>118742</td>\n",
       "      <td>u_30097142</td>\n",
       "      <td>m_3916</td>\n",
       "      <td>2017-09-05 13:00</td>\n",
       "      <td>122.141011</td>\n",
       "      <td>39.818847</td>\n",
       "      <td>b_34366982|-82|false;b_37756289|-53|false;b_41...</td>\n",
       "    </tr>\n",
       "    <tr>\n",
       "      <th>1</th>\n",
       "      <td>118743</td>\n",
       "      <td>u_30097803</td>\n",
       "      <td>m_5085</td>\n",
       "      <td>2017-09-06 13:10</td>\n",
       "      <td>118.191907</td>\n",
       "      <td>32.855858</td>\n",
       "      <td>b_36722251|-81|false;b_10537579|-75|false;b_43...</td>\n",
       "    </tr>\n",
       "    <tr>\n",
       "      <th>2</th>\n",
       "      <td>118744</td>\n",
       "      <td>u_30097889</td>\n",
       "      <td>m_4033</td>\n",
       "      <td>2017-09-06 17:40</td>\n",
       "      <td>119.192110</td>\n",
       "      <td>32.424667</td>\n",
       "      <td>b_30026291|-74|false;b_30026290|-74|false;b_36...</td>\n",
       "    </tr>\n",
       "    <tr>\n",
       "      <th>3</th>\n",
       "      <td>118745</td>\n",
       "      <td>u_30098996</td>\n",
       "      <td>m_4515</td>\n",
       "      <td>2017-09-03 12:10</td>\n",
       "      <td>120.612201</td>\n",
       "      <td>34.055249</td>\n",
       "      <td>b_33412374|-77|false;b_22084893|-86|false;b_52...</td>\n",
       "    </tr>\n",
       "    <tr>\n",
       "      <th>4</th>\n",
       "      <td>118746</td>\n",
       "      <td>u_30099170</td>\n",
       "      <td>m_7168</td>\n",
       "      <td>2017-09-02 20:40</td>\n",
       "      <td>116.861989</td>\n",
       "      <td>40.326858</td>\n",
       "      <td>b_19882704|-77|false;b_2241462|-49|false;b_585...</td>\n",
       "    </tr>\n",
       "  </tbody>\n",
       "</table>\n",
       "</div>"
      ],
      "text/plain": [
       "   row_id     user_id mall_id        time_stamp   longitude   latitude  \\\n",
       "0  118742  u_30097142  m_3916  2017-09-05 13:00  122.141011  39.818847   \n",
       "1  118743  u_30097803  m_5085  2017-09-06 13:10  118.191907  32.855858   \n",
       "2  118744  u_30097889  m_4033  2017-09-06 17:40  119.192110  32.424667   \n",
       "3  118745  u_30098996  m_4515  2017-09-03 12:10  120.612201  34.055249   \n",
       "4  118746  u_30099170  m_7168  2017-09-02 20:40  116.861989  40.326858   \n",
       "\n",
       "                                          wifi_infos  \n",
       "0  b_34366982|-82|false;b_37756289|-53|false;b_41...  \n",
       "1  b_36722251|-81|false;b_10537579|-75|false;b_43...  \n",
       "2  b_30026291|-74|false;b_30026290|-74|false;b_36...  \n",
       "3  b_33412374|-77|false;b_22084893|-86|false;b_52...  \n",
       "4  b_19882704|-77|false;b_2241462|-49|false;b_585...  "
      ]
     },
     "execution_count": 21,
     "metadata": {},
     "output_type": "execute_result"
    }
   ],
   "source": [
    "test.head()"
   ]
  },
  {
   "cell_type": "code",
   "execution_count": 31,
   "metadata": {},
   "outputs": [
    {
     "name": "stdout",
     "output_type": "stream",
     "text": [
      "<class 'pandas.core.frame.DataFrame'>\n",
      "<class 'pandas.core.frame.DataFrame'>\n"
     ]
    }
   ],
   "source": [
    "print(type(train_shop))\n",
    "print(type(test))"
   ]
  },
  {
   "cell_type": "code",
   "execution_count": 33,
   "metadata": {},
   "outputs": [
    {
     "data": {
      "image/png": "[encoded data removed]",
      "text/plain": [
       "<matplotlib.figure.Figure at 0x1701c0f1a20>"
      ]
     },
     "metadata": {},
     "output_type": "display_data"
    },
    {
     "data": {
      "image/png": "[encoded data removed]",
      "text/plain": [
       "<matplotlib.figure.Figure at 0x1701c1b0e10>"
      ]
     },
     "metadata": {},
     "output_type": "display_data"
    }
   ],
   "source": [
    "plotLOLA(test['longitude'],test['latitude'])\n",
    "plotLOLA(train_shop['longitude'],train_shop['latitude'])"
   ]
  },
  {
   "cell_type": "markdown",
   "metadata": {},
   "source": [
    "## PART 2 初步处理\n",
    "### 1.处理train_user中的wifi信息\n",
    "因为三个点距可以确定坐标系中一个点，暂时考虑取前三个最强的wifi"
   ]
  },
  {
   "cell_type": "code",
   "execution_count": 8,
   "metadata": {},
   "outputs": [
    {
     "name": "stdout",
     "output_type": "stream",
     "text": [
      "b_6396480|-67|false;b_41124514|-86|false;b_28723327|-90|false;b_6396479|-55|false;b_8764723|-90|false;b_32053319|-74|false;b_5857370|-68|false;b_56326644|-89|false;b_56328155|-77|false;b_5857369|-55|false\n"
     ]
    }
   ],
   "source": [
    "test_wifi = train_user['wifi_infos'][0]\n",
    "print(test_wifi)"
   ]
  },
  {
   "cell_type": "code",
   "execution_count": 15,
   "metadata": {},
   "outputs": [
    {
     "name": "stdout",
     "output_type": "stream",
     "text": [
      "['b_6396480|-67|false', 'b_41124514|-86|false', 'b_28723327|-90|false', 'b_6396479|-55|false', 'b_8764723|-90|false', 'b_32053319|-74|false', 'b_5857370|-68|false', 'b_56326644|-89|false', 'b_56328155|-77|false', 'b_5857369|-55|false']\n",
      "['b_28723327|-90|false', 'b_8764723|-90|false', 'b_56326644|-89|false', 'b_41124514|-86|false', 'b_56328155|-77|false', 'b_32053319|-74|false', 'b_5857370|-68|false', 'b_6396480|-67|false', 'b_6396479|-55|false', 'b_5857369|-55|false']\n",
      "['b_5857369|-55|false', 'b_6396479|-55|false', 'b_6396480|-67|false']\n"
     ]
    }
   ],
   "source": [
    "def wifiTop3(wifi_infos):\n",
    "    #wifi_infos:str\n",
    "    #output:top 3 wifi / [[1],[2],[3]]\n",
    "    row_list = wifi_infos.split(';')\n",
    "    print(row_list)\n",
    "    def sortWifi(wifiStr):\n",
    "        wifi_num = int(wifiStr.split('|')[1])\n",
    "        return wifi_num\n",
    "    sort_list = sorted(row_list, key=sortWifi)\n",
    "    print(sort_list)\n",
    "    return sort_list[-3:]\n",
    "\n",
    "print(wifiTop3(test_wifi)[::-1])"
   ]
  },
  {
   "cell_type": "markdown",
   "metadata": {},
   "source": [
    "后续同样可以处理test中的wifi信息"
   ]
  },
  {
   "cell_type": "markdown",
   "metadata": {},
   "source": [
    "### 2.思考wifi的作用\n",
    "* 考虑一个用户会自动连接同一个wifi，所以出现相同用户连接同一个wifi概率极高（但是好像test中的用户ID不一样...）\n",
    "* 若为true，考虑信号强度 / 主动问密码等原因，对于商店，用户只有在支付时可能连接wifi；\n",
    "   而对于饮食店，可能会一直连接，那么在食品店旁边的商店支付时也不会断开；\n",
    "* 大多数都是没有连接wifi的，最基本的，通过前三强度的wifi定位当前位置，最好是在训练时就得到每一家店的wifi信息。但是有个问题，这是在商城，存在不同楼层同一经纬度的情况。\n",
    "* 正常来讲，强度最大的就是本店的wifi，但也要考虑几个特殊情况:\n",
    "   1.本店没有wifi（应该很少）；\n",
    "   2.本店wifi网不好，这样也应该能排在前三；\n",
    "   3.其他（再补充）"
   ]
  },
  {
   "cell_type": "code",
   "execution_count": null,
   "metadata": {},
   "outputs": [],
   "source": []
  }
 ],
 "metadata": {
  "kernelspec": {
   "display_name": "Python 3",
   "language": "python",
   "name": "python3"
  },
  "language_info": {
   "codemirror_mode": {
    "name": "ipython",
    "version": 3
   },
   "file_extension": ".py",
   "mimetype": "text/x-python",
   "name": "python",
   "nbconvert_exporter": "python",
   "pygments_lexer": "ipython3",
   "version": "3.5.4"
  }
 },
 "nbformat": 4,
 "nbformat_minor": 2
}
