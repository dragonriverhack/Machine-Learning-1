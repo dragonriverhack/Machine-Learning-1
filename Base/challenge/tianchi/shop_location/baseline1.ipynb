{
 "cells": [
  {
   "cell_type": "code",
   "execution_count": 1,
   "metadata": {},
   "outputs": [],
   "source": [
    "import pandas as pd\n",
    "from collections import defaultdict\n",
    "\n",
    "user_shop_hehavior = pd.read_csv('./data/训练数据-ccf_first_round_user_shop_behavior.csv')\n",
    "evalution = pd.read_csv(r'./data/old/AB榜测试集-evaluation_public.csv')\n"
   ]
  },
  {
   "cell_type": "code",
   "execution_count": 12,
   "metadata": {},
   "outputs": [
    {
     "name": "stdout",
     "output_type": "stream",
     "text": [
      "75879\n"
     ]
    }
   ],
   "source": [
    "#让WIFI关联商铺\n",
    "\n",
    "#构造规则\n",
    "wifi_to_shops = defaultdict(lambda : defaultdict(lambda :0))\n",
    "for line in user_shop_hehavior.values:\n",
    "    #print(line)\n",
    "    wifi = sorted([wifi.split('|') for wifi in line[5].split(';')],key=lambda x:int(x[1]),reverse=True)[0]\n",
    "    #print(wifi)\n",
    "    wifi_to_shops[wifi[0]][line[1]] = wifi_to_shops[wifi[0]][line[1]] + 1\n",
    "    #break\n",
    "print(len(wifi_to_shops ))"
   ]
  },
  {
   "cell_type": "code",
   "execution_count": 13,
   "metadata": {},
   "outputs": [
    {
     "name": "stdout",
     "output_type": "stream",
     "text": [
      "acc: 0.8704691941670365\n"
     ]
    }
   ],
   "source": [
    "\n",
    "\n",
    "right_count = 0\n",
    "for line in user_shop_hehavior.values:\n",
    "    wifi = sorted([wifi.split('|') for wifi in line[5].split(';')],key=lambda x:int(x[1]),reverse=True)[0]\n",
    "    counter = defaultdict(lambda : 0)\n",
    "\n",
    "    for k,v in wifi_to_shops[wifi[0]].items():\n",
    "        counter[k] += v\n",
    "\n",
    "    pred_one = sorted(counter.items(),key=lambda x:x[1],reverse=True)[0][0]\n",
    "    if pred_one == line[1]:\n",
    "        right_count += 1\n",
    "\n",
    "print('acc:',right_count/len(user_shop_hehavior)) #线下验证"
   ]
  },
  {
   "cell_type": "code",
   "execution_count": null,
   "metadata": {},
   "outputs": [],
   "source": [
    "\n",
    "\n",
    "#预测\n",
    "preds = []\n",
    "for line in evalution.values:\n",
    "    index = 0\n",
    "    while True:\n",
    "        try:\n",
    "            if index==5:\n",
    "                pred_one = None\n",
    "                break\n",
    "            wifi = sorted([wifi.split('|') for wifi in line[6].split(';')],key=lambda x:int(x[1]),reverse=True)[index]\n",
    "            counter = defaultdict(lambda : 0)\n",
    "            for k,v in wifi_to_shops[wifi[0]].items():\n",
    "                counter[k] += v\n",
    "            pred_one = sorted(counter.items(),key=lambda x:x[1],reverse=True)[0][0]\n",
    "            break\n",
    "        except:\n",
    "            index+=1\n",
    "    preds.append(pred_one)\n",
    "\n",
    "result = pd.DataFrame({'row_id':evalution.row_id,'shop_id':preds})\n",
    "result.fillna('s_666').to_csv('wifi_baseline.csv',index=None) #随便填的 这里还能提高不少"
   ]
  }
 ],
 "metadata": {
  "kernelspec": {
   "display_name": "Python 3",
   "language": "python",
   "name": "python3"
  },
  "language_info": {
   "codemirror_mode": {
    "name": "ipython",
    "version": 3
   },
   "file_extension": ".py",
   "mimetype": "text/x-python",
   "name": "python",
   "nbconvert_exporter": "python",
   "pygments_lexer": "ipython3",
   "version": "3.5.4"
  }
 },
 "nbformat": 4,
 "nbformat_minor": 2
}
