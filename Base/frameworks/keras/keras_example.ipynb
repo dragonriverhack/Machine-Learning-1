{
 "cells": [
  {
   "cell_type": "markdown",
   "metadata": {},
   "source": [
    "### [keras官网](https://keras.io/getting-started/sequential-model-guide/)"
   ]
  },
  {
   "cell_type": "code",
   "execution_count": 4,
   "metadata": {},
   "outputs": [
    {
     "name": "stdout",
     "output_type": "stream",
     "text": [
      "Epoch 1/20\n",
      "1000/1000 [==============================] - 0s - loss: 0.7340 - acc: 0.4990     \n",
      "Epoch 2/20\n",
      "1000/1000 [==============================] - 0s - loss: 0.7174 - acc: 0.4950     \n",
      "Epoch 3/20\n",
      "1000/1000 [==============================] - 0s - loss: 0.6987 - acc: 0.5190     \n",
      "Epoch 4/20\n",
      "1000/1000 [==============================] - 0s - loss: 0.6970 - acc: 0.5290     \n",
      "Epoch 5/20\n",
      "1000/1000 [==============================] - 0s - loss: 0.7084 - acc: 0.4970     \n",
      "Epoch 6/20\n",
      "1000/1000 [==============================] - 0s - loss: 0.7028 - acc: 0.5120     \n",
      "Epoch 7/20\n",
      "1000/1000 [==============================] - 0s - loss: 0.7021 - acc: 0.5210     \n",
      "Epoch 8/20\n",
      "1000/1000 [==============================] - 0s - loss: 0.7003 - acc: 0.4990     \n",
      "Epoch 9/20\n",
      "1000/1000 [==============================] - 0s - loss: 0.6976 - acc: 0.4910     \n",
      "Epoch 10/20\n",
      "1000/1000 [==============================] - 0s - loss: 0.6949 - acc: 0.5240     \n",
      "Epoch 11/20\n",
      "1000/1000 [==============================] - 0s - loss: 0.7023 - acc: 0.4930     \n",
      "Epoch 12/20\n",
      "1000/1000 [==============================] - 0s - loss: 0.6901 - acc: 0.5400     \n",
      "Epoch 13/20\n",
      "1000/1000 [==============================] - 0s - loss: 0.6972 - acc: 0.5150     \n",
      "Epoch 14/20\n",
      "1000/1000 [==============================] - 0s - loss: 0.6950 - acc: 0.4980     \n",
      "Epoch 15/20\n",
      "1000/1000 [==============================] - 0s - loss: 0.6877 - acc: 0.5260     \n",
      "Epoch 16/20\n",
      "1000/1000 [==============================] - 0s - loss: 0.6944 - acc: 0.5140     \n",
      "Epoch 17/20\n",
      "1000/1000 [==============================] - 0s - loss: 0.6926 - acc: 0.5380     \n",
      "Epoch 18/20\n",
      "1000/1000 [==============================] - 0s - loss: 0.6957 - acc: 0.5110     \n",
      "Epoch 19/20\n",
      "1000/1000 [==============================] - 0s - loss: 0.6912 - acc: 0.5250     \n",
      "Epoch 20/20\n",
      "1000/1000 [==============================] - 0s - loss: 0.6918 - acc: 0.5070     \n",
      "100/100 [==============================] - 0s\n"
     ]
    }
   ],
   "source": [
    "import numpy as np\n",
    "from keras.models import Sequential\n",
    "from keras.layers import Dense, Dropout\n",
    "\n",
    "# Generate dummy data\n",
    "x_train = np.random.random((1000, 20))\n",
    "y_train = np.random.randint(2, size=(1000, 1))\n",
    "x_test = np.random.random((100, 20))\n",
    "y_test = np.random.randint(2, size=(100, 1))\n",
    "\n",
    "model = Sequential()\n",
    "model.add(Dense(64, input_dim=20, activation='relu'))\n",
    "model.add(Dropout(0.5))\n",
    "model.add(Dense(64, activation='relu'))\n",
    "model.add(Dropout(0.5))\n",
    "model.add(Dense(1, activation='sigmoid'))\n",
    "\n",
    "model.compile(loss='binary_crossentropy',\n",
    "              optimizer='rmsprop',\n",
    "              metrics=['accuracy'])\n",
    "\n",
    "model.fit(x_train, y_train,\n",
    "          epochs=20,\n",
    "          batch_size=128)\n",
    "score = model.evaluate(x_test, y_test, batch_size=128)"
   ]
  },
  {
   "cell_type": "code",
   "execution_count": null,
   "metadata": {
    "collapsed": true
   },
   "outputs": [],
   "source": []
  }
 ],
 "metadata": {
  "kernelspec": {
   "display_name": "Python 3",
   "language": "python",
   "name": "python3"
  },
  "language_info": {
   "codemirror_mode": {
    "name": "ipython",
    "version": 3
   },
   "file_extension": ".py",
   "mimetype": "text/x-python",
   "name": "python",
   "nbconvert_exporter": "python",
   "pygments_lexer": "ipython3",
   "version": "3.5.4"
  }
 },
 "nbformat": 4,
 "nbformat_minor": 2
}
