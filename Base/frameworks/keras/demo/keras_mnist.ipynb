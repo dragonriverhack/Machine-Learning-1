{
 "cells": [
  {
   "cell_type": "code",
   "execution_count": 1,
   "metadata": {},
   "outputs": [
    {
     "data": {
      "image/png": "[encoded data removed]",
      "text/plain": [
       "<matplotlib.figure.Figure at 0x20064408a58>"
      ]
     },
     "metadata": {},
     "output_type": "display_data"
    }
   ],
   "source": [
    "import numpy as np\n",
    "import struct\n",
    "import matplotlib.pyplot as plt\n",
    "\n",
    "\n",
    "def readfile(path1,path2):\n",
    "    with open(path1,'rb') as f1:\n",
    "        buf1 = f1.read()\n",
    "    with open(path2,'rb') as f2:\n",
    "        buf2 = f2.read()\n",
    "    return buf1, buf2\n",
    "\n",
    "def get_image(buf1,m):\n",
    "    image_index = 0\n",
    "    image_index += struct.calcsize('>IIII')\n",
    "    im = []\n",
    "    for _ in range(m):\n",
    "        temp = struct.unpack_from('>784B', buf1, image_index) # '>784B'的意思就是用大端法读取784个unsigned byte\n",
    "        im.append(np.reshape(temp,(28, 28)))\n",
    "        image_index += struct.calcsize('>784B')  # 每次增加784B\n",
    "    return im\n",
    "\n",
    "def get_label(buf2,m): # 得到标签数据\n",
    "    label_index = 0\n",
    "    label_index += struct.calcsize('>II')\n",
    "    return struct.unpack_from('>'+str(m)+'B', buf2, label_index)\n",
    "\n",
    "image_data, label_data = readfile(r'MNIST_data\\train-images.idx3-ubyte',r'MNIST_data\\train-labels.idx1-ubyte')\n",
    "im = get_image(image_data,60000)\n",
    "label = get_label(label_data,60000)\n",
    "\n",
    "plt.subplot(1, 1, 1)\n",
    "title = u\"标签对应为：\"+ str(label[0])\n",
    "plt.title(title, fontproperties='SimHei')\n",
    "plt.imshow(im[0], cmap='gray')\n",
    "plt.show()"
   ]
  },
  {
   "cell_type": "code",
   "execution_count": 2,
   "metadata": {
    "collapsed": true
   },
   "outputs": [],
   "source": [
    "data_test, label_test = readfile(r'MNIST_data\\t10k-images.idx3-ubyte',r'MNIST_data\\t10k-labels.idx1-ubyte')\n",
    "im_test = get_image(image_data,10000)\n",
    "label_test = get_label(label_data,10000)"
   ]
  },
  {
   "cell_type": "code",
   "execution_count": 3,
   "metadata": {},
   "outputs": [
    {
     "name": "stderr",
     "output_type": "stream",
     "text": [
      "Using TensorFlow backend.\n"
     ]
    },
    {
     "name": "stdout",
     "output_type": "stream",
     "text": [
      "(60000, 10)\n",
      "[ 0.  0.  0.  0.  0.  1.  0.  0.  0.  0.] [ 0.  0.  0.  0.  0.  1.  0.  0.  0.  0.]\n"
     ]
    }
   ],
   "source": [
    "import numpy as np\n",
    "import keras\n",
    "from keras import backend as K\n",
    "\n",
    "x_train = np.array(im)\n",
    "y_train = np.array(label)\n",
    "\n",
    "x_test = np.array(im_test)\n",
    "y_test = np.array(label_test)\n",
    "\n",
    "x_train = x_train.reshape(x_train.shape[0], 28,28, 1) #喂进去是一个四维张量，还有通道值\n",
    "x_test = x_test.reshape(x_test.shape[0], 28,28, 1)\n",
    "\n",
    "    \n",
    "# 把数值类标签转为10维向量，标签对应位为1其余为0\n",
    "y_train = keras.utils.np_utils.to_categorical(y_train, 10)\n",
    "y_test = keras.utils.np_utils.to_categorical(y_test, 10)\n",
    "print(y_train.shape)\n",
    "print(y_train[0],y_test[0])"
   ]
  },
  {
   "cell_type": "code",
   "execution_count": 4,
   "metadata": {},
   "outputs": [
    {
     "name": "stdout",
     "output_type": "stream",
     "text": [
      "x_train shape: (60000, 28, 28, 1)\n",
      "60000 train samples\n",
      "10000 test samples\n",
      "Train on 60000 samples, validate on 10000 samples\n",
      "Epoch 1/1\n",
      "60000/60000 [==============================] - 210s - loss: 0.5154 - acc: 0.8250 - val_loss: 0.0935 - val_acc: 0.9712\n",
      "Test loss: 0.0935047982499\n",
      "Test accuracy: 0.9712\n"
     ]
    }
   ],
   "source": [
    "from keras.models import Sequential\n",
    "from keras.layers import Dense, Dropout, Flatten\n",
    "from keras.layers import Conv2D, MaxPooling2D\n",
    "from keras.optimizers import SGD\n",
    "\n",
    "#把数据变成float32更精确\n",
    "x_train = x_train.astype('float32')\n",
    "x_test = x_test.astype('float32')\n",
    "x_train /= 255\n",
    "x_test /= 255\n",
    "print('x_train shape:', x_train.shape)\n",
    "print(x_train.shape[0], 'train samples')\n",
    "print(x_test.shape[0], 'test samples')\n",
    "\n",
    "model = Sequential()\n",
    "\n",
    "# this applies 32 convolution filters of size 3x3 each.\n",
    "model.add(Conv2D(32, (3, 3), activation='relu', input_shape=(28,28,1)))\n",
    "model.add(Conv2D(64, (3, 3), activation='relu'))\n",
    "model.add(MaxPooling2D(pool_size=(2, 2)))\n",
    "model.add(Dropout(0.25))\n",
    "\n",
    "model.add(Conv2D(64, (3, 3), activation='relu'))\n",
    "model.add(Conv2D(64, (3, 3), activation='relu'))\n",
    "model.add(MaxPooling2D(pool_size=(2, 2)))\n",
    "model.add(Dropout(0.25))\n",
    "\n",
    "model.add(Flatten())\n",
    "model.add(Dense(256, activation='relu'))\n",
    "model.add(Dropout(0.5))\n",
    "model.add(Dense(10, activation='softmax'))\n",
    "\n",
    "sgd = SGD(lr=0.01, decay=1e-6, momentum=0.9, nesterov=True)\n",
    "model.compile(loss='categorical_crossentropy', optimizer=sgd,metrics=['accuracy'])\n",
    "\n",
    "model.fit(x_train, y_train, batch_size=128, epochs=1,\n",
    "         verbose=1, validation_data=(x_test, y_test))\n",
    "score = model.evaluate(x_test, y_test, batch_size=32,verbose=0)\n",
    "print('Test loss:', score[0])\n",
    "print('Test accuracy:', score[1])"
   ]
  },
  {
   "cell_type": "code",
   "execution_count": 7,
   "metadata": {},
   "outputs": [],
   "source": [
    "from keras.models import load_model\n",
    "import h5py\n",
    "#需要先pip install cython  再安装h5py  这里才可以运行\n",
    "\n",
    "model.save('my_model_mnist.h5')  # creates a HDF5 file 'my_model.h5'\n",
    "del model  # deletes the existing model\n",
    "\n",
    "# returns a compiled model\n",
    "# identical to the previous one\n",
    "model2 = load_model('my_model_mnist.h5')\n"
   ]
  },
  {
   "cell_type": "code",
   "execution_count": 8,
   "metadata": {},
   "outputs": [
    {
     "data": {
      "image/png": "[encoded data removed]",
      "text/plain": [
       "<matplotlib.figure.Figure at 0x20005953a58>"
      ]
     },
     "metadata": {},
     "output_type": "display_data"
    },
    {
     "name": "stdout",
     "output_type": "stream",
     "text": [
      "3\n"
     ]
    },
    {
     "data": {
      "image/png": "[encoded data removed]",
      "text/plain": [
       "<matplotlib.figure.Figure at 0x20005b14780>"
      ]
     },
     "metadata": {},
     "output_type": "display_data"
    },
    {
     "name": "stdout",
     "output_type": "stream",
     "text": [
      "8\n"
     ]
    }
   ],
   "source": [
    "import matplotlib.pyplot as plt # plt 用于显示图片\n",
    "import matplotlib.image as mpimg # mpimg 用于读取图片\n",
    "import numpy as np\n",
    "\n",
    "def simglePre(path):\n",
    "    img = mpimg.imread(path) # 读取和代码处于同一目录下的 lena.png\n",
    "    # 此时img就已经是一个 np.array 了，可以对它进行任意处理\n",
    "    from scipy import misc\n",
    "    small_img = misc.imresize(img, (28,28)) # 第二个参数如果是整数，则为百分比，如果是tuple，则为输出图像的尺寸\n",
    "    def rgb2gray(rgb):\n",
    "        return np.dot(rgb[...,:3], [0.299, 0.587, 0.114])\n",
    "    gray = rgb2gray(small_img)    \n",
    "    plt.imshow(gray,cmap='Greys_r') # 显示图片\n",
    "    plt.axis('off') # 不显示坐标轴\n",
    "    plt.show()\n",
    "\n",
    "    x_single = gray\n",
    "    x_single = x_single.reshape(1,28,28,1)\n",
    "    return np.argmax(model2.predict(x_single, batch_size=1, verbose=0))\n",
    "\n",
    "\n",
    "print(simglePre(r'F:\\data\\3.png'))\n",
    "print(simglePre(r'F:\\data\\8.png'))"
   ]
  },
  {
   "cell_type": "code",
   "execution_count": null,
   "metadata": {
    "collapsed": true
   },
   "outputs": [],
   "source": []
  }
 ],
 "metadata": {
  "kernelspec": {
   "display_name": "Python 3",
   "language": "python",
   "name": "python3"
  },
  "language_info": {
   "codemirror_mode": {
    "name": "ipython",
    "version": 3
   },
   "file_extension": ".py",
   "mimetype": "text/x-python",
   "name": "python",
   "nbconvert_exporter": "python",
   "pygments_lexer": "ipython3",
   "version": "3.5.4"
  }
 },
 "nbformat": 4,
 "nbformat_minor": 2
}
