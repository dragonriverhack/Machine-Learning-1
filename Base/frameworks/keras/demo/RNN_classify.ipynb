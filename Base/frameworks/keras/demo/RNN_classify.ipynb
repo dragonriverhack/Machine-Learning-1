{
 "cells": [
  {
   "cell_type": "code",
   "execution_count": 16,
   "metadata": {},
   "outputs": [
    {
     "data": {
      "image/png": "[encoded data removed]",
      "text/plain": [
       "<matplotlib.figure.Figure at 0x24f9870dc50>"
      ]
     },
     "metadata": {},
     "output_type": "display_data"
    },
    {
     "name": "stdout",
     "output_type": "stream",
     "text": [
      "(60000, 10)\n",
      "[ 0.  0.  0.  0.  0.  1.  0.  0.  0.  0.] [ 0.  0.  0.  0.  0.  1.  0.  0.  0.  0.]\n"
     ]
    }
   ],
   "source": [
    "import numpy as np\n",
    "import struct\n",
    "import matplotlib.pyplot as plt\n",
    "\n",
    "\n",
    "def readfile(path1,path2):\n",
    "    with open(path1,'rb') as f1:\n",
    "        buf1 = f1.read()\n",
    "    with open(path2,'rb') as f2:\n",
    "        buf2 = f2.read()\n",
    "    return buf1, buf2\n",
    "\n",
    "def get_image(buf1,m):\n",
    "    image_index = 0\n",
    "    image_index += struct.calcsize('>IIII')\n",
    "    im = []\n",
    "    for _ in range(m):\n",
    "        temp = struct.unpack_from('>784B', buf1, image_index) # '>784B'的意思就是用大端法读取784个unsigned byte\n",
    "        im.append(np.reshape(temp,(28, 28)))\n",
    "        image_index += struct.calcsize('>784B')  # 每次增加784B\n",
    "    return im\n",
    "\n",
    "def get_label(buf2,m): # 得到标签数据\n",
    "    label_index = 0\n",
    "    label_index += struct.calcsize('>II')\n",
    "    return struct.unpack_from('>'+str(m)+'B', buf2, label_index)\n",
    "\n",
    "image_data, label_data = readfile(r'MNIST_data\\train-images.idx3-ubyte',r'MNIST_data\\train-labels.idx1-ubyte')\n",
    "im = get_image(image_data,60000)\n",
    "label = get_label(label_data,60000)\n",
    "\n",
    "plt.subplot(1, 1, 1)\n",
    "title = u\"标签对应为：\"+ str(label[0])\n",
    "plt.title(title, fontproperties='SimHei')\n",
    "plt.imshow(im[0], cmap='gray')\n",
    "plt.show()\n",
    "\n",
    "\n",
    "data_test, label_test = readfile(r'MNIST_data\\t10k-images.idx3-ubyte',r'MNIST_data\\t10k-labels.idx1-ubyte')\n",
    "im_test = get_image(image_data,10000)\n",
    "label_test = get_label(label_data,10000)\n",
    "\n",
    "\n",
    "import numpy as np\n",
    "import keras\n",
    "from keras import backend as K\n",
    "\n",
    "x_train = np.array(im)\n",
    "y_train = np.array(label)\n",
    "\n",
    "x_test = np.array(im_test)\n",
    "y_test = np.array(label_test)\n",
    "\n",
    "x_train = x_train.reshape(x_train.shape[0], 28,28) #喂进去是一个四维张量，还有通道值\n",
    "x_test = x_test.reshape(x_test.shape[0], 28,28)\n",
    "\n",
    "    \n",
    "# 把数值类标签转为10维向量，标签对应位为1其余为0\n",
    "y_train = keras.utils.np_utils.to_categorical(y_train, 10)\n",
    "y_test = keras.utils.np_utils.to_categorical(y_test, 10)\n",
    "print(y_train.shape)\n",
    "print(y_train[0],y_test[0])"
   ]
  },
  {
   "cell_type": "code",
   "execution_count": 30,
   "metadata": {},
   "outputs": [
    {
     "name": "stdout",
     "output_type": "stream",
     "text": [
      "Train on 60000 samples, validate on 10000 samples\n",
      "Epoch 1/2\n",
      "60000/60000 [==============================] - 21s - loss: 1.3883 - acc: 0.4842 - val_loss: 1.3156 - val_acc: 0.5114\n",
      "Epoch 2/2\n",
      "60000/60000 [==============================] - 21s - loss: 1.3106 - acc: 0.5039 - val_loss: 1.3261 - val_acc: 0.5073\n",
      "Test loss: 1.32613546696\n",
      "Test accuracy: 0.5073\n"
     ]
    }
   ],
   "source": [
    "from keras.models import Sequential\n",
    "from keras.layers.recurrent import SimpleRNN\n",
    "from keras.layers import Dense, Dropout, Flatten,Activation\n",
    "from keras.optimizers import SGD\n",
    "\n",
    "# build RNN model\n",
    "model = Sequential()\n",
    "\n",
    "# RNN cell\n",
    "model.add(SimpleRNN(\n",
    "    # for batch_input_shape, if using tensorflow as the backend, we have to put None for the batch_size.\n",
    "    # Otherwise, model.evaluate() will get error.\n",
    "    batch_input_shape=(None, 28, 28),       # Or: input_dim=INPUT_SIZE, input_length=TIME_STEPS,\n",
    "    units=200,\n",
    "    unroll=True,\n",
    "))\n",
    "\n",
    "# output layer\n",
    "model.add(Dense(10))\n",
    "model.add(Activation('softmax'))\n",
    "\n",
    "sgd = SGD(lr=0.01, decay=1e-6, momentum=0.9, nesterov=True)\n",
    "model.compile(loss='categorical_crossentropy', optimizer=sgd,metrics=['accuracy'])\n",
    "model.fit(x_train, y_train, batch_size=128, epochs=2,\n",
    "         verbose=1, validation_data=(x_test, y_test))\n",
    "score = model.evaluate(x_test, y_test, batch_size=32,verbose=0)\n",
    "print('Test loss:', score[0])\n",
    "print('Test accuracy:', score[1])"
   ]
  },
  {
   "cell_type": "code",
   "execution_count": 43,
   "metadata": {},
   "outputs": [
    {
     "name": "stdout",
     "output_type": "stream",
     "text": [
      "[3 0 4 1 9 2 1 3 4 1]\n",
      "[[ 0.10614084  0.0117702   0.048769    0.55958241  0.00230638  0.13111624\n",
      "   0.00115699  0.00478396  0.13066609  0.00370782]\n",
      " [ 0.29581049  0.05182849  0.10653934  0.15353316  0.00222519  0.17260253\n",
      "   0.0065907   0.00093372  0.20908743  0.00084893]\n",
      " [ 0.00393975  0.01677148  0.03092736  0.0117751   0.67002207  0.01426596\n",
      "   0.00102727  0.02264348  0.07161984  0.15700772]]\n"
     ]
    }
   ],
   "source": [
    "print(np.argmax(model.predict(x_test[:10]),axis=1))\n",
    "print(model.predict(x_test[:3]))"
   ]
  },
  {
   "cell_type": "code",
   "execution_count": 44,
   "metadata": {},
   "outputs": [
    {
     "name": "stdout",
     "output_type": "stream",
     "text": [
      "[5 0 4 1 9 2 1 3 1 4]\n",
      "[[ 0.  0.  0.  0.  0.  1.  0.  0.  0.  0.]\n",
      " [ 1.  0.  0.  0.  0.  0.  0.  0.  0.  0.]\n",
      " [ 0.  0.  0.  0.  1.  0.  0.  0.  0.  0.]]\n"
     ]
    }
   ],
   "source": [
    "print(np.argmax(y_test[:10],axis=1))\n",
    "print(y_test[:3])"
   ]
  },
  {
   "cell_type": "code",
   "execution_count": null,
   "metadata": {},
   "outputs": [],
   "source": []
  },
  {
   "cell_type": "code",
   "execution_count": null,
   "metadata": {},
   "outputs": [],
   "source": []
  }
 ],
 "metadata": {
  "kernelspec": {
   "display_name": "Python 3",
   "language": "python",
   "name": "python3"
  },
  "language_info": {
   "codemirror_mode": {
    "name": "ipython",
    "version": 3
   },
   "file_extension": ".py",
   "mimetype": "text/x-python",
   "name": "python",
   "nbconvert_exporter": "python",
   "pygments_lexer": "ipython3",
   "version": "3.5.4"
  }
 },
 "nbformat": 4,
 "nbformat_minor": 2
}
