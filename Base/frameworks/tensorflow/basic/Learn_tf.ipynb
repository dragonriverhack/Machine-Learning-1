{
 "cells": [
  {
   "cell_type": "code",
   "execution_count": 1,
   "metadata": {
    "collapsed": true
   },
   "outputs": [],
   "source": [
    "import tensorflow as tf\n",
    "import numpy as np"
   ]
  },
  {
   "cell_type": "markdown",
   "metadata": {},
   "source": [
    "## 1.默认图与图的构造"
   ]
  },
  {
   "cell_type": "code",
   "execution_count": 49,
   "metadata": {},
   "outputs": [
    {
     "name": "stdout",
     "output_type": "stream",
     "text": [
      "[3. 5.] [3. 5.]\n"
     ]
    }
   ],
   "source": [
    "a = tf.constant([1,2],name='a',dtype='float32')\n",
    "b = tf.Variable([2.0,3.0],name='b')\n",
    "result1 = tf.add_n([a , b],name=\"add1\")#add_n 把一个列表的东西都依次加起来\n",
    "result2 = tf.add(a , b)\n",
    "with tf.Session() as sess:\n",
    "    tf.global_variables_initializer().run()\n",
    "    print(sess.run(result1),sess.run(result2))"
   ]
  },
  {
   "cell_type": "code",
   "execution_count": 41,
   "metadata": {},
   "outputs": [
    {
     "name": "stdout",
     "output_type": "stream",
     "text": [
      "<tensorflow.python.framework.ops.Graph object at 0x181514e080>\n",
      "<tensorflow.python.framework.ops.Graph object at 0x181514e080>\n"
     ]
    }
   ],
   "source": [
    "print(a.graph)\n",
    "print(tf.get_default_graph())"
   ]
  },
  {
   "cell_type": "code",
   "execution_count": 4,
   "metadata": {},
   "outputs": [
    {
     "name": "stdout",
     "output_type": "stream",
     "text": [
      "<tensorflow.python.framework.ops.Graph object at 0x1820775400>\n"
     ]
    },
    {
     "data": {
      "text/plain": [
       "<tensorflow.python.framework.ops.Graph at 0x1820775a90>"
      ]
     },
     "execution_count": 4,
     "metadata": {},
     "output_type": "execute_result"
    }
   ],
   "source": [
    "v = tf.get_variable(\"v\",shape=[2],initializer=tf.ones_initializer)\n",
    "g1 = tf.Graph()\n",
    "with g1.as_default():\n",
    "    v = tf.get_variable(\"v\",shape=[1],initializer=tf.ones_initializer)\n",
    "\n",
    "print(v.graph)\n",
    "tf.get_default_graph()"
   ]
  },
  {
   "cell_type": "code",
   "execution_count": 5,
   "metadata": {},
   "outputs": [
    {
     "name": "stdout",
     "output_type": "stream",
     "text": [
      "[1. 1.]\n"
     ]
    }
   ],
   "source": [
    "with tf.Session() as sess:\n",
    "    tf.global_variables_initializer().run()\n",
    "    with tf.variable_scope(\"\",reuse=True):  #https://blog.csdn.net/IB_H20/article/details/72936574\n",
    "        print(sess.run(tf.get_variable(\"v\")))"
   ]
  },
  {
   "cell_type": "code",
   "execution_count": 6,
   "metadata": {},
   "outputs": [
    {
     "name": "stdout",
     "output_type": "stream",
     "text": [
      "[1.]\n"
     ]
    }
   ],
   "source": [
    "with tf.Session(graph=g1) as sess:\n",
    "    tf.global_variables_initializer().run()\n",
    "    with tf.variable_scope(\"\",reuse=True):\n",
    "        print(sess.run(tf.get_variable(\"v\")))"
   ]
  },
  {
   "cell_type": "markdown",
   "metadata": {},
   "source": [
    "## 2.try 拼接placeholder"
   ]
  },
  {
   "cell_type": "code",
   "execution_count": 8,
   "metadata": {},
   "outputs": [
    {
     "name": "stdout",
     "output_type": "stream",
     "text": [
      "[[4. 4. 6.]\n",
      " [6. 6. 8.]]\n",
      "[[ 8.  8. 10.]\n",
      " [10. 10. 12.]]\n"
     ]
    }
   ],
   "source": [
    "#tf.where tf.greater\n",
    "data1 = np.array([[1,2,3],\n",
    "                  [2,3,4],\n",
    "                  [3,4,5],\n",
    "                  [4,5,6]])\n",
    "data2 = np.array([[2,2,2],\n",
    "                  [3,3,3],\n",
    "                  [4,4,4],\n",
    "                  [5,5,5]])\n",
    "\n",
    "batchsize = 2\n",
    "features = 3\n",
    "\n",
    "input1 = tf.placeholder(tf.float32,shape=(batchsize,features),name='input1')\n",
    "input2 = tf.placeholder(tf.float32,shape=(batchsize,features),name='input2')\n",
    "\n",
    "#操作\n",
    "data_add = tf.add(input1,input2)\n",
    "data_mean = tf.reduce_mean(data_add,reduction_indices=1)\n",
    "data_mean_re = tf.reshape(data_mean,[batchsize,1]) \n",
    "data_mean_f = tf.div(data_mean_re,2)\n",
    "#data_mean_f = tf.concat(1, [data_mean, data_mean,data_mean])\n",
    "\n",
    "data_chose = tf.greater(input1,data_mean_f)\n",
    "data_final = tf.where(data_chose,input1,input2)\n",
    "#基本test\n",
    "output = data_final*2\n",
    "\n",
    "fd_shape = input1.get_shape()\n",
    "with tf.Session() as sess:\n",
    "    for i in range(2):\n",
    "        print(sess.run(output,\n",
    "                       feed_dict={input1:data1[i*batchsize:(i+1)*batchsize,:],\n",
    "                                  input2:data2[i*batchsize:(i+1)*batchsize,:]}))"
   ]
  },
  {
   "cell_type": "markdown",
   "metadata": {},
   "source": [
    "## 3.tensorboard的使用"
   ]
  },
  {
   "cell_type": "code",
   "execution_count": 63,
   "metadata": {
    "collapsed": true
   },
   "outputs": [],
   "source": [
    "tf.reset_default_graph()"
   ]
  },
  {
   "cell_type": "code",
   "execution_count": 3,
   "metadata": {},
   "outputs": [
    {
     "name": "stdout",
     "output_type": "stream",
     "text": [
      "done\n"
     ]
    }
   ],
   "source": [
    "\n",
    "writer = tf.summary.FileWriter(\"/Users/fire/A\",tf.get_default_graph())\n",
    "writer\n",
    "writer.close()\n",
    "print('done')\n",
    "# 然后命令后运行:tensorboard --logdir=/Users/fire/A   =>http://localhost:6006/"
   ]
  },
  {
   "cell_type": "code",
   "execution_count": null,
   "metadata": {
    "collapsed": true
   },
   "outputs": [],
   "source": []
  }
 ],
 "metadata": {
  "kernelspec": {
   "display_name": "Python 3",
   "language": "python",
   "name": "python3"
  },
  "language_info": {
   "codemirror_mode": {
    "name": "ipython",
    "version": 3
   },
   "file_extension": ".py",
   "mimetype": "text/x-python",
   "name": "python",
   "nbconvert_exporter": "python",
   "pygments_lexer": "ipython3",
   "version": "3.6.2"
  }
 },
 "nbformat": 4,
 "nbformat_minor": 2
}
