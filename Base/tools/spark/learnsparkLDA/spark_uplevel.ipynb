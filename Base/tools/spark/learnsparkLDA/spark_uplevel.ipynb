{
 "cells": [
  {
   "cell_type": "markdown",
   "metadata": {},
   "source": [
    "# 共享变量:累加器和广播变量\n"
   ]
  },
  {
   "cell_type": "code",
   "execution_count": 2,
   "metadata": {
    "collapsed": true
   },
   "outputs": [],
   "source": [
    "import pyspark\n",
    "\n",
    "from pyspark import SparkConf,SparkContext"
   ]
  },
  {
   "cell_type": "code",
   "execution_count": 3,
   "metadata": {
    "collapsed": true
   },
   "outputs": [],
   "source": [
    "conf = SparkConf().setMaster(\"local\").setAppName(\"My APP\")\n",
    "sc = SparkContext(conf = conf)\n",
    "\n",
    "# 1.读取文本文件\n",
    "lines = sc.textFile('file:///Users/fire/jupyter/data/ball2018.txt')\n",
    "# 存储文本\n",
    "#lines.saveAsTextFile('file:///Users/fire/jupyter/data/ball20182.txt')"
   ]
  },
  {
   "cell_type": "markdown",
   "metadata": {},
   "source": [
    "### 累加器\n",
    "用法：\n",
    "1. 通过在驱动器中调用SparkContext.accumulator(initialValue)方法，创建出存有初始值的累加器。返回值为org.apache.spark.Accumulator[T]对象，其中T是初始值initialValue的类型。\n",
    "2. Spark闭包里的执行器代码可以使用累加器的+=方法增加累加器的值。\n",
    "3. 驱动器程序可以调用累加器的value属性来访问累加器的值。"
   ]
  },
  {
   "cell_type": "code",
   "execution_count": 27,
   "metadata": {},
   "outputs": [
    {
     "name": "stdout",
     "output_type": "stream",
     "text": [
      "Blank lines: 0\n"
     ]
    }
   ],
   "source": [
    "# 累加空行\n",
    "# 创建Accumulator[Int] 并初始化为0\n",
    "blankLines = sc.accumulator(0)\n",
    "\n",
    "def extractCallSigns(line):\n",
    "    global blankLines # 访问全局变量\n",
    "    if (line == \"\"):\n",
    "        blankLines += 1\n",
    "    return line.split(\" \")\n",
    "\n",
    "callSigns = lines.flatMap(extractCallSigns)\n",
    "callSigns.saveAsTextFile('file:///Users/fire/jupyter/data/' + \"/callsigns\")\n",
    "print(\"Blank lines: %d\" % blankLines.value)"
   ]
  },
  {
   "cell_type": "markdown",
   "metadata": {},
   "source": [
    "### 广播变量 \n",
    "广播变量可以让程序高效地向所有工作节点发送一个较大的只读值，以供一个或多个Spark操作使用。\n",
    "\n",
    "用法：\n",
    "1. 通过类型T的对象调用SparkContext.broadcast创建出一个Broadcast[T]对象。任何可以序列话的类型都可以这么实现。\n",
    "2. 通过value属性访问该对象的值。\n",
    "3. 变量只会被发到各个节点一次，应作为只读值处理（修改这个值不会影响到其他节点）。"
   ]
  },
  {
   "cell_type": "code",
   "execution_count": 29,
   "metadata": {},
   "outputs": [
    {
     "ename": "NameError",
     "evalue": "name 'loadCallSignTable' is not defined",
     "output_type": "error",
     "traceback": [
      "\u001b[0;31m---------------------------------------------------------------------------\u001b[0m",
      "\u001b[0;31mNameError\u001b[0m                                 Traceback (most recent call last)",
      "\u001b[0;32m<ipython-input-29-02d8a0e56561>\u001b[0m in \u001b[0;36m<module>\u001b[0;34m()\u001b[0m\n\u001b[1;32m      2\u001b[0m \u001b[0;31m# 查询RDD contactCounts中的呼号的对应位置。\u001b[0m\u001b[0;34m\u001b[0m\u001b[0;34m\u001b[0m\u001b[0m\n\u001b[1;32m      3\u001b[0m \u001b[0;31m# 将呼号前缀读取为国家代码来进行查询\u001b[0m\u001b[0;34m\u001b[0m\u001b[0;34m\u001b[0m\u001b[0m\n\u001b[0;32m----> 4\u001b[0;31m \u001b[0msignPrefixes\u001b[0m \u001b[0;34m=\u001b[0m \u001b[0msc\u001b[0m\u001b[0;34m.\u001b[0m\u001b[0mbroadcast\u001b[0m\u001b[0;34m(\u001b[0m\u001b[0mloadCallSignTable\u001b[0m\u001b[0;34m(\u001b[0m\u001b[0;34m)\u001b[0m\u001b[0;34m)\u001b[0m\u001b[0;34m\u001b[0m\u001b[0m\n\u001b[0m\u001b[1;32m      5\u001b[0m \u001b[0;34m\u001b[0m\u001b[0m\n\u001b[1;32m      6\u001b[0m \u001b[0;32mdef\u001b[0m \u001b[0mprocessSignCount\u001b[0m\u001b[0;34m(\u001b[0m\u001b[0msign_count\u001b[0m\u001b[0;34m,\u001b[0m \u001b[0msignPrefixes\u001b[0m\u001b[0;34m)\u001b[0m\u001b[0;34m:\u001b[0m\u001b[0;34m\u001b[0m\u001b[0m\n",
      "\u001b[0;31mNameError\u001b[0m: name 'loadCallSignTable' is not defined"
     ]
    }
   ],
   "source": [
    "#使用广播变量查询国家\n",
    "# 查询RDD contactCounts中的呼号的对应位置。\n",
    "# 将呼号前缀读取为国家代码来进行查询\n",
    "signPrefixes = sc.broadcast(loadCallSignTable())\n",
    "\n",
    "def processSignCount(sign_count, signPrefixes):\n",
    "    country = lookupCountry(sign_count[0], signPrefixes.value)\n",
    "    count = sign_count[1]\n",
    "    return (country, count)\n",
    "\n",
    "countryContactCounts = (contactCounts.map(processSignCount).reduceByKey((lambda x,y:x+y)))\n",
    "countryContactCounts.saveAsTextFile(outpitDir+\"/countries.txt\")"
   ]
  },
  {
   "cell_type": "markdown",
   "metadata": {},
   "source": [
    "### 基于分区进行操作\n",
    "避免为每个元素进行重复的配置工作"
   ]
  },
  {
   "cell_type": "code",
   "execution_count": 36,
   "metadata": {},
   "outputs": [],
   "source": [
    "# mapPartitions() 提供该分区中元素的迭代器，返回元素的迭代器\n",
    "# 不使用 mapPartitions 求平均值\n",
    "def combineCtrs(c1,c2):\n",
    "    return (c1[0]+c2[0],c1[1]+c2[1])\n",
    "\n",
    "def basicAvg(nums):\n",
    "    nums.map(lambda num:(num,1)).reduce(combineCtrs)\n",
    "\n",
    "nums = sc.parallelize([[1,2,3],[3,2,0]])\n",
    "#print(basicAvg(nums))  #Py4JJavaError\n",
    "# 使用 mapPartitions 求平均值\n",
    "def partitonCtr(nums):\n",
    "    #计算分区的sumCounter\n",
    "    sumCount = [0,0]\n",
    "    for num in nums:\n",
    "        sumCount[0] += num\n",
    "        sumCount[1] += 1\n",
    "    return [sumCount]\n",
    "\n",
    "def fastAvg(nums):\n",
    "    #计算平均值\n",
    "    sumCount = nums.mapPartitions(partitionCtr).reduce(combineCtrs)\n",
    "    return sumCount[0] / float(sumCount[1])"
   ]
  },
  {
   "cell_type": "markdown",
   "metadata": {},
   "source": [
    "### 数值RDD操作\n",
    "即RDD.count() .mean() .sum() .max() 等等。"
   ]
  },
  {
   "cell_type": "code",
   "execution_count": 38,
   "metadata": {},
   "outputs": [
    {
     "ename": "NameError",
     "evalue": "name 'distances' is not defined",
     "output_type": "error",
     "traceback": [
      "\u001b[0;31m---------------------------------------------------------------------------\u001b[0m",
      "\u001b[0;31mNameError\u001b[0m                                 Traceback (most recent call last)",
      "\u001b[0;32m<ipython-input-38-de82250e5541>\u001b[0m in \u001b[0;36m<module>\u001b[0;34m()\u001b[0m\n\u001b[1;32m      1\u001b[0m \u001b[0;31m# 移除异常值\u001b[0m\u001b[0;34m\u001b[0m\u001b[0;34m\u001b[0m\u001b[0m\n\u001b[1;32m      2\u001b[0m \u001b[0;31m# 需要吧string类型RDD转为数字类型\u001b[0m\u001b[0;34m\u001b[0m\u001b[0;34m\u001b[0m\u001b[0m\n\u001b[0;32m----> 3\u001b[0;31m \u001b[0mdistanceNumerics\u001b[0m \u001b[0;34m=\u001b[0m \u001b[0mdistances\u001b[0m\u001b[0;34m.\u001b[0m\u001b[0mmap\u001b[0m\u001b[0;34m(\u001b[0m\u001b[0;32mlambda\u001b[0m \u001b[0mstring\u001b[0m\u001b[0;34m:\u001b[0m\u001b[0mfloat\u001b[0m\u001b[0;34m(\u001b[0m\u001b[0mstring\u001b[0m\u001b[0;34m)\u001b[0m\u001b[0;34m)\u001b[0m\u001b[0;34m\u001b[0m\u001b[0m\n\u001b[0m\u001b[1;32m      4\u001b[0m \u001b[0mstats\u001b[0m \u001b[0;34m=\u001b[0m \u001b[0mdistanceNumerics\u001b[0m\u001b[0;34m.\u001b[0m\u001b[0mstats\u001b[0m\u001b[0;34m(\u001b[0m\u001b[0;34m)\u001b[0m\u001b[0;34m\u001b[0m\u001b[0m\n\u001b[1;32m      5\u001b[0m \u001b[0mstddev\u001b[0m \u001b[0;34m=\u001b[0m \u001b[0mstdts\u001b[0m\u001b[0;34m.\u001b[0m\u001b[0mstdev\u001b[0m\u001b[0;34m(\u001b[0m\u001b[0;34m)\u001b[0m\u001b[0;34m\u001b[0m\u001b[0m\n",
      "\u001b[0;31mNameError\u001b[0m: name 'distances' is not defined"
     ]
    }
   ],
   "source": [
    "# 移除异常值\n",
    "# 需要吧string类型RDD转为数字类型\n",
    "distanceNumerics = distances.map(lambda string:float(string))\n",
    "stats = distanceNumerics.stats()\n",
    "stddev = stdts.stdev()\n",
    "mean = stats.mean()\n",
    "reasonableDistances = distanceNumerics.filter(lambda x: math.fabs(x-mean)<3 *stddev)\n",
    "print(reasonableDistances.collect())"
   ]
  },
  {
   "cell_type": "code",
   "execution_count": null,
   "metadata": {
    "collapsed": true
   },
   "outputs": [],
   "source": []
  }
 ],
 "metadata": {
  "kernelspec": {
   "display_name": "Python 3",
   "language": "python",
   "name": "python3"
  },
  "language_info": {
   "codemirror_mode": {
    "name": "ipython",
    "version": 3
   },
   "file_extension": ".py",
   "mimetype": "text/x-python",
   "name": "python",
   "nbconvert_exporter": "python",
   "pygments_lexer": "ipython3",
   "version": "3.6.2"
  }
 },
 "nbformat": 4,
 "nbformat_minor": 2
}
