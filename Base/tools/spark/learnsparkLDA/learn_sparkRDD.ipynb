{
 "cells": [
  {
   "cell_type": "markdown",
   "metadata": {},
   "source": [
    "# RDD\n",
    "Spark对数据的核心抽象：RDD(Resilient Distributed Dataset)弹性分布式数据集，分布式的元素集合。\n",
    "\n",
    "#### 总的来说，每个spark程序都会按如下方式工作：\n",
    "1. 从外部数据创建出输入RDD（或者在程序中对一个集合并行化）\n",
    "2. 使用诸如filter()这样的转化操作对RDD进行转化，以定义新的RDD\n",
    "3. 告诉Spark对需要重用的中间结果RDD执行persist()操作\n",
    "4. 使用行动操作(例如count()和first()等)来触发一次并行计算，Spark会对计算进行优化后再执行"
   ]
  },
  {
   "cell_type": "code",
   "execution_count": 1,
   "metadata": {
    "collapsed": true
   },
   "outputs": [],
   "source": [
    "import pyspark\n",
    "\n",
    "from pyspark import SparkConf,SparkContext"
   ]
  },
  {
   "cell_type": "markdown",
   "metadata": {},
   "source": [
    "## 1.配置\n",
    "先创建一个SparkConf对象来配置应用，然后基于这个SparkConf创建一个SparkContext对象。\n",
    "\n",
    "关闭Spark可以调用SparkContext的stop()方法，或者直接退出应用（sys.exit()）"
   ]
  },
  {
   "cell_type": "code",
   "execution_count": 2,
   "metadata": {},
   "outputs": [
    {
     "data": {
      "text/plain": [
       "file:///Users/fire/jupyter/data/ball2018.txt MapPartitionsRDD[1] at textFile at NativeMethodAccessorImpl.java:0"
      ]
     },
     "execution_count": 2,
     "metadata": {},
     "output_type": "execute_result"
    }
   ],
   "source": [
    "conf = SparkConf().setMaster(\"local\").setAppName(\"My APP\")\n",
    "#只需要两个参数，一个集群URL，这里是local，这个特殊值可以单机运行\n",
    "#一个应用名，链接到一个集群时，可以在集群管理器的用户界面看到。\n",
    "sc = SparkContext(conf = conf)\n",
    "\n",
    "lines = sc.textFile('file:///Users/fire/jupyter/data/ball2018.txt')\n",
    "#使用相对路径时，系统默认是从hdfs://localhost:9000/目录下读取 文件的，\n",
    "#但是 文件并不在这一目录下，所以sc.textFile()必须使用绝对路径，\n",
    "lines"
   ]
  },
  {
   "cell_type": "markdown",
   "metadata": {},
   "source": [
    "## 2.创建RDD"
   ]
  },
  {
   "cell_type": "code",
   "execution_count": 3,
   "metadata": {},
   "outputs": [
    {
     "data": {
      "text/plain": [
       "'pandas'"
      ]
     },
     "execution_count": 3,
     "metadata": {},
     "output_type": "execute_result"
    }
   ],
   "source": [
    "# 1中展示了从外部读取数据来创建RDD，这里展示直接对一个集合并行化。\n",
    "lines2 = sc.parallelize([\"pandas\",\"i like pandas\"])\n",
    "lines2.first()"
   ]
  },
  {
   "cell_type": "markdown",
   "metadata": {},
   "source": [
    "## 3.RDD操作\n",
    "RDD支持两类操作：\n",
    "* 转化: 返回一个新的RDD。比如map(),filter()。\n",
    "    \n",
    "* 行动: 向驱动器程序返回结果或者把结果写入外部系统，会触发实际的计算。比如count(),first().\n",
    "\n",
    "##### NOTE\n",
    "1. 转化操作都是惰性求值的（类似tf的计算图），但可以随时运行一个行动操作强制执行。\n",
    "2. 每当调用一个新的行动操作时，整个RDD都会从头开始计算。避免这种行为，将中间结果持久化。\n",
    "3. RDD.unpersist()方法可以手动把持久化的RDD从缓存移除。"
   ]
  },
  {
   "cell_type": "code",
   "execution_count": 4,
   "metadata": {},
   "outputs": [
    {
     "data": {
      "text/plain": [
       "PythonRDD[4] at RDD at PythonRDD.scala:49"
      ]
     },
     "execution_count": 4,
     "metadata": {},
     "output_type": "execute_result"
    }
   ],
   "source": [
    "linespy = lines.filter(lambda line:\"2018011\" in line)\n",
    "linespy"
   ]
  },
  {
   "cell_type": "code",
   "execution_count": 5,
   "metadata": {},
   "outputs": [
    {
     "data": {
      "text/plain": [
       "'2018011 2018.01.25  03102123273311  336871794   8注7356371元  138注170751元 奖池:4亿   详情走势'"
      ]
     },
     "execution_count": 5,
     "metadata": {},
     "output_type": "execute_result"
    }
   ],
   "source": [
    "linespy.first()"
   ]
  },
  {
   "cell_type": "code",
   "execution_count": 6,
   "metadata": {},
   "outputs": [
    {
     "data": {
      "text/plain": [
       "PythonRDD[4] at RDD at PythonRDD.scala:49"
      ]
     },
     "execution_count": 6,
     "metadata": {},
     "output_type": "execute_result"
    }
   ],
   "source": [
    "#RDD.persist() 缓存下来以持久化重用\n",
    "linespy.persist()\n",
    "#linespy.count() 报错 先不管了"
   ]
  },
  {
   "cell_type": "code",
   "execution_count": 10,
   "metadata": {},
   "outputs": [],
   "source": [
    "#### 计算RDD各值平方 \n",
    "\n",
    "#单机本地会报错 和count一样\n",
    "# nums = sc.parallelize([1,2,3,4])\n",
    "# squred = nums.map(lambda x:x*x).collect()\n",
    "# for nums in squred:\n",
    "#     print(nums)"
   ]
  },
  {
   "cell_type": "code",
   "execution_count": 11,
   "metadata": {},
   "outputs": [
    {
     "data": {
      "text/plain": [
       "'hello'"
      ]
     },
     "execution_count": 11,
     "metadata": {},
     "output_type": "execute_result"
    }
   ],
   "source": [
    "#### 将数据切分为单词\n",
    "lines3 = sc.parallelize([\"hello world\",\"hi\"])\n",
    "words = lines3.flatMap(lambda line: line.split(\" \"))\n",
    "words.first()"
   ]
  },
  {
   "cell_type": "markdown",
   "metadata": {},
   "source": [
    "# 4.向RDD传递函数\n",
    "注意！会把函数所在对象也序列化传出去，所以引用类里的函数，不要直接return处理self.x的，先赋值x = self.x再处理。"
   ]
  },
  {
   "cell_type": "code",
   "execution_count": 7,
   "metadata": {},
   "outputs": [
    {
     "data": {
      "text/plain": [
       "PythonRDD[6] at RDD at PythonRDD.scala:49"
      ]
     },
     "execution_count": 7,
     "metadata": {},
     "output_type": "execute_result"
    }
   ],
   "source": [
    "def contains(s):\n",
    "    return \"2018011\" in s\n",
    "word = lines.filter(contains)\n",
    "word"
   ]
  },
  {
   "cell_type": "code",
   "execution_count": null,
   "metadata": {
    "collapsed": true
   },
   "outputs": [],
   "source": []
  }
 ],
 "metadata": {
  "kernelspec": {
   "display_name": "Python 3",
   "language": "python",
   "name": "python3"
  },
  "language_info": {
   "codemirror_mode": {
    "name": "ipython",
    "version": 3
   },
   "file_extension": ".py",
   "mimetype": "text/x-python",
   "name": "python",
   "nbconvert_exporter": "python",
   "pygments_lexer": "ipython3",
   "version": "3.6.2"
  }
 },
 "nbformat": 4,
 "nbformat_minor": 2
}
