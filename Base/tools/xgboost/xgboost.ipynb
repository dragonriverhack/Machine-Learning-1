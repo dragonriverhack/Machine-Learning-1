{
 "cells": [
  {
   "cell_type": "code",
   "execution_count": 4,
   "metadata": {},
   "outputs": [
    {
     "name": "stdout",
     "output_type": "stream",
     "text": [
      "(100, 3)\n"
     ]
    }
   ],
   "source": [
    "#==================== Part 0: Basic Function ====================\n",
    "import numpy as np\n",
    "#用吴恩达课程的数据老是跑不对，theta相差很大，也找不出问题，换了一个sk自带的数据，又可以了。。。不知道问题出在哪\n",
    "with open('F:\\data\\ex2data1.txt', 'r') as f:  \n",
    "    data = f.readlines()  #txt中所有字符串读入data  \n",
    "datamat = []\n",
    "for line in data:  \n",
    "    odom = line.strip().split(',')        #将单个数据分隔开存好  \n",
    "    numbers_float = list(map(float, odom)) #转化为浮点数  \n",
    "    datamat.append(numbers_float)\n",
    "#print datamat\n",
    "datanp = np.array(datamat)\n",
    "print(datanp.shape)\n",
    "x = datanp[:,(0,1)].reshape((100,2))  \n",
    "y = datanp[:,2].reshape((100,1))\n",
    "y = y.astype(np.int32) "
   ]
  },
  {
   "cell_type": "code",
   "execution_count": 5,
   "metadata": {},
   "outputs": [
    {
     "data": {
      "image/png": "[encoded data removed]",
      "text/plain": [
       "<matplotlib.figure.Figure at 0x156f0f22208>"
      ]
     },
     "metadata": {},
     "output_type": "display_data"
    }
   ],
   "source": [
    "#%% ==================== Part 1: Plotting ====================\n",
    "#We start the exercise by first plotting the data to understand the the problem we are working with.\n",
    "import matplotlib.pyplot as plt\n",
    "\n",
    "def plotData(x,y):\n",
    "    fig = plt.figure()  \n",
    "    ax= fig.add_subplot(111) #使画在一个图上\n",
    "    \n",
    "    pos = np.where(y[:,0]==0) #y为类似矩阵形式，所以要再取第一列\n",
    "    neg = np.where(y[:,0]==1)\n",
    "    ax1 = plt.scatter(x[pos,0], x[pos,1], marker = 'x', color = 'm')  \n",
    "    ax2 = plt.scatter(x[neg,0], x[neg,1], marker = 'o', color = 'r')  \n",
    "    plt.xlabel('exam1 score') \n",
    "    plt.ylabel('exam2 score')\n",
    "    \n",
    "    plt.legend([ax1, ax2], ['Admitted', 'Not admitted'])\n",
    "    plt.show()\n",
    "\n",
    "plotData(x,y)"
   ]
  },
  {
   "cell_type": "code",
   "execution_count": 7,
   "metadata": {},
   "outputs": [],
   "source": [
    "import xgboost as xgb\n",
    "# read in data\n",
    "dtrain = xgb.DMatrix(x,y)\n",
    "#dtest = \n",
    "#DMatrix is a internal data structure that used by XGBoost which is optimized for both memory efficiency and training speed.\n",
    "#You can construct DMatrix from numpy.arrays\n",
    "\n",
    "# specify parameters via map\n",
    "param = {'max_depth':2, 'eta':1, 'silent':1, 'objective':'binary:logistic' }\n",
    "#Booster params\n",
    "#'max_depth':Maximum tree depth for base learners.\n",
    "#'eta':Boosting learning rate\n",
    "#'silent':Whether to print messages while running boosting.  Boolean\n",
    "#'objective':Specify the learning task and the corresponding learning objective or a custom objective function to be used .\n",
    "#         signature objective(y_true, y_pred) -> grad\n",
    "\n",
    "num_round = 2  #Number of boosting iterations.\n",
    "bst = xgb.train(param, dtrain, num_round)"
   ]
  },
  {
   "cell_type": "code",
   "execution_count": 13,
   "metadata": {},
   "outputs": [
    {
     "name": "stdout",
     "output_type": "stream",
     "text": [
      "[ 0.08509674  0.06080159  0.08509674  0.94526684  0.94526684  0.06080159\n",
      "  0.94526684  0.86125982  0.94526684  0.86125982  0.22697201  0.22697201\n",
      "  0.94526684  0.94526684  0.08509674  0.82953429  0.86125982  0.58010274\n",
      "  0.94526684  0.86125982  0.06133622  0.94526684  0.06080159  0.06080159\n",
      "  0.94526684  0.94526684  0.86125982  0.22697201  0.58010274  0.08509674\n",
      "  0.94526684  0.86125982  0.44729429  0.44729429  0.08509674  0.06080159\n",
      "  0.35868177  0.94526684  0.22697201  0.08509674  0.86125982  0.06080159\n",
      "  0.94526684  0.22697201  0.06080159  0.58010274  0.94526684  0.94526684\n",
      "  0.94526684  0.94526684  0.94526684  0.94526684  0.86125982  0.06080159\n",
      "  0.06080159  0.06080159  0.94526684  0.35868177  0.94526684  0.94526684\n",
      "  0.94526684  0.06080159  0.06080159  0.06080159  0.44729429  0.06133622\n",
      "  0.82953429  0.06080159  0.94526684  0.94526684  0.06080159  0.94526684\n",
      "  0.94526684  0.94526684  0.94526684  0.94526684  0.82953429  0.44729429\n",
      "  0.06133622  0.22697201  0.94526684  0.86125982  0.94526684  0.58010274\n",
      "  0.94526684  0.94526684  0.44729429  0.94526684  0.94526684  0.06080159\n",
      "  0.94526684  0.94526684  0.06080159  0.94526684  0.86125982  0.86125982\n",
      "  0.82953429  0.94526684  0.44729429  0.94526684]\n"
     ]
    }
   ],
   "source": [
    "preds = bst.predict(dtrain)\n",
    "print(preds)"
   ]
  },
  {
   "cell_type": "code",
   "execution_count": 15,
   "metadata": {},
   "outputs": [
    {
     "name": "stdout",
     "output_type": "stream",
     "text": [
      "[ 0.  0.  0.  1.  1.  0.  1.  1.  1.  1.  0.  0.  1.  1.  0.  1.  1.  1.\n",
      "  1.  1.  0.  1.  0.  0.  1.  1.  1.  0.  1.  0.  1.  1.  0.  0.  0.  0.\n",
      "  0.  1.  0.  0.  1.  0.  1.  0.  0.  1.  1.  1.  1.  1.  1.  1.  1.  0.\n",
      "  0.  0.  1.  0.  1.  1.  1.  0.  0.  0.  0.  0.  1.  0.  1.  1.  0.  1.\n",
      "  1.  1.  1.  1.  1.  0.  0.  0.  1.  1.  1.  1.  1.  1.  0.  1.  1.  0.\n",
      "  1.  1.  0.  1.  1.  1.  1.  1.  0.  1.]\n"
     ]
    }
   ],
   "source": [
    "preds[preds>0.5] = 1\n",
    "preds[preds<0.5] = 0\n",
    "print(preds)"
   ]
  },
  {
   "cell_type": "code",
   "execution_count": 19,
   "metadata": {},
   "outputs": [
    {
     "data": {
      "text/plain": [
       "array([[ 0.,  0.,  0.,  0.,  0.,  0.,  0.,  0.,  0.,  0.,  0.,  0.,  0.,\n",
       "         0.,  0.,  0.,  0.,  1.,  0.,  0.,  0.,  0.,  0.,  0.,  0.,  0.,\n",
       "         0.,  0.,  1.,  0.,  0.,  0.,  0., -1.,  0.,  0.,  0.,  0.,  0.,\n",
       "         0.,  0.,  0.,  0.,  0.,  0.,  1.,  0.,  0.,  0.,  0.,  0.,  0.,\n",
       "         0.,  0.,  0.,  0.,  0.,  0.,  0.,  0.,  0.,  0.,  0.,  0.,  0.,\n",
       "         0.,  0.,  0.,  0.,  0.,  0.,  0.,  0.,  0.,  0.,  0.,  0., -1.,\n",
       "         0.,  0.,  0.,  0.,  0.,  0.,  0.,  0.,  0.,  0.,  0.,  0.,  0.,\n",
       "         0.,  0.,  0.,  0.,  0.,  0.,  0., -1.,  0.]])"
      ]
     },
     "execution_count": 19,
     "metadata": {},
     "output_type": "execute_result"
    }
   ],
   "source": [
    "preds-y.T"
   ]
  },
  {
   "cell_type": "code",
   "execution_count": 28,
   "metadata": {},
   "outputs": [
    {
     "data": {
      "image/png": "[encoded data removed]",
      "text/plain": [
       "<matplotlib.figure.Figure at 0x156f1d126a0>"
      ]
     },
     "metadata": {},
     "output_type": "display_data"
    }
   ],
   "source": [
    "#看看误分类的点\n",
    "def plotData(x,y_pre,y):\n",
    "    fig = plt.figure()  \n",
    "    ax= fig.add_subplot(111) #使画在一个图上\n",
    "    \n",
    "    pos = np.where(y[:,0]==0) #y为类似矩阵形式，所以要再取第一列\n",
    "    neg = np.where(y[:,0]==1)\n",
    "    ax1 = plt.scatter(x[pos,0], x[pos,1], marker = 'x', color = 'gray')  \n",
    "    ax2 = plt.scatter(x[neg,0], x[neg,1], marker = '+', color = 'gray')  \n",
    "\n",
    "    diff = np.where(y_pre!=y)\n",
    "    ax3 = plt.scatter(x[diff,0], x[diff,1], marker = 'o', color = 'y')  \n",
    "    \n",
    "    plt.show()\n",
    "\n",
    "plotData(x,preds.reshape((100,1)),y)"
   ]
  },
  {
   "cell_type": "code",
   "execution_count": null,
   "metadata": {
    "collapsed": true
   },
   "outputs": [],
   "source": []
  }
 ],
 "metadata": {
  "kernelspec": {
   "display_name": "Python 3",
   "language": "python",
   "name": "python3"
  },
  "language_info": {
   "codemirror_mode": {
    "name": "ipython",
    "version": 3
   },
   "file_extension": ".py",
   "mimetype": "text/x-python",
   "name": "python",
   "nbconvert_exporter": "python",
   "pygments_lexer": "ipython3",
   "version": "3.5.4"
  }
 },
 "nbformat": 4,
 "nbformat_minor": 2
}
