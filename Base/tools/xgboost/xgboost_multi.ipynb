{
 "cells": [
  {
   "cell_type": "markdown",
   "metadata": {},
   "source": [
    "[参数说明](http://xgboost.readthedocs.io/en/latest//parameter.html)"
   ]
  },
  {
   "cell_type": "code",
   "execution_count": 4,
   "metadata": {},
   "outputs": [],
   "source": [
    "import xgboost as xgb\n",
    "import numpy as np"
   ]
  },
  {
   "cell_type": "code",
   "execution_count": 10,
   "metadata": {},
   "outputs": [],
   "source": [
    "### make data\n",
    "x1 = [[0,0.1,0.2],\n",
    "     [1.1,1.2,1.3],\n",
    "     [2.1,2.2,2.3],\n",
    "     [0.1,0.2,0.3],\n",
    "     [1.4,1.2,1.3],\n",
    "     [2.1,2.2,2.1],\n",
    "     [0.1,0.2,0.2],\n",
    "     [1.1,1.2,1.3],\n",
    "    [2.1,2.2,2.3]]\n",
    "\n",
    "y1 = [0,1,2,0,1,2,0,1,2]\n",
    "\n",
    "x2 = [[0,0.1,0.2],\n",
    "     [1.1,1.2,1.3],\n",
    "     [2.0,2.2,2.3],\n",
    "     [0.2,0.2,0.3]]"
   ]
  },
  {
   "cell_type": "code",
   "execution_count": 12,
   "metadata": {},
   "outputs": [
    {
     "name": "stdout",
     "output_type": "stream",
     "text": [
      "[ 0.  1.  2.  0.]\n"
     ]
    }
   ],
   "source": [
    "\n",
    "# read in data\n",
    "#dtrain = xgb.DMatrix('demo/data/agaricus.txt.train')\n",
    "#dtest = xgb.DMatrix('demo/data/agaricus.txt.test')\n",
    "# specify parameters via map\n",
    "dtrain = xgb.DMatrix(x1,y1)\n",
    "dtest = xgb.DMatrix(x2)\n",
    "\n",
    "param = {'max_depth':2, 'eta':1, 'silent':1, 'objective':'multi:softmax', 'num_class' : 3}\n",
    "\n",
    "#“multi:softmax” –set XGBoost to do multiclass classification using the softmax objective,\n",
    "#you also need to set num_class(number of classes)\n",
    "num_round = 2\n",
    "bst = xgb.train(param, dtrain, num_round)\n",
    "# make prediction\n",
    "preds = bst.predict(dtest)\n",
    "print(preds)"
   ]
  },
  {
   "cell_type": "code",
   "execution_count": null,
   "metadata": {},
   "outputs": [],
   "source": []
  }
 ],
 "metadata": {
  "kernelspec": {
   "display_name": "Python 3",
   "language": "python",
   "name": "python3"
  },
  "language_info": {
   "codemirror_mode": {
    "name": "ipython",
    "version": 3
   },
   "file_extension": ".py",
   "mimetype": "text/x-python",
   "name": "python",
   "nbconvert_exporter": "python",
   "pygments_lexer": "ipython3",
   "version": "3.5.4"
  }
 },
 "nbformat": 4,
 "nbformat_minor": 2
}
