{
 "cells": [
  {
   "cell_type": "code",
   "execution_count": 7,
   "metadata": {
    "collapsed": true
   },
   "outputs": [],
   "source": [
    "from scipy.stats import pearsonr\n",
    "#doc:https://docs.scipy.org/doc/scipy-0.14.0/reference/generated/scipy.stats.pearsonr.html\n",
    "\n",
    "#Calculates a Pearson correlation coefficient \n",
    "#and the p-value for testing non-correlation. \n",
    "# 原假设：无相关性\n",
    "#Calculates a Pearson correlation coefficient and the p-value for testing non-correlation.\n",
    "\n",
    "## Pearson’s correlation requires that each dataset be normally distributed\n",
    "\n",
    "#p值反应了相关系数的显著性。\n",
    "#The p-value roughly indicates the probability of an uncorrelated system \n",
    "#producing datasets that have a Pearson correlation at least as extreme as \n",
    "#the one computed from these datasets. The p-values are not entirely reliable \n",
    "#but are probably reasonable for datasets larger than 500 or so."
   ]
  },
  {
   "cell_type": "code",
   "execution_count": 8,
   "metadata": {},
   "outputs": [
    {
     "name": "stdout",
     "output_type": "stream",
     "text": [
      "(1.0, 0.0)\n",
      "(0.9450110410366913, 0.0549889589633087)\n",
      "(-0.4465937565388721, 0.5534062434611278)\n",
      "(0.9450110410366913, 0.0549889589633087)\n",
      "(-0.4465937565388721, 0.5534062434611278)\n"
     ]
    }
   ],
   "source": [
    "x1 = [1,2,2,4]\n",
    "x2 = [2,3,3,5]\n",
    "x3 = [4,9,16,25]\n",
    "x4 = [4,2,9,1]\n",
    "\n",
    "print(pearsonr(x1,x2))\n",
    "print(pearsonr(x1,x3))\n",
    "print(pearsonr(x1,x4))\n",
    "print(pearsonr(x2,x3))\n",
    "print(pearsonr(x2,x4))"
   ]
  },
  {
   "cell_type": "code",
   "execution_count": null,
   "metadata": {
    "collapsed": true
   },
   "outputs": [],
   "source": []
  }
 ],
 "metadata": {
  "kernelspec": {
   "display_name": "Python 3",
   "language": "python",
   "name": "python3"
  },
  "language_info": {
   "codemirror_mode": {
    "name": "ipython",
    "version": 3
   },
   "file_extension": ".py",
   "mimetype": "text/x-python",
   "name": "python",
   "nbconvert_exporter": "python",
   "pygments_lexer": "ipython3",
   "version": "3.6.2"
  }
 },
 "nbformat": 4,
 "nbformat_minor": 2
}
