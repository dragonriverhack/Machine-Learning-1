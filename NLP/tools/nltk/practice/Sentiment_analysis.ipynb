{
 "cells": [
  {
   "cell_type": "markdown",
   "metadata": {},
   "source": [
    "### 最简单的 sentiment dictionary\n",
    "\n",
    "like 1\n",
    "\n",
    "good 2\n",
    "\n",
    "bad -2\n",
    "\n",
    "terrible -3\n",
    "\n",
    "类似于关键词打分机制,例如[AFINN-111](http://www2.imm.dtu.dk/pubdb/views/publication_details.php?id=6010)"
   ]
  },
  {
   "cell_type": "code",
   "execution_count": 10,
   "metadata": {},
   "outputs": [
    {
     "name": "stdout",
     "output_type": "stream",
     "text": [
      "3\n"
     ]
    }
   ],
   "source": [
    "############ 1.简单版 #############\n",
    "sentiment_dictionary = {}\n",
    "for line in open(r'D:\\data\\AFINN-111.txt'):\n",
    "    word, score = line.split('\\t')\n",
    "    sentiment_dictionary[word] = int(score)\n",
    "# 把这个打分表记录在一个Dict上以后\n",
    "# 跑一遍整个句子，把对应的值相加\n",
    "text = ['are', 'you', 'happy']\n",
    "total_score = sum(sentiment_dictionary.get(word, 0) for word in text)\n",
    "# 有值就是Dict中的值，没有就是0\n",
    "# 于是你就得到了一个 sentiment score\n",
    "print(total_score)"
   ]
  },
  {
   "cell_type": "code",
   "execution_count": 15,
   "metadata": {},
   "outputs": [
    {
     "name": "stdout",
     "output_type": "stream",
     "text": [
      "neg\n"
     ]
    }
   ],
   "source": [
    "############ 2.配上ML #############\n",
    "from nltk.classify import NaiveBayesClassifier\n",
    "# 随⼿手造点训练集\n",
    "s1 = 'this is a good book'\n",
    "s2 = 'this is a awesome book'\n",
    "s3 = 'this is a bad book'\n",
    "s4 = 'this is a terrible book'\n",
    "def preprocess(s):\n",
    "    # Func: 句子处理理\n",
    "    # 这里简单的用了了split(), 把句子中每个单词分开\n",
    "    # 显然 还有更更多的processing method可以用\n",
    "    return {word: True for word in s.lower().split()}\n",
    "    # return长这样:\n",
    "    # {'this': True, 'is':True, 'a':True, 'good':True, 'book':True}\n",
    "    # 其中, 前一个叫fname, 对应每个出现的文本单词;\n",
    "    # 后一个叫fval, 指的是每个文本单词对应的值。\n",
    "    # 这里我们用最简单的True,来表示,这个词『出现在当前的句子中』的意义。\n",
    "    # 当然啦, 我们以后可以升级这个方程, 让它带有更更加牛逼的fval, 比如word2vec\n",
    "    # 把训练集给做成标准形式\n",
    "training_data = [[preprocess(s1), 'pos'],\n",
    "                 [preprocess(s2), 'pos'],\n",
    "                 [preprocess(s3), 'neg'],\n",
    "                 [preprocess(s4), 'neg']]\n",
    "# 喂给model吃\n",
    "model = NaiveBayesClassifier.train(training_data)\n",
    "# 打出结果\n",
    "print(model.classify(preprocess('that is a very bad movie')))"
   ]
  },
  {
   "cell_type": "code",
   "execution_count": null,
   "metadata": {
    "collapsed": true
   },
   "outputs": [],
   "source": []
  }
 ],
 "metadata": {
  "kernelspec": {
   "display_name": "Python 3",
   "language": "python",
   "name": "python3"
  },
  "language_info": {
   "codemirror_mode": {
    "name": "ipython",
    "version": 3
   },
   "file_extension": ".py",
   "mimetype": "text/x-python",
   "name": "python",
   "nbconvert_exporter": "python",
   "pygments_lexer": "ipython3",
   "version": "3.5.2rc1"
  }
 },
 "nbformat": 4,
 "nbformat_minor": 2
}
