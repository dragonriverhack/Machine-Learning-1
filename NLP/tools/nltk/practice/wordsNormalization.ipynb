{
 "cells": [
  {
   "cell_type": "markdown",
   "metadata": {},
   "source": [
    "## 词形归一化\n",
    "### Stemming 词干提取：一般来说，就是把不影响词性的inflection的小尾巴砍掉\n",
    "\n",
    "walking 砍ing = walk\n",
    "\n",
    "walked 砍ed = walk\n",
    "\n",
    "### Lemmatization 词形归一：把各种类型的词的变形，都归为一个形式\n",
    "\n",
    "went 归一 = go\n",
    "\n",
    "are 归一 = be"
   ]
  },
  {
   "cell_type": "code",
   "execution_count": 15,
   "metadata": {},
   "outputs": [
    {
     "name": "stdout",
     "output_type": "stream",
     "text": [
      "walk\n",
      "maximum\n",
      "maxim\n",
      "maximum\n"
     ]
    }
   ],
   "source": [
    "########## NLTK实现Stemming #########\n",
    "#1\n",
    "from nltk.stem.porter import PorterStemmer\n",
    "porter_stemmer = PorterStemmer()\n",
    "print(porter_stemmer.stem('walking'))\n",
    "print(porter_stemmer.stem('maximum'))\n",
    "\n",
    "#2\n",
    "from nltk.stem.lancaster import LancasterStemmer\n",
    "lancaster_stemmer = LancasterStemmer()\n",
    "print(lancaster_stemmer.stem('maximum'))\n",
    "\n",
    "#3\n",
    "from nltk.stem import SnowballStemmer\n",
    "snowball_stemmer = SnowballStemmer('english')\n",
    "print(snowball_stemmer.stem('maximum'))"
   ]
  },
  {
   "cell_type": "code",
   "execution_count": 20,
   "metadata": {},
   "outputs": [
    {
     "name": "stdout",
     "output_type": "stream",
     "text": [
      "dog\n",
      "went\n",
      "go\n"
     ]
    }
   ],
   "source": [
    "########## NLTK实现Lemma #########\n",
    "from nltk.stem import WordNetLemmatizer\n",
    "wordnet_lemmatizer = WordNetLemmatizer()\n",
    "print(wordnet_lemmatizer.lemmatize('dogs'))\n",
    "\n",
    "print(wordnet_lemmatizer.lemmatize('went'))  #默认是 n\n",
    "print(wordnet_lemmatizer.lemmatize('went',pos='v')) #加上词性 v"
   ]
  },
  {
   "cell_type": "markdown",
   "metadata": {},
   "source": [
    "## 词性标注\n",
    "\n",
    "#### [中文分词词性对照表](http://blog.csdn.net/kevin_darkelf/article/details/39520881)\n",
    "\n",
    "#### [Stopword Lists (English)](http://www.ranks.nl/stopwords)"
   ]
  },
  {
   "cell_type": "code",
   "execution_count": 23,
   "metadata": {},
   "outputs": [
    {
     "name": "stdout",
     "output_type": "stream",
     "text": [
      "['what', 'does', 'the', 'fox', 'say']\n",
      "[('what', 'WDT'), ('does', 'VBZ'), ('the', 'DT'), ('fox', 'NNS'), ('say', 'VBP')]\n"
     ]
    }
   ],
   "source": [
    "####### 词性标注 ###########\n",
    "text = nltk.word_tokenize('what does the fox say')\n",
    "print(text)\n",
    "print(nltk.pos_tag(text))"
   ]
  },
  {
   "cell_type": "code",
   "execution_count": 27,
   "metadata": {},
   "outputs": [
    {
     "name": "stdout",
     "output_type": "stream",
     "text": [
      "['fox', 'say']\n"
     ]
    }
   ],
   "source": [
    "####### 去除停止词 ###########\n",
    "from nltk.corpus import stopwords\n",
    "\n",
    "word_list = nltk.word_tokenize('what does the fox say')\n",
    "filtered_words =[word for word in word_list if word not in stopwords.words('english')]\n",
    "print(filtered_words)"
   ]
  },
  {
   "cell_type": "code",
   "execution_count": null,
   "metadata": {
    "collapsed": true
   },
   "outputs": [],
   "source": []
  }
 ],
 "metadata": {
  "kernelspec": {
   "display_name": "Python 3",
   "language": "python",
   "name": "python3"
  },
  "language_info": {
   "codemirror_mode": {
    "name": "ipython",
    "version": 3
   },
   "file_extension": ".py",
   "mimetype": "text/x-python",
   "name": "python",
   "nbconvert_exporter": "python",
   "pygments_lexer": "ipython3",
   "version": "3.5.2rc1"
  }
 },
 "nbformat": 4,
 "nbformat_minor": 2
}
