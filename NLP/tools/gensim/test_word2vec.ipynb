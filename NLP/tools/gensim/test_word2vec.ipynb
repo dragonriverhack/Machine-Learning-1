{
 "cells": [
  {
   "cell_type": "code",
   "execution_count": 2,
   "metadata": {},
   "outputs": [
    {
     "data": {
      "text/plain": [
       "[('足球运动', 0.6127325296401978),\n",
       " ('排球', 0.5376268625259399),\n",
       " ('冰球', 0.5342495441436768),\n",
       " ('板球', 0.5301790833473206),\n",
       " ('手球', 0.5166541337966919),\n",
       " ('籃球', 0.5052165389060974),\n",
       " ('英超球', 0.499561607837677),\n",
       " ('女足', 0.4948025941848755),\n",
       " ('足球联赛', 0.491238534450531),\n",
       " ('美式足球', 0.49103665351867676)]"
      ]
     },
     "execution_count": 2,
     "metadata": {},
     "output_type": "execute_result"
    }
   ],
   "source": [
    "import gensim\n",
    "model = gensim.models.Word2Vec.load(r\"F:\\data\\wiki.zh.text.model\")\n",
    "model.most_similar(u\"足球\")"
   ]
  },
  {
   "cell_type": "code",
   "execution_count": 4,
   "metadata": {},
   "outputs": [
    {
     "data": {
      "text/plain": [
       "[('女人', 0.7703686952590942),\n",
       " ('傻瓜', 0.5394862294197083),\n",
       " ('家伙', 0.5176622271537781),\n",
       " ('女孩', 0.5025584101676941),\n",
       " ('撒嬌', 0.4929904341697693),\n",
       " ('小伙子', 0.4917035698890686),\n",
       " ('女明星', 0.4843180179595947),\n",
       " ('爸爸', 0.4842095673084259),\n",
       " ('女孩子', 0.48044753074645996),\n",
       " ('老公', 0.4802494943141937)]"
      ]
     },
     "execution_count": 4,
     "metadata": {},
     "output_type": "execute_result"
    }
   ],
   "source": [
    "model.most_similar(u\"男人\")"
   ]
  },
  {
   "cell_type": "code",
   "execution_count": 5,
   "metadata": {},
   "outputs": [
    {
     "data": {
      "text/plain": [
       "[('鞋子', 0.7696906924247742),\n",
       " ('衣物', 0.7572050094604492),\n",
       " ('裙子', 0.7095688581466675),\n",
       " ('大衣', 0.7061837911605835),\n",
       " ('外套', 0.7023261785507202),\n",
       " ('外衣', 0.6756951808929443),\n",
       " ('內褲', 0.6667477488517761),\n",
       " ('褲子', 0.6629331707954407),\n",
       " ('上衣', 0.6550877690315247),\n",
       " ('西装', 0.6357579231262207)]"
      ]
     },
     "execution_count": 5,
     "metadata": {},
     "output_type": "execute_result"
    }
   ],
   "source": [
    "model.most_similar(u\"衣服\")"
   ]
  },
  {
   "cell_type": "code",
   "execution_count": null,
   "metadata": {
    "collapsed": true
   },
   "outputs": [],
   "source": []
  }
 ],
 "metadata": {
  "kernelspec": {
   "display_name": "Python 3",
   "language": "python",
   "name": "python3"
  },
  "language_info": {
   "codemirror_mode": {
    "name": "ipython",
    "version": 3
   },
   "file_extension": ".py",
   "mimetype": "text/x-python",
   "name": "python",
   "nbconvert_exporter": "python",
   "pygments_lexer": "ipython3",
   "version": "3.5.4"
  }
 },
 "nbformat": 4,
 "nbformat_minor": 2
}
