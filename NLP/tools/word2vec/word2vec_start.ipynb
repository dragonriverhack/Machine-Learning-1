{
 "cells": [
  {
   "cell_type": "markdown",
   "metadata": {},
   "source": [
    "### word2vec google\n",
    "\n",
    "osx 直接pip安装\n",
    "\n",
    "[下载测试数据](http://mattmahoney.net/dc/text8.zip)"
   ]
  },
  {
   "cell_type": "code",
   "execution_count": 1,
   "metadata": {
    "collapsed": true
   },
   "outputs": [],
   "source": [
    "import word2vec"
   ]
  },
  {
   "cell_type": "code",
   "execution_count": 2,
   "metadata": {},
   "outputs": [
    {
     "name": "stdout",
     "output_type": "stream",
     "text": [
      "Starting training using file /Users/fire/Downloads/text8\n",
      "Words processed: 17000K     Vocab size: 4399K  \n",
      "Vocab size (unigrams + bigrams): 2419827\n",
      "Words in train file: 17005206\n",
      "Words written: 17000K\r"
     ]
    }
   ],
   "source": [
    "#Run word2phrase to group up similar words \"Los Angeles\" to \"Los_Angeles\"\n",
    "#This will create a text8-phrases that we can use as a better input for word2vec. \n",
    "#Note that you could easily skip this previous step and use the origial data as input for word2vec.\n",
    "\n",
    "Train the model using the word2phrase output.\n",
    "word2vec.word2phrase('/Users/fire/Downloads/text8', '/Users/fire/Downloads/text8-phrases', verbose=True)"
   ]
  },
  {
   "cell_type": "code",
   "execution_count": 4,
   "metadata": {},
   "outputs": [
    {
     "name": "stdout",
     "output_type": "stream",
     "text": [
      "Starting training using file /Users/fire/Downloads/text8-phrases\n",
      "Vocab size: 98331\n",
      "Words in train file: 15857306\n",
      "Alpha: 0.000002  Progress: 100.04%  Words/thread/sec: 299.55k  "
     ]
    }
   ],
   "source": [
    "#training\n",
    "#This generated a text8.bin file containing the word vectors in a binary format.\n",
    "word2vec.word2vec('/Users/fire/Downloads/text8-phrases', \n",
    "                  '/Users/fire/Downloads/text8.bin', \n",
    "                  size=100, verbose=True)\n",
    "                #size：embeding后的单词维度"
   ]
  },
  {
   "cell_type": "code",
   "execution_count": 5,
   "metadata": {},
   "outputs": [
    {
     "name": "stdout",
     "output_type": "stream",
     "text": [
      "Starting training using file /Users/fire/Downloads/text8\n",
      "Vocab size: 71291\n",
      "Words in train file: 16718843\n",
      "Alpha: 0.000002  Progress: 100.03%  Words/thread/sec: 298.98k  "
     ]
    }
   ],
   "source": [
    "#Do the clustering of the vectors based on the trained model.\n",
    "#This created a text8-clusters.txt with the cluster for every word in the vocabulary\n",
    "word2vec.word2clusters('/Users/fire/Downloads/text8', \n",
    "                       '/Users/fire/Downloads/text8-clusters.txt', \n",
    "                       100, verbose=True)"
   ]
  },
  {
   "cell_type": "code",
   "execution_count": 8,
   "metadata": {},
   "outputs": [
    {
     "name": "stdout",
     "output_type": "stream",
     "text": [
      "(98331,) (98331, 100)\n"
     ]
    },
    {
     "data": {
      "text/plain": [
       "array(['</s>', 'the', 'of', ..., 'dakotas', 'nias', 'burlesques'],\n",
       "      dtype='<U78')"
      ]
     },
     "execution_count": 8,
     "metadata": {},
     "output_type": "execute_result"
    }
   ],
   "source": [
    "### test\n",
    "#\n",
    "model = word2vec.load('/Users/fire/Downloads/text8.bin')\n",
    "print(model.vocab.shape, model.vectors.shape)\n",
    "model.vocab"
   ]
  },
  {
   "cell_type": "code",
   "execution_count": 9,
   "metadata": {},
   "outputs": [
    {
     "data": {
      "text/plain": [
       "array([[ 0.14333282,  0.15825513, -0.13715845, ...,  0.05456942,\n",
       "         0.10955409,  0.00693387],\n",
       "       [ 0.12489308, -0.03173497,  0.05842819, ..., -0.05245398,\n",
       "        -0.00831604, -0.04094807],\n",
       "       [ 0.24218732,  0.01187136,  0.08873302, ..., -0.0746696 ,\n",
       "         0.05834081,  0.0571417 ],\n",
       "       ..., \n",
       "       [-0.06582113,  0.10161118,  0.17507532, ...,  0.04679422,\n",
       "         0.00877832, -0.01720783],\n",
       "       [-0.0175229 ,  0.00475987,  0.11673692, ..., -0.00197567,\n",
       "        -0.07617234,  0.02674518],\n",
       "       [ 0.02870567, -0.04627815,  0.15724808, ...,  0.11611485,\n",
       "        -0.13422553, -0.0105705 ]])"
      ]
     },
     "execution_count": 9,
     "metadata": {},
     "output_type": "execute_result"
    }
   ],
   "source": [
    "model.vectors"
   ]
  },
  {
   "cell_type": "code",
   "execution_count": 10,
   "metadata": {},
   "outputs": [
    {
     "data": {
      "text/plain": [
       "(100,)"
      ]
     },
     "execution_count": 10,
     "metadata": {},
     "output_type": "execute_result"
    }
   ],
   "source": [
    "model['dog'].shape"
   ]
  },
  {
   "cell_type": "code",
   "execution_count": 11,
   "metadata": {},
   "outputs": [
    {
     "data": {
      "text/plain": [
       "array([ 0.05836048,  0.11873911, -0.05887308,  0.17603034,  0.09529883,\n",
       "       -0.05249133,  0.02794671,  0.1341811 ,  0.09122837,  0.00230187])"
      ]
     },
     "execution_count": 11,
     "metadata": {},
     "output_type": "execute_result"
    }
   ],
   "source": [
    "model['dog'][:10]"
   ]
  },
  {
   "cell_type": "code",
   "execution_count": 12,
   "metadata": {},
   "outputs": [
    {
     "data": {
      "text/plain": [
       "(array([ 3964,  7232,  8755, 10489, 11408,  9017,  7818,  2375,  3336,  5396]),\n",
       " array([ 0.88588471,  0.85673789,  0.84536443,  0.82533369,  0.82453982,\n",
       "         0.82178362,  0.81301288,  0.80753056,  0.8036867 ,  0.79629787]))"
      ]
     },
     "execution_count": 12,
     "metadata": {},
     "output_type": "execute_result"
    }
   ],
   "source": [
    "#We can do simple queries to retreive words similar to \"socks\" based on cosine similarity:\n",
    "'''\n",
    "This returned a tuple with 2 items:\n",
    "\n",
    "numpy array with the indexes of the similar words in the vocabulary\n",
    "numpy array with cosine similarity to each word\n",
    "'''\n",
    "indexes, metrics = model.cosine('cats')\n",
    "indexes, metrics"
   ]
  },
  {
   "cell_type": "code",
   "execution_count": 13,
   "metadata": {},
   "outputs": [
    {
     "data": {
      "text/plain": [
       "array(['dogs', 'elephants', 'bees', 'predators', 'goats', 'cows', 'bats',\n",
       "       'birds', 'horses', 'eggs'],\n",
       "      dtype='<U78')"
      ]
     },
     "execution_count": 13,
     "metadata": {},
     "output_type": "execute_result"
    }
   ],
   "source": [
    "model.vocab[indexes]"
   ]
  },
  {
   "cell_type": "code",
   "execution_count": 14,
   "metadata": {},
   "outputs": [
    {
     "data": {
      "text/plain": [
       "rec.array([('dogs',  0.88588471), ('elephants',  0.85673789),\n",
       "           ('bees',  0.84536443), ('predators',  0.82533369),\n",
       "           ('goats',  0.82453982), ('cows',  0.82178362),\n",
       "           ('bats',  0.81301288), ('birds',  0.80753056),\n",
       "           ('horses',  0.8036867 ), ('eggs',  0.79629787)], \n",
       "          dtype=[('word', '<U78'), ('metric', '<f8')])"
      ]
     },
     "execution_count": 14,
     "metadata": {},
     "output_type": "execute_result"
    }
   ],
   "source": [
    "model.generate_response(indexes, metrics)"
   ]
  },
  {
   "cell_type": "code",
   "execution_count": 15,
   "metadata": {},
   "outputs": [
    {
     "data": {
      "text/plain": [
       "[('dogs', 0.8858847128930121),\n",
       " ('elephants', 0.8567378858448019),\n",
       " ('bees', 0.8453644272390131),\n",
       " ('predators', 0.825333688468985),\n",
       " ('goats', 0.8245398202389704),\n",
       " ('cows', 0.8217836200373952),\n",
       " ('bats', 0.8130128772507821),\n",
       " ('birds', 0.807530559012084),\n",
       " ('horses', 0.8036866952392776),\n",
       " ('eggs', 0.7962978735121831)]"
      ]
     },
     "execution_count": 15,
     "metadata": {},
     "output_type": "execute_result"
    }
   ],
   "source": [
    "model.generate_response(indexes, metrics).tolist()"
   ]
  },
  {
   "cell_type": "markdown",
   "metadata": {},
   "source": [
    "###  model.analogy"
   ]
  },
  {
   "cell_type": "code",
   "execution_count": 16,
   "metadata": {},
   "outputs": [
    {
     "data": {
      "text/plain": [
       "(array([1087, 1145, 7523, 6768,  648,  344, 1335, 8419, 4980, 1826]),\n",
       " array([ 0.29280722,  0.27708949,  0.26795348,  0.26184103,  0.26148831,\n",
       "         0.26143107,  0.26105077,  0.26087758,  0.2580712 ,  0.25800021]))"
      ]
     },
     "execution_count": 16,
     "metadata": {},
     "output_type": "execute_result"
    }
   ],
   "source": [
    "\n",
    "### try king-queen = man-women\n",
    "indexes, metrics = model.analogy(pos=['king', 'woman'], neg=['man'], n=10)\n",
    "indexes, metrics"
   ]
  },
  {
   "cell_type": "code",
   "execution_count": 17,
   "metadata": {},
   "outputs": [
    {
     "data": {
      "text/plain": [
       "(array([1087, 1145, 7523, 6768,  648,  344, 1335, 8419, 4980, 1826]),\n",
       " array([ 0.29280722,  0.27708949,  0.26795348,  0.26184103,  0.26148831,\n",
       "         0.26143107,  0.26105077,  0.26087758,  0.2580712 ,  0.25800021]))"
      ]
     },
     "execution_count": 17,
     "metadata": {},
     "output_type": "execute_result"
    }
   ],
   "source": [
    "indexes, metrics = model.analogy(pos=['king', 'woman'], neg=['man'], n=10)\n",
    "indexes, metrics"
   ]
  },
  {
   "cell_type": "markdown",
   "metadata": {},
   "source": [
    "### 聚类"
   ]
  },
  {
   "cell_type": "code",
   "execution_count": 27,
   "metadata": {},
   "outputs": [
    {
     "data": {
      "text/plain": [
       "11"
      ]
     },
     "execution_count": 27,
     "metadata": {},
     "output_type": "execute_result"
    }
   ],
   "source": [
    "clusters = word2vec.load_clusters('/Users/fire/Downloads/text8-clusters.txt')\n",
    "clusters[b'dog']  #加b"
   ]
  },
  {
   "cell_type": "code",
   "execution_count": 23,
   "metadata": {},
   "outputs": [
    {
     "data": {
      "text/plain": [
       "(1691,)"
      ]
     },
     "execution_count": 23,
     "metadata": {},
     "output_type": "execute_result"
    }
   ],
   "source": [
    "clusters.get_words_on_cluster(90).shape"
   ]
  },
  {
   "cell_type": "code",
   "execution_count": 24,
   "metadata": {},
   "outputs": [
    {
     "data": {
      "text/plain": [
       "array([b'secondly', b'insignificant', b'progresses', b'casts',\n",
       "       b'impractical', b'fortunately', b'attackers', b'filtered',\n",
       "       b'renaming', b'crafted'], dtype=object)"
      ]
     },
     "execution_count": 24,
     "metadata": {},
     "output_type": "execute_result"
    }
   ],
   "source": [
    "clusters.get_words_on_cluster(90)[:10]"
   ]
  },
  {
   "cell_type": "code",
   "execution_count": 28,
   "metadata": {},
   "outputs": [
    {
     "data": {
      "text/plain": [
       "[('berlin', 0.327026204998363, 15),\n",
       " ('munich', 0.2853918845550195, 44),\n",
       " ('vienna', 0.27424945218758845, 12),\n",
       " ('moscow', 0.27043351308592767, 74),\n",
       " ('st_petersburg', 0.2676503798966319, 61),\n",
       " ('leipzig', 0.26643484382369964, 8),\n",
       " ('prague', 0.2516699794156753, 85),\n",
       " ('dresden', 0.2496050439980815, 71),\n",
       " ('bonn', 0.24399744129091042, 8),\n",
       " ('frankfurt', 0.2439142560784626, 31)]"
      ]
     },
     "execution_count": 28,
     "metadata": {},
     "output_type": "execute_result"
    }
   ],
   "source": [
    "#We can add the clusters to the word2vec model and generate a response that includes the clusters\n",
    "model.clusters = clusters\n",
    "\n",
    "indexes, metrics = model.analogy(pos=['paris', 'germany'], neg=['france'], n=10)\n",
    "model.generate_response(indexes, metrics).tolist()"
   ]
  },
  {
   "cell_type": "code",
   "execution_count": null,
   "metadata": {
    "collapsed": true
   },
   "outputs": [],
   "source": []
  }
 ],
 "metadata": {
  "kernelspec": {
   "display_name": "Python 3",
   "language": "python",
   "name": "python3"
  },
  "language_info": {
   "codemirror_mode": {
    "name": "ipython",
    "version": 3
   },
   "file_extension": ".py",
   "mimetype": "text/x-python",
   "name": "python",
   "nbconvert_exporter": "python",
   "pygments_lexer": "ipython3",
   "version": "3.6.2"
  }
 },
 "nbformat": 4,
 "nbformat_minor": 2
}
