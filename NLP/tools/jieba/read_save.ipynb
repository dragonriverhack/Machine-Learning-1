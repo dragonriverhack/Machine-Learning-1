{
 "cells": [
  {
   "cell_type": "code",
   "execution_count": 1,
   "metadata": {},
   "outputs": [
    {
     "name": "stderr",
     "output_type": "stream",
     "text": [
      "Building prefix dict from the default dictionary ...\n",
      "Loading model from cache C:\\Users\\Fire\\AppData\\Local\\Temp\\jieba.cache\n"
     ]
    },
    {
     "name": "stdout",
     "output_type": "stream",
     "text": [
      "start cut.\n"
     ]
    },
    {
     "name": "stderr",
     "output_type": "stream",
     "text": [
      "Loading model cost 0.684 seconds.\n",
      "Prefix dict has been built succesfully.\n"
     ]
    },
    {
     "name": "stdout",
     "output_type": "stream",
     "text": [
      "End file.\n"
     ]
    },
    {
     "data": {
      "text/plain": [
       "0"
      ]
     },
     "execution_count": 1,
     "metadata": {},
     "output_type": "execute_result"
    }
   ],
   "source": [
    "import codecs\n",
    "import jieba  \n",
    "import jieba.analyse  \n",
    "  \n",
    "#Read file and cut  \n",
    "def read_file_cut():  \n",
    "    fileName = r\"F:\\data\\wiki.zh.text\"  \n",
    "    source = open(fileName, 'r',encoding='utf-8') \n",
    "    line = source.readline()  \n",
    "    line = line.rstrip('\\n')  \n",
    "    \n",
    "    result = codecs.open('wiki.zh.text.seg', 'w', 'utf-8')  \n",
    "    \n",
    "    print('start cut.')\n",
    "    while line!=\"\":  \n",
    "        seglist = jieba.cut(line,cut_all=False)  #精确模式  \n",
    "        output = ' '.join(list(seglist))         #空格拼接  \n",
    "        result.write(output + '\\r\\n')  \n",
    "        line = source.readline()   \n",
    "    print('End file.') \n",
    "    source.close()  \n",
    "    result.close() \n",
    "    return 0\n",
    "        \n",
    "read_file_cut()        "
   ]
  },
  {
   "cell_type": "code",
   "execution_count": null,
   "metadata": {
    "collapsed": true
   },
   "outputs": [],
   "source": []
  }
 ],
 "metadata": {
  "kernelspec": {
   "display_name": "Python 3",
   "language": "python",
   "name": "python3"
  },
  "language_info": {
   "codemirror_mode": {
    "name": "ipython",
    "version": 3
   },
   "file_extension": ".py",
   "mimetype": "text/x-python",
   "name": "python",
   "nbconvert_exporter": "python",
   "pygments_lexer": "ipython3",
   "version": "3.5.4"
  }
 },
 "nbformat": 4,
 "nbformat_minor": 2
}
