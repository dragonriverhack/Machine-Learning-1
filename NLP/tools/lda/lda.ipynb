{
 "cells": [
  {
   "cell_type": "markdown",
   "metadata": {},
   "source": [
    "[在Python中使用LDA处理文本](http://blog.csdn.net/real_myth/article/details/51239847)"
   ]
  },
  {
   "cell_type": "code",
   "execution_count": 1,
   "metadata": {},
   "outputs": [
    {
     "name": "stdout",
     "output_type": "stream",
     "text": [
      "type(X): <class 'numpy.ndarray'>\n",
      "shape: (395, 4258)\n",
      "\n",
      "[[ 1  0  1  0  0]\n",
      " [ 7  0  2  0  0]\n",
      " [ 0  0  0  1 10]\n",
      " [ 6  0  1  0  0]\n",
      " [ 0  0  0  2 14]]\n"
     ]
    }
   ],
   "source": [
    "from __future__ import division, print_function\n",
    "\n",
    "import numpy as np\n",
    "import lda\n",
    "import lda.datasets\n",
    "\n",
    "# document-term matrix\n",
    "X = lda.datasets.load_reuters()\n",
    "print(\"type(X): {}\".format(type(X)))\n",
    "print(\"shape: {}\\n\".format(X.shape))\n",
    "print(X[:5, :5])"
   ]
  },
  {
   "cell_type": "markdown",
   "metadata": {},
   "source": [
    "X为395*4298的矩阵，意味着395个文本，共4258个单词。值代表出现次数。"
   ]
  },
  {
   "cell_type": "code",
   "execution_count": 2,
   "metadata": {},
   "outputs": [
    {
     "name": "stdout",
     "output_type": "stream",
     "text": [
      "type(vocab): <class 'tuple'>\n",
      "len(vocab): 4258\n",
      "\n",
      "('church', 'pope', 'years', 'people', 'mother', 'last')\n"
     ]
    }
   ],
   "source": [
    "vocab = lda.datasets.load_reuters_vocab()\n",
    "print(\"type(vocab): {}\".format(type(vocab)))\n",
    "print(\"len(vocab): {}\\n\".format(len(vocab)))\n",
    "print(vocab[:6])"
   ]
  },
  {
   "cell_type": "markdown",
   "metadata": {},
   "source": [
    "X中第0列对应的单词是church，第1列对应的单词是pope"
   ]
  },
  {
   "cell_type": "code",
   "execution_count": 3,
   "metadata": {},
   "outputs": [
    {
     "name": "stdout",
     "output_type": "stream",
     "text": [
      "type(titles): <class 'tuple'>\n",
      "len(titles): 395\n",
      "\n",
      "('0 UK: Prince Charles spearheads British royal revolution. LONDON 1996-08-20', '1 GERMANY: Historic Dresden church rising from WW2 ashes. DRESDEN, Germany 1996-08-21')\n"
     ]
    }
   ],
   "source": [
    "# titles for each story\n",
    "titles = lda.datasets.load_reuters_titles()\n",
    "print(\"type(titles): {}\".format(type(titles)))\n",
    "print(\"len(titles): {}\\n\".format(len(titles)))\n",
    "print(titles[:2])  # 前两篇文章的标题"
   ]
  },
  {
   "cell_type": "code",
   "execution_count": 4,
   "metadata": {},
   "outputs": [
    {
     "name": "stderr",
     "output_type": "stream",
     "text": [
      "INFO:lda:n_documents: 395\n",
      "INFO:lda:vocab_size: 4258\n",
      "INFO:lda:n_words: 84010\n",
      "INFO:lda:n_topics: 20\n",
      "INFO:lda:n_iter: 500\n",
      "INFO:lda:<0> log likelihood: -1051748\n",
      "INFO:lda:<10> log likelihood: -719800\n",
      "INFO:lda:<20> log likelihood: -699115\n",
      "INFO:lda:<30> log likelihood: -689370\n",
      "INFO:lda:<40> log likelihood: -684918\n",
      "INFO:lda:<50> log likelihood: -681322\n",
      "INFO:lda:<60> log likelihood: -678979\n",
      "INFO:lda:<70> log likelihood: -676598\n",
      "INFO:lda:<80> log likelihood: -675383\n",
      "INFO:lda:<90> log likelihood: -673316\n",
      "INFO:lda:<100> log likelihood: -672761\n",
      "INFO:lda:<110> log likelihood: -671320\n",
      "INFO:lda:<120> log likelihood: -669744\n",
      "INFO:lda:<130> log likelihood: -669292\n",
      "INFO:lda:<140> log likelihood: -667940\n",
      "INFO:lda:<150> log likelihood: -668038\n",
      "INFO:lda:<160> log likelihood: -667429\n",
      "INFO:lda:<170> log likelihood: -666475\n",
      "INFO:lda:<180> log likelihood: -665562\n",
      "INFO:lda:<190> log likelihood: -664920\n",
      "INFO:lda:<200> log likelihood: -664979\n",
      "INFO:lda:<210> log likelihood: -664722\n",
      "INFO:lda:<220> log likelihood: -664459\n",
      "INFO:lda:<230> log likelihood: -664360\n",
      "INFO:lda:<240> log likelihood: -663600\n",
      "INFO:lda:<250> log likelihood: -664164\n",
      "INFO:lda:<260> log likelihood: -663826\n",
      "INFO:lda:<270> log likelihood: -663458\n",
      "INFO:lda:<280> log likelihood: -663393\n",
      "INFO:lda:<290> log likelihood: -662904\n",
      "INFO:lda:<300> log likelihood: -662294\n",
      "INFO:lda:<310> log likelihood: -662031\n",
      "INFO:lda:<320> log likelihood: -662430\n",
      "INFO:lda:<330> log likelihood: -661601\n",
      "INFO:lda:<340> log likelihood: -662108\n",
      "INFO:lda:<350> log likelihood: -662152\n",
      "INFO:lda:<360> log likelihood: -661899\n",
      "INFO:lda:<370> log likelihood: -661012\n",
      "INFO:lda:<380> log likelihood: -661278\n",
      "INFO:lda:<390> log likelihood: -661085\n",
      "INFO:lda:<400> log likelihood: -660418\n",
      "INFO:lda:<410> log likelihood: -660510\n",
      "INFO:lda:<420> log likelihood: -660343\n",
      "INFO:lda:<430> log likelihood: -659789\n",
      "INFO:lda:<440> log likelihood: -659336\n",
      "INFO:lda:<450> log likelihood: -659039\n",
      "INFO:lda:<460> log likelihood: -659329\n",
      "INFO:lda:<470> log likelihood: -658707\n",
      "INFO:lda:<480> log likelihood: -658879\n",
      "INFO:lda:<490> log likelihood: -658819\n",
      "INFO:lda:<499> log likelihood: -658407\n"
     ]
    },
    {
     "data": {
      "text/plain": [
       "<lda.lda.LDA at 0x1b7a995c0f0>"
      ]
     },
     "execution_count": 4,
     "metadata": {},
     "output_type": "execute_result"
    }
   ],
   "source": [
    "#训练数据，指定20个主题，500次迭代：\n",
    "model = lda.LDA(n_topics=20, n_iter=500, random_state=1)\n",
    "model.fit(X)"
   ]
  },
  {
   "cell_type": "code",
   "execution_count": 5,
   "metadata": {},
   "outputs": [
    {
     "name": "stdout",
     "output_type": "stream",
     "text": [
      "type(topic_word): <class 'numpy.ndarray'>\n",
      "shape: (20, 4258)\n"
     ]
    }
   ],
   "source": [
    "#主题-单词（topic-word）分布：\n",
    "topic_word = model.topic_word_\n",
    "print(\"type(topic_word): {}\".format(type(topic_word)))\n",
    "print(\"shape: {}\".format(topic_word.shape))"
   ]
  },
  {
   "cell_type": "code",
   "execution_count": 6,
   "metadata": {},
   "outputs": [
    {
     "name": "stdout",
     "output_type": "stream",
     "text": [
      "[[  2.72436509e-06   2.72436509e-06   2.72708945e-03]\n",
      " [  2.29518860e-02   1.08771556e-06   7.83263973e-03]\n",
      " [  3.97404221e-03   4.96135108e-06   2.98177200e-03]\n",
      " [  3.27374625e-03   2.72585033e-06   2.72585033e-06]\n",
      " [  8.26262882e-03   8.56893407e-02   1.61980569e-06]\n",
      " [  1.30107788e-02   2.95632328e-06   2.95632328e-06]\n",
      " [  2.80145003e-06   2.80145003e-06   2.80145003e-06]\n",
      " [  2.42858077e-02   4.66944966e-06   4.66944966e-06]\n",
      " [  6.84655429e-03   1.90129250e-06   6.84655429e-03]\n",
      " [  3.48361655e-06   3.48361655e-06   3.48361655e-06]\n",
      " [  2.98781661e-03   3.31611166e-06   3.31611166e-06]\n",
      " [  4.27062069e-06   4.27062069e-06   4.27062069e-06]\n",
      " [  1.50994982e-02   1.64107142e-06   1.64107142e-06]\n",
      " [  7.73480150e-07   7.73480150e-07   1.70946848e-02]\n",
      " [  2.82280146e-06   2.82280146e-06   2.82280146e-06]\n",
      " [  5.15309856e-06   5.15309856e-06   4.64294180e-03]\n",
      " [  3.41695768e-06   3.41695768e-06   3.41695768e-06]\n",
      " [  3.90980357e-02   1.70316633e-03   4.42279319e-03]\n",
      " [  2.39373034e-06   2.39373034e-06   2.39373034e-06]\n",
      " [  3.32493234e-06   3.32493234e-06   3.32493234e-06]]\n"
     ]
    }
   ],
   "source": [
    "#topic_word中一行对应一个topic，一行之和为1。 看一看'church', 'pope', 'years'这三个单词在各个主题中的比重：\n",
    "print(topic_word[:, :3])"
   ]
  },
  {
   "cell_type": "code",
   "execution_count": 7,
   "metadata": {},
   "outputs": [
    {
     "name": "stdout",
     "output_type": "stream",
     "text": [
      "*Topic 0\n",
      "- government british minister west group\n",
      "*Topic 1\n",
      "- church first during people political\n",
      "*Topic 2\n",
      "- elvis king wright fans presley\n",
      "*Topic 3\n",
      "- yeltsin russian russia president kremlin\n",
      "*Topic 4\n",
      "- pope vatican paul surgery pontiff\n",
      "*Topic 5\n",
      "- family police miami versace cunanan\n",
      "*Topic 6\n",
      "- south simpson born york white\n",
      "*Topic 7\n",
      "- order church mother successor since\n",
      "*Topic 8\n",
      "- charles prince diana royal queen\n",
      "*Topic 9\n",
      "- film france french against actor\n",
      "*Topic 10\n",
      "- germany german war nazi christian\n",
      "*Topic 11\n",
      "- east prize peace timor quebec\n",
      "*Topic 12\n",
      "- n't told life people church\n",
      "*Topic 13\n",
      "- years world time year last\n",
      "*Topic 14\n",
      "- mother teresa heart charity calcutta\n",
      "*Topic 15\n",
      "- city salonika exhibition buddhist byzantine\n",
      "*Topic 16\n",
      "- music first people tour including\n",
      "*Topic 17\n",
      "- church catholic bernardin cardinal bishop\n",
      "*Topic 18\n",
      "- harriman clinton u.s churchill paris\n",
      "*Topic 19\n",
      "- century art million museum city\n"
     ]
    }
   ],
   "source": [
    "#获取每个topic下权重最高的5个单词：\n",
    "n = 5\n",
    "for i, topic_dist in enumerate(topic_word):\n",
    "    topic_words = np.array(vocab)[np.argsort(topic_dist)][:-(n+1):-1]\n",
    "    print('*Topic {}\\n- {}'.format(i, ' '.join(topic_words)))"
   ]
  },
  {
   "cell_type": "code",
   "execution_count": 8,
   "metadata": {},
   "outputs": [
    {
     "name": "stdout",
     "output_type": "stream",
     "text": [
      "type(doc_topic): <class 'numpy.ndarray'>\n",
      "shape: (395, 20)\n"
     ]
    }
   ],
   "source": [
    "#文档-主题（Document-Topic）分布：\n",
    "doc_topic = model.doc_topic_\n",
    "print(\"type(doc_topic): {}\".format(type(doc_topic)))\n",
    "print(\"shape: {}\".format(doc_topic.shape))"
   ]
  },
  {
   "cell_type": "code",
   "execution_count": 9,
   "metadata": {},
   "outputs": [
    {
     "name": "stdout",
     "output_type": "stream",
     "text": [
      "doc: 0 topic: 8\n",
      "doc: 1 topic: 1\n",
      "doc: 2 topic: 14\n",
      "doc: 3 topic: 8\n",
      "doc: 4 topic: 14\n",
      "doc: 5 topic: 14\n",
      "doc: 6 topic: 14\n",
      "doc: 7 topic: 14\n",
      "doc: 8 topic: 14\n",
      "doc: 9 topic: 8\n"
     ]
    }
   ],
   "source": [
    "#一篇文章对应一行，每行的和为1。\n",
    "#输入前10篇文章最可能的Topic：\n",
    "for n in range(10):\n",
    "    topic_most_pr = doc_topic[n].argmax()\n",
    "    print(\"doc: {} topic: {}\".format(n, topic_most_pr))"
   ]
  },
  {
   "cell_type": "markdown",
   "metadata": {},
   "source": [
    "### 关于数据集替换\n",
    "\n",
    "下载包以后,把datasets.py里面的load_reuters()里面的reuters.ldac,\n",
    "\n",
    "load_reuters_vocab()里面的reuters.tokens,\n",
    "\n",
    "load_reuters_titles()里面的reuters.titles\n",
    "\n",
    "替换成自己的数据集就行了.数据集格式按照包里的生成就行."
   ]
  },
  {
   "cell_type": "code",
   "execution_count": null,
   "metadata": {},
   "outputs": [],
   "source": []
  }
 ],
 "metadata": {
  "kernelspec": {
   "display_name": "Python 3",
   "language": "python",
   "name": "python3"
  },
  "language_info": {
   "codemirror_mode": {
    "name": "ipython",
    "version": 3
   },
   "file_extension": ".py",
   "mimetype": "text/x-python",
   "name": "python",
   "nbconvert_exporter": "python",
   "pygments_lexer": "ipython3",
   "version": "3.5.4"
  }
 },
 "nbformat": 4,
 "nbformat_minor": 2
}
