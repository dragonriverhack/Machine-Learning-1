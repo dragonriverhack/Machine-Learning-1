{
 "cells": [
  {
   "cell_type": "code",
   "execution_count": 3,
   "metadata": {},
   "outputs": [
    {
     "name": "stdout",
     "output_type": "stream",
     "text": [
      "(20000, 3) (20000, 1) (2000, 3) (2000, 1)\n"
     ]
    }
   ],
   "source": [
    "import numpy as np\n",
    "from sklearn.datasets.samples_generator import make_blobs\n",
    "base_x, base_y = make_blobs(n_samples=22000, centers=3, n_features=3, random_state=0, center_box=(10, 20))\n",
    "\n",
    "#随机生成3类数据\n",
    "base_n = len(base_y)\n",
    "base_y=base_y.reshape((base_n,1))\n",
    "\n",
    "base_x-=base_x.min()\n",
    "base_x/=base_x.max()\n",
    "\n",
    "train_x = base_x[:20000]\n",
    "train_y = base_y[:20000]\n",
    "val_x = base_x[20000:]\n",
    "val_y = base_y[20000:]\n",
    "\n",
    "print(train_x.shape,train_y.shape,val_x.shape,val_y.shape)"
   ]
  },
  {
   "cell_type": "code",
   "execution_count": 37,
   "metadata": {},
   "outputs": [
    {
     "name": "stderr",
     "output_type": "stream",
     "text": [
      "f:\\software\\python\\lib\\site-packages\\ipykernel_launcher.py:7: DataConversionWarning: A column-vector y was passed when a 1d array was expected. Please change the shape of y to (n_samples,), for example using ravel().\n",
      "  import sys\n",
      "f:\\software\\python\\lib\\site-packages\\sklearn\\utils\\validation.py:547: DataConversionWarning: A column-vector y was passed when a 1d array was expected. Please change the shape of y to (n_samples, ), for example using ravel().\n",
      "  y = column_or_1d(y, warn=True)\n"
     ]
    },
    {
     "name": "stdout",
     "output_type": "stream",
     "text": [
      "0.933\n",
      "0.9275\n"
     ]
    }
   ],
   "source": [
    "#单模型\n",
    "#1. rf\n",
    "from sklearn.ensemble import RandomForestClassifier\n",
    "from sklearn.datasets import make_classification\n",
    "\n",
    "rf = RandomForestClassifier(max_depth=4, random_state=0)\n",
    "rf.fit(train_x, train_y)\n",
    "\n",
    "y_pre = rf.predict(val_x)\n",
    "c = 0.0\n",
    "for i in range(2000):\n",
    "    if y_pre[i] == val_y[i]:\n",
    "        c+=1.0\n",
    "print(c/2000.0)\n",
    "\n",
    "#2. gbdt\n",
    "from sklearn.ensemble import GradientBoostingRegressor\n",
    "gbdt=GradientBoostingRegressor(loss='ls', learning_rate=0.1, n_estimators=100, max_depth=3)\n",
    "gbdt.fit(train_x, train_y)\n",
    "\n",
    "y_pre=gbdt.predict(val_x)\n",
    "\n",
    "def v2num(v):\n",
    "    np.abs(v-2)\n",
    "y_num = []\n",
    "for yy in y_pre:\n",
    "    y_num.append(round(yy,0))\n",
    "c = 0.0\n",
    "for i in range(2000):\n",
    "    if y_num[i] == val_y[i]:\n",
    "        c+=1.0\n",
    "print(c/2000.0)\n",
    "\n",
    "\n",
    "#3."
   ]
  },
  {
   "cell_type": "code",
   "execution_count": 24,
   "metadata": {},
   "outputs": [
    {
     "name": "stderr",
     "output_type": "stream",
     "text": [
      "f:\\software\\python\\lib\\site-packages\\sklearn\\cross_validation.py:41: DeprecationWarning: This module was deprecated in version 0.18 in favor of the model_selection module into which all the refactored classes and functions are moved. Also note that the interface of the new CV iterators are different from that of this module. This module will be removed in 0.20.\n",
      "  \"This module will be removed in 0.20.\", DeprecationWarning)\n"
     ]
    }
   ],
   "source": [
    "# stacking\n",
    "from sklearn.cross_validation import KFold\n",
    "class Ensemble(object):\n",
    "    def __init__(self, n_folds, stacker, base_models):\n",
    "        self.n_folds = n_folds            #交叉验证集划分的折数\n",
    "        self.stacker = stacker            #第二层stacking时使用的分类器\n",
    "        self.base_models = base_models    #第一层的基本模型 们\n",
    "    def fit_predict(self, X, y, T):\n",
    "        X = np.array(X)   #train_x\n",
    "        y = np.array(y)   #train_y\n",
    "        T = np.array(T)   #test_x\n",
    "        folds = list(KFold(len(y), n_folds=self.n_folds, shuffle=True, random_state=2016))\n",
    "        #sklearn.cross_validation.KFold(n, n_folds=3, shuffle=False, random_state=None)\n",
    "        #http://scikit-learn.org/stable/modules/generated/sklearn.cross_validation.KFold.html\n",
    "        #这里只是生成了index 的迭代器，根据index取数据在后面进行\n",
    "        \n",
    "        S_train = np.zeros((X.shape[0], len(self.base_models))) #第二层的训练数据\n",
    "        S_test = np.zeros((T.shape[0], len(self.base_models)))\n",
    "        #数据条数不变，特征数变为模型数，因为每个模型产生一列\n",
    "        \n",
    "        for i, clf in enumerate(self.base_models):    #clf  Classification  \n",
    "            S_test_i = np.zeros((T.shape[0], len(folds)))\n",
    "            for j, (train_idx, test_idx) in enumerate(folds):\n",
    "                X_train = X[train_idx]\n",
    "                y_train = y[train_idx]\n",
    "                X_holdout = X[test_idx]\n",
    "                # y_holdout = y[test_idx]\n",
    "                clf.fit(X_train, y_train)\n",
    "                y_pred = clf.predict(X_holdout)[:]\n",
    "                S_train[test_idx, i] = y_pred\n",
    "                S_test_i[:, j] = clf.predict(T)[:]  #整个T的预测\n",
    "            S_test[:, i] = S_test_i.mean(1)    #按行求平均值 即axis=1. 矩阵变成一列后加入S_test中\n",
    "            \n",
    "        self.stacker.fit(S_train, y)\n",
    "        y_pred = self.stacker.predict(S_test)[:]\n",
    "        return y_pred"
   ]
  },
  {
   "cell_type": "code",
   "execution_count": 36,
   "metadata": {},
   "outputs": [
    {
     "name": "stderr",
     "output_type": "stream",
     "text": [
      "f:\\software\\python\\lib\\site-packages\\ipykernel_launcher.py:28: DataConversionWarning: A column-vector y was passed when a 1d array was expected. Please change the shape of y to (n_samples,), for example using ravel().\n",
      "f:\\software\\python\\lib\\site-packages\\ipykernel_launcher.py:28: DataConversionWarning: A column-vector y was passed when a 1d array was expected. Please change the shape of y to (n_samples,), for example using ravel().\n",
      "f:\\software\\python\\lib\\site-packages\\ipykernel_launcher.py:28: DataConversionWarning: A column-vector y was passed when a 1d array was expected. Please change the shape of y to (n_samples,), for example using ravel().\n",
      "f:\\software\\python\\lib\\site-packages\\ipykernel_launcher.py:28: DataConversionWarning: A column-vector y was passed when a 1d array was expected. Please change the shape of y to (n_samples,), for example using ravel().\n",
      "f:\\software\\python\\lib\\site-packages\\ipykernel_launcher.py:28: DataConversionWarning: A column-vector y was passed when a 1d array was expected. Please change the shape of y to (n_samples,), for example using ravel().\n",
      "f:\\software\\python\\lib\\site-packages\\sklearn\\utils\\validation.py:547: DataConversionWarning: A column-vector y was passed when a 1d array was expected. Please change the shape of y to (n_samples, ), for example using ravel().\n",
      "  y = column_or_1d(y, warn=True)\n"
     ]
    },
    {
     "name": "stdout",
     "output_type": "stream",
     "text": [
      "0.9335\n"
     ]
    },
    {
     "name": "stderr",
     "output_type": "stream",
     "text": [
      "f:\\software\\python\\lib\\site-packages\\ipykernel_launcher.py:34: DataConversionWarning: A column-vector y was passed when a 1d array was expected. Please change the shape of y to (n_samples,), for example using ravel().\n"
     ]
    }
   ],
   "source": [
    "rfS = RandomForestClassifier(max_depth=4, random_state=0)\n",
    "gbdtS =GradientBoostingRegressor(loss='ls', learning_rate=0.1, n_estimators=100, max_depth=3)\n",
    "modelS = Ensemble(5, rfS, [rfS, gbdtS])\n",
    "preS = modelS.fit_predict(train_x,train_y,val_x)\n",
    "#print(preS)\n",
    "c = 0.0\n",
    "for i in range(2000):\n",
    "    if preS[i] == val_y[i]:\n",
    "        c+=1.0\n",
    "print(c/2000.0)"
   ]
  },
  {
   "cell_type": "code",
   "execution_count": null,
   "metadata": {},
   "outputs": [],
   "source": []
  }
 ],
 "metadata": {
  "kernelspec": {
   "display_name": "Python 3",
   "language": "python",
   "name": "python3"
  },
  "language_info": {
   "codemirror_mode": {
    "name": "ipython",
    "version": 3
   },
   "file_extension": ".py",
   "mimetype": "text/x-python",
   "name": "python",
   "nbconvert_exporter": "python",
   "pygments_lexer": "ipython3",
   "version": "3.5.4"
  }
 },
 "nbformat": 4,
 "nbformat_minor": 2
}
