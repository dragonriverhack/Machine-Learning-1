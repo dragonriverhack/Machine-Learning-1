{
 "cells": [
  {
   "cell_type": "code",
   "execution_count": 9,
   "metadata": {},
   "outputs": [
    {
     "name": "stdout",
     "output_type": "stream",
     "text": [
      "[[ 1.   1.   2. ]\n",
      " [ 1.   4.   3. ]\n",
      " [ 1.   2.   2. ]\n",
      " [ 1.   3.   2. ]\n",
      " [ 1.   1.   1. ]\n",
      " [ 1.   2.5  1.5]\n",
      " [ 1.   3.5  1.5]\n",
      " [ 1.   2.9  2.8]]\n"
     ]
    }
   ],
   "source": [
    "###############1.线性可分/硬间隔最大化####################\n",
    "#==================== Part 0: Basic Function ====================\n",
    "import numpy as np\n",
    "\n",
    "x = np.array([[1,2],[4,3],[2,2],[3,2],[1,1],[2.5,1.5],[3.5,1.5],[2.9,2.8]])\n",
    "y= np.array([-1,1,-1,1,-1,-1,1,1])\n",
    "n=len(y)\n",
    "y= y.reshape((n,1))\n",
    "x= x.reshape((n,2))\n",
    "X = np.hstack((np.ones((n,1)),x)) \n",
    "print(X)"
   ]
  },
  {
   "cell_type": "code",
   "execution_count": 10,
   "metadata": {},
   "outputs": [
    {
     "data": {
      "image/png": "[encoded data removed]",
      "text/plain": [
       "<matplotlib.figure.Figure at 0x71861d0>"
      ]
     },
     "metadata": {},
     "output_type": "display_data"
    }
   ],
   "source": [
    "#%% ==================== Part 1: Plotting ====================\n",
    "#We start the exercise by first plotting the data to understand the the problem we are working with.\n",
    "import matplotlib.pyplot as plt\n",
    "\n",
    "def plotData(x,y):\n",
    "    fig = plt.figure()  \n",
    "    ax= fig.add_subplot(111) #使画在一个图上\n",
    "    \n",
    "    pos = np.where(y[:]==1) #y为类似矩阵形式，所以要再取第一列\n",
    "    neg = np.where(y[:]==-1)\n",
    "    ax1 = plt.scatter(x[pos,0], x[pos,1], marker = 'x', color = 'b')  \n",
    "    ax2 = plt.scatter(x[neg,0], x[neg,1], marker = 'o', color = 'r')  \n",
    "    plt.xlabel('x1') \n",
    "    plt.ylabel('x2')\n",
    "    plt.show()\n",
    "\n",
    "plotData(x,y)"
   ]
  },
  {
   "cell_type": "code",
   "execution_count": 14,
   "metadata": {},
   "outputs": [
    {
     "name": "stdout",
     "output_type": "stream",
     "text": [
      "[[-0.23 ]\n",
      " [ 0.093]\n",
      " [-0.014]]\n"
     ]
    }
   ],
   "source": [
    "#============ Part 2: Compute Cost and Gradient ============\n",
    "m,n = X.shape\n",
    "\n",
    "alpha = 0.01\n",
    "iterations=1000\n",
    "w = np.zeros((n , 1))\n",
    "\n",
    "#Compute and display initial cost and gradient\n",
    "def sign1(z):\n",
    "    for i in range(len(z)):\n",
    "        if z[i]>=0:\n",
    "            z[i]=1\n",
    "        else:\n",
    "            z[i]=0\n",
    "    return z\n",
    "    \n",
    "def costFunction(w, x, y):\n",
    "    x=x.reshape((1,n))\n",
    "    J = -(y*(np.dot(x,w)))\n",
    "    return J\n",
    "\n",
    "def gradientDescent(X,y,alpha,iterations):\n",
    "    global w\n",
    "    for i in range(iterations):\n",
    "        for j in range(m):\n",
    "            if np.sum(np.dot(X[j],w))*y[j] <= 0:\n",
    "                w = w+alpha*y[j]*X[j].reshape((n,1))\n",
    "                #plotPerc(w,X,y)\n",
    "                #break #若每次只更新一个数据 可以break\n",
    "    return w\n",
    "\n",
    "final_theta = gradientDescent(X,y,alpha,iterations)\n",
    "\n",
    "print(final_theta)"
   ]
  },
  {
   "cell_type": "code",
   "execution_count": 16,
   "metadata": {},
   "outputs": [
    {
     "data": {
      "image/png": "[encoded data removed]",
      "text/plain": [
       "<matplotlib.figure.Figure at 0x716e240>"
      ]
     },
     "metadata": {},
     "output_type": "display_data"
    }
   ],
   "source": [
    "#%% ============= Part 3: Visualizing J(theta_0, theta_1) =============\n",
    "def plotPerc(final_theta,X,y):\n",
    "    fig = plt.figure()  \n",
    "    ax= fig.add_subplot(111) #使画在一个图上\n",
    "    \n",
    "    pos = np.where(y[:,0]==1) #y为类似矩阵形式，所以要再取第一列\n",
    "    neg = np.where(y[:,0]==-1)\n",
    "    \n",
    "    ax1 = plt.scatter(x[pos,0], x[pos,1], marker = 'x', color = 'm')  \n",
    "    ax2 = plt.scatter(x[neg,0], x[neg,1], marker = 'o', color = 'r')  \n",
    "    \n",
    "    plt.xlabel('x1') \n",
    "    plt.ylabel('x2')\n",
    "    \n",
    "    #final_theta = np.array([-25.161,0.206,0.201]).reshape((3,1))\n",
    "\n",
    "    plotX = np.arange(1,5,1)\n",
    "    plotY = (-final_theta[0]-final_theta[1]*plotX)/final_theta[2] \n",
    "    plt.plot(plotX,plotY)\n",
    "    \n",
    "    plt.show()\n",
    "\n",
    "plotPerc(final_theta,X,y)"
   ]
  },
  {
   "cell_type": "code",
   "execution_count": null,
   "metadata": {
    "collapsed": true
   },
   "outputs": [],
   "source": []
  }
 ],
 "metadata": {
  "kernelspec": {
   "display_name": "Python 3",
   "language": "python",
   "name": "python3"
  },
  "language_info": {
   "codemirror_mode": {
    "name": "ipython",
    "version": 3
   },
   "file_extension": ".py",
   "mimetype": "text/x-python",
   "name": "python",
   "nbconvert_exporter": "python",
   "pygments_lexer": "ipython3",
   "version": "3.5.2rc1"
  }
 },
 "nbformat": 4,
 "nbformat_minor": 2
}
