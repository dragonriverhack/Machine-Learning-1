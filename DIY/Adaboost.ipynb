{
 "cells": [
  {
   "cell_type": "markdown",
   "metadata": {},
   "source": [
    "[为什么机器能够学习——PAC Learnability](http://www.cnblogs.com/wacc/p/4338437.html)\n",
    "\n",
    "而在PAC学习的框架中，一个概念是强可学习的充要条件是这个概念是弱可学习的。\n"
   ]
  },
  {
   "cell_type": "code",
   "execution_count": 10,
   "metadata": {},
   "outputs": [
    {
     "name": "stdout",
     "output_type": "stream",
     "text": [
      "2.5\n"
     ]
    },
    {
     "data": {
      "text/plain": [
       "array([ 1.,  1.,  1., -1., -1., -1., -1., -1., -1., -1.])"
      ]
     },
     "execution_count": 10,
     "metadata": {},
     "output_type": "execute_result"
    }
   ],
   "source": [
    "#参考公式原理：统计学习方法 例8.1\n",
    "import numpy as np\n",
    "import matplotlib.pyplot as plt\n",
    "\n",
    "x = np.array([0,1,2,3,4,5,6,7,8,9])\n",
    "y = np.array([1,1,1,-1,-1,-1,1,1,1,-1])\n",
    "\n",
    "#弱分类器\n",
    "def weakClassifier(x,threshold,reverse):\n",
    "    #输入x，y\n",
    "    #输出误差最小的阈值\n",
    "    m=x.shape[0]\n",
    "    y_t = np.ones(m)\n",
    "    y_t[x>threshold] = -1\n",
    "    if reverse:y_t=y_t*-1\n",
    "    return y_t\n",
    "\n",
    "def bestThreshold(x,y,D):\n",
    "    #输入x，y\n",
    "    #输出误差最小的阈值\n",
    "    m=len(y)\n",
    "    loss_min = float('inf')\n",
    "    for i in range(min(x),max(x)+2):#选择阈值\n",
    "        \n",
    "        y_t = np.ones(m)\n",
    "        y_t[x>=i] = -1\n",
    "        loss = np.sum(D*np.abs(y-y_t))/m \n",
    "        if loss<loss_min:\n",
    "            loss_min = loss\n",
    "            best_v = i-0.5 #因为取的>= 所以取和小的值的中间值\n",
    "            reverse = 0\n",
    "            \n",
    "        y_t_re = np.ones(m)*-1\n",
    "        y_t_re[x>=i] = 1\n",
    "        loss = np.sum(D*np.abs(y-y_t_re))/m \n",
    "        if loss<loss_min:\n",
    "            loss_min = loss\n",
    "            best_v = i-0.5 \n",
    "            reverse = 1\n",
    "            \n",
    "    return best_v ,reverse\n",
    "\n",
    "D = np.ones(len(y))*(1/len(y))  #数据权重\n",
    "t,_ = bestThreshold(x,y,D)\n",
    "print(t)\n",
    "weakClassifier(x,t,reverse=0)"
   ]
  },
  {
   "cell_type": "code",
   "execution_count": 40,
   "metadata": {},
   "outputs": [
    {
     "data": {
      "text/plain": [
       "array([ 1.,  1.,  1., -1., -1., -1.,  1.,  1.,  1., -1.])"
      ]
     },
     "execution_count": 40,
     "metadata": {},
     "output_type": "execute_result"
    }
   ],
   "source": [
    "def AdaBoost(x,y,weakClassifier):\n",
    "    #classNums为分类器的数量，即迭代次数\n",
    "    #初始化\n",
    "    num = len(y)\n",
    "    w = 1/num   \n",
    "    D = np.ones(num)*w  #数据权重\n",
    "    alpha = [] #分类器权重\n",
    "    em=1.0\n",
    "    th_init,reverse = bestThreshold(x,y,D)\n",
    "    G = [th_init] #存储分类器结果\n",
    "    Rev = [reverse]\n",
    "    while 1:\n",
    "        y_pre_t = weakClassifier(x,G[-1],reverse)\n",
    "\n",
    "        em = np.sum(D[y_pre_t!=y])\n",
    "        alpha.append(0.5*np.log((1-em)/em))\n",
    "        #UPDATE\n",
    "        Z = np.sum(D*np.exp(-alpha[-1]*y*y_pre_t))\n",
    "        D = D/Z * np.exp(-alpha[-1]*y*y_pre_t)\n",
    "        v,reverse=bestThreshold(x,y,D)\n",
    "        G.append(v)\n",
    "        Rev.append(reverse)\n",
    "        \n",
    "        f = 0\n",
    "        for i in range(len(alpha)):\n",
    "            f += alpha[i]*weakClassifier(x,G[i],Rev[i])\n",
    "        y_pre = np.sign(f)\n",
    "        if ((y_pre-y)==0).all():\n",
    "            break       \n",
    "    return y_pre\n",
    "\n",
    "AdaBoost(x,y,weakClassifier)"
   ]
  },
  {
   "cell_type": "code",
   "execution_count": null,
   "metadata": {
    "collapsed": true
   },
   "outputs": [],
   "source": []
  }
 ],
 "metadata": {
  "kernelspec": {
   "display_name": "Python 3",
   "language": "python",
   "name": "python3"
  },
  "language_info": {
   "codemirror_mode": {
    "name": "ipython",
    "version": 3
   },
   "file_extension": ".py",
   "mimetype": "text/x-python",
   "name": "python",
   "nbconvert_exporter": "python",
   "pygments_lexer": "ipython3",
   "version": "3.5.2rc1"
  }
 },
 "nbformat": 4,
 "nbformat_minor": 2
}
