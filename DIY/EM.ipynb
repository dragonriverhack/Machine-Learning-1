{
 "cells": [
  {
   "cell_type": "code",
   "execution_count": 12,
   "metadata": {
    "collapsed": true
   },
   "outputs": [],
   "source": [
    "######### 1.DATA ##########\n",
    "#例子：统计学习方法三硬币 A,B,C 正面出现概率分别为 a，p，q。\n",
    "#先扔A，正面选B，反面C。再扔选的硬币，正面为1，反面为0\n",
    "#已知观测结果，求a，p，b。\n",
    "import numpy as np\n",
    "\n",
    "y = [1,1,0,1,0,0,1,0,1,1]\n",
    "y = np.array(y)"
   ]
  },
  {
   "cell_type": "code",
   "execution_count": 15,
   "metadata": {
    "collapsed": true
   },
   "outputs": [],
   "source": [
    "######### 2.EM ###########\n",
    "def stepE(valuesOld,y):\n",
    "    a = valuesOld[0]\n",
    "    p = valuesOld[1]\n",
    "    q = valuesOld[2]\n",
    "    miu = (a*p**y*(1-p)**(1-y)) / ((a*p**y*(1-p)**(1-y)) + (1-a)*q**y*(1-q)**(1-y))\n",
    "    return miu\n",
    "    \n",
    "def setpM(miu,y):\n",
    "    a = np.mean(miu)\n",
    "    p = np.sum(miu*y) / np.sum(miu)\n",
    "    q = np.sum((1-miu)*y) / np.sum(1-miu)\n",
    "    valuesNew = np.array([a,p,q])\n",
    "    return valuesNew\n",
    "    \n",
    "def EM(init_values,y,tol = 0.0001,iterations = 1000):\n",
    "    valuesOld = np.array(init_values)\n",
    "    for i in range(iterations):\n",
    "        miu = stepE(valuesOld,y)\n",
    "        valuesNew = setpM(miu,y)\n",
    "        if np.sum(valuesNew-valuesOld) < tol:\n",
    "            break\n",
    "        else:\n",
    "            valuesOld = valuesNew\n",
    "    return valuesNew"
   ]
  },
  {
   "cell_type": "code",
   "execution_count": 17,
   "metadata": {},
   "outputs": [
    {
     "name": "stdout",
     "output_type": "stream",
     "text": [
      "[ 0.5  0.6  0.6]\n",
      "[ 0.40641711  0.53684211  0.64324324]\n"
     ]
    }
   ],
   "source": [
    "######### 3.test #########\n",
    "\n",
    "init_values1 = [0.5,0.5,0.5]\n",
    "output1 = EM(init_values1,y)\n",
    "print(output1)\n",
    "init_values2 = [0.4,0.6,0.7]\n",
    "output2 = EM(init_values2,y)\n",
    "print(output2)"
   ]
  },
  {
   "cell_type": "code",
   "execution_count": null,
   "metadata": {
    "collapsed": true
   },
   "outputs": [],
   "source": []
  }
 ],
 "metadata": {
  "kernelspec": {
   "display_name": "Python 3",
   "language": "python",
   "name": "python3"
  },
  "language_info": {
   "codemirror_mode": {
    "name": "ipython",
    "version": 3
   },
   "file_extension": ".py",
   "mimetype": "text/x-python",
   "name": "python",
   "nbconvert_exporter": "python",
   "pygments_lexer": "ipython3",
   "version": "3.5.4"
  }
 },
 "nbformat": 4,
 "nbformat_minor": 2
}
