{
 "cells": [
  {
   "cell_type": "markdown",
   "metadata": {},
   "source": [
    "[条件随机场介绍（译）Introduction to Conditional Random Fields](https://zhuanlan.zhihu.com/p/25558273)"
   ]
  },
  {
   "cell_type": "code",
   "execution_count": 21,
   "metadata": {},
   "outputs": [
    {
     "name": "stdout",
     "output_type": "stream",
     "text": [
      "猎犬 /在 /池塘 /游泳\n",
      "------------\n",
      "猎犬 / n , \n",
      "在 / p , \n",
      "池塘 / ns , \n",
      "游泳 / vn , \n",
      "['猎犬', '在', '池塘', '游泳']\n"
     ]
    }
   ],
   "source": [
    "###### 0.数据 ########\n",
    "import numpy as np\n",
    "import jieba\n",
    "import jieba.posseg as pseg\n",
    "\n",
    "data = '猎犬在池塘游泳'\n",
    "data_split =jieba.cut(data,cut_all=False,HMM=False)\n",
    "data_str = \" /\".join(data_split)\n",
    "print(data_str)\n",
    "print('------------')\n",
    "#看看jieba自带的词性标注例子\n",
    "result = pseg.cut(data)  \n",
    "for w in  result:\n",
    "    print(w.word, \"/\", w.flag, \", \",)\n",
    "\n",
    "data_list = data_str.split(\" /\")   \n",
    "print(data_list)    "
   ]
  },
  {
   "cell_type": "code",
   "execution_count": 29,
   "metadata": {},
   "outputs": [
    {
     "name": "stdout",
     "output_type": "stream",
     "text": [
      "[ 0.17281421  0.54401201  0.65880065  0.2888991   0.17612854  0.81668556]\n"
     ]
    }
   ],
   "source": [
    "###### 1.模型 ########\n",
    "'''\n",
    "为了简化，假设只有n，v，p三种词性\n",
    "'''\n",
    "#特征函数\n",
    "def ff1(s,i,li,li_pre):\n",
    "    if  i == 0 and li == \"n\":\n",
    "        return 1\n",
    "    else:return 0\n",
    "    \n",
    "def ff2(s,i,li,li_pre):\n",
    "    if i!=0 and ((li == 'n' and li_pre !='n') or (li != 'n' and li_pre =='n')):\n",
    "        return 1\n",
    "    else:return 0\n",
    "    \n",
    "def ff3(s,i,li,li_pre):\n",
    "    if i!=0 and ((li == 'v' and li_pre !='v') or (li != 'v' and li_pre =='v')):\n",
    "        return 1\n",
    "    else:return 0\n",
    "    \n",
    "def ff4(s,i,li,li_pre):\n",
    "    if i!=0 and ((li == 'p' and li_pre !='p') or (li != 'p' and li_pre =='p')):\n",
    "        return 1\n",
    "    else:return 0    \n",
    "\n",
    "def ff5(s,i,li,li_pre):\n",
    "    if i==-1 and (li != 'p' or (li != 'v' and li_pre =='p')):\n",
    "        return 1\n",
    "    else:return 0  \n",
    "\n",
    "def ff6(s,i,li,li_pre):\n",
    "    if i==-1 and ((li == 'n' and li_pre =='v') or (li == 'v' and li_pre =='n')):\n",
    "        return 1\n",
    "    else:return 0  \n",
    "    \n",
    "\n",
    "featureFunc = [ff1,ff2,ff3,ff4,ff5,ff6]\n",
    "m = len(featureFunc)\n",
    "#权重 随机初始化\n",
    "lambd = np.random.rand(m)\n",
    "print(lambd)\n",
    "#训练数据\n",
    "s = [['青蛙','在','夜晚','唱歌'],\n",
    "     ['苹果','是','水果'],\n",
    "     ['他','喜欢','足球'],]\n",
    "#防止li_pre取到-1，加一个0\n",
    "l = [[0,'n','p','n','v'],\n",
    "     [0,'n','v','n'],\n",
    "     [0,'p','v','n'],]"
   ]
  },
  {
   "cell_type": "code",
   "execution_count": 39,
   "metadata": {},
   "outputs": [
    {
     "name": "stdout",
     "output_type": "stream",
     "text": [
      "[ 0.68716415  1.05836194  1.17315059  0.80324904  0.69047848  1.3310355 ]\n"
     ]
    }
   ],
   "source": [
    "###### 2.权重学习 ########\n",
    "alpha = 0.1\n",
    "iterations = 10\n",
    "it = 0\n",
    "\n",
    "while it <iterations:\n",
    "    g1 = 0\n",
    "    for i in range(len(s)):#对每个训练句子\n",
    "        for k in range(len(s[i])):#对每个单词\n",
    "            for j in range(m): #对每个函数\n",
    "                f = featureFunc[j]\n",
    "                #lmbd = lambd[j]\n",
    "                g1+=f(s[i], k, l[i][k+1], l[i][k])\n",
    "    \n",
    "    g2 = 0\n",
    "    p = 0\n",
    "    for i in range(len(s)):#对每个训练句子\n",
    "        for k in range(len(s[i])):#对每个单词\n",
    "            for j in range(m): #对每个函数\n",
    "                f = featureFunc[j]\n",
    "                lmbd = lambd[j]\n",
    "                g2+=f(s[i],k,l[i][k+1],l[i][k])*lmbd\n",
    "######这里还是有问题，原公式还有一个P（l'|s）  求和，不知道什么意思 #######################         \n",
    "                #p = \n",
    "    #g2=p*g2        \n",
    "    grad =g1-g2 \n",
    "    lambd += alpha*grad\n",
    "    it+=1\n",
    "print(lambd)"
   ]
  },
  {
   "cell_type": "code",
   "execution_count": 58,
   "metadata": {},
   "outputs": [
    {
     "name": "stdout",
     "output_type": "stream",
     "text": [
      "-----\n",
      "7.38170173798\n",
      "['n', 'v', 'n', 'v']\n"
     ]
    }
   ],
   "source": [
    "###### 3.找到最佳标注 ########\n",
    "#直接为每个可能的标注复杂度为指数级，更好的办法是使（线性链式）CRF满足最佳子结构（optimal substructure）的属性，可以采用DP\n",
    "#这里为了简化直接用暴力方法\n",
    "poss = []\n",
    "typeW = ['n','v','p']\n",
    "for i in typeW:\n",
    "    for j in typeW:\n",
    "        for k in typeW:\n",
    "            for n in typeW:\n",
    "                poss.append([i,j,k,n])\n",
    "                \n",
    "maxS = 0\n",
    "maxI = 0\n",
    "for i in range(len(poss)): \n",
    "    value = 0\n",
    "    for j in range(m): #外层循环，遍历所有特征函数\n",
    "        s = [0]+poss[i]\n",
    "        for w in range(len(s)-1):\n",
    "            value+=featureFunc[j](poss[i],w,s[w+1],s[w])*lambd[j]\n",
    "    if value>maxS:\n",
    "        maxS = value\n",
    "        maxI = i\n",
    "        \n",
    "print('-----')\n",
    "print(maxS)\n",
    "print(poss[maxI])\n",
    "                           "
   ]
  },
  {
   "cell_type": "markdown",
   "metadata": {},
   "source": [
    "正确应该是[n,p,n,v],这里数据集比较小，特征函数也很少，所以结果勉强可以。"
   ]
  },
  {
   "cell_type": "code",
   "execution_count": null,
   "metadata": {
    "collapsed": true
   },
   "outputs": [],
   "source": []
  }
 ],
 "metadata": {
  "kernelspec": {
   "display_name": "Python 3",
   "language": "python",
   "name": "python3"
  },
  "language_info": {
   "codemirror_mode": {
    "name": "ipython",
    "version": 3
   },
   "file_extension": ".py",
   "mimetype": "text/x-python",
   "name": "python",
   "nbconvert_exporter": "python",
   "pygments_lexer": "ipython3",
   "version": "3.5.4"
  }
 },
 "nbformat": 4,
 "nbformat_minor": 2
}
