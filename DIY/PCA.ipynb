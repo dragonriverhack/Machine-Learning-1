{
 "cells": [
  {
   "cell_type": "code",
   "execution_count": 1,
   "metadata": {},
   "outputs": [
    {
     "data": {
      "image/png": "[encoded data removed]",
      "text/plain": [
       "<matplotlib.figure.Figure at 0x21a284ba5f8>"
      ]
     },
     "metadata": {},
     "output_type": "display_data"
    }
   ],
   "source": [
    "#参考：cs231n\n",
    "############### 1.准备数据 ############\n",
    "import numpy as np\n",
    "import matplotlib.pyplot as plt\n",
    "\n",
    "data = np.array([[-1,-2],\n",
    "                 [-1,0],\n",
    "                 [0,0],\n",
    "                 [2,1],\n",
    "                 [0,1]],dtype='float64')\n",
    "\n",
    "def plotData(x,y):\n",
    "    fig = plt.figure()  \n",
    "    ax= fig.add_subplot(111) #使画在一个图上\n",
    "    \n",
    "    ax = plt.scatter(x, y, marker = 'x', color = 'm')  \n",
    "    plt.xlabel('x1') \n",
    "    plt.ylabel('x2')\n",
    "    \n",
    "    plt.show()\n",
    "\n",
    "plotData(data[:,0],data[:,1])"
   ]
  },
  {
   "cell_type": "code",
   "execution_count": 21,
   "metadata": {},
   "outputs": [
    {
     "name": "stdout",
     "output_type": "stream",
     "text": [
      "[[ 2.12132034]\n",
      " [ 0.70710678]\n",
      " [ 0.        ]\n",
      " [-2.12132034]\n",
      " [-0.70710678]] [-0.70710678 -0.70710678]\n"
     ]
    }
   ],
   "source": [
    "############# 2.核心算法 ###############\n",
    "#根据主成份保留比例，计算留下的维度\n",
    "def ratio_2_dim(eigVals,ratio):\n",
    "    sortArray=np.sort(eigVals,-1)   #升序\n",
    "    sortArray=sortArray[-1::-1]     #降序\n",
    "    arraySum=sum(sortArray)\n",
    "    tmp=0\n",
    "    dim_num=0\n",
    "    for i in sortArray:\n",
    "        tmp+=i\n",
    "        dim_num+=1\n",
    "        if tmp>=arraySum*ratio:\n",
    "            return dim_num\n",
    "        \n",
    "def PCA(data,ratio=0.9):\n",
    "    #input:m*n\n",
    "    #ratio:主成分保留占比\n",
    "    #output:降维后的mat m*redu_dim\n",
    "    \n",
    "    data -= np.mean(data,axis=0) #零中心化\n",
    "\n",
    "    cov = np.dot(data .T, data) / data.shape[0] #协方差矩阵\n",
    "    \n",
    "    U,S,V=np.linalg.svd(cov) #U的列是特征向量（降序），S是奇异值的一维数组\n",
    "    \n",
    "    U1=U[:,0] \n",
    "    #Xrot = np.dot(X,U)  #对数据去除相关性，投影到特征基准\n",
    "    reduce_dim = ratio_2_dim(S,ratio)\n",
    "    Xrot_reduce = np.dot(data,U[:,:reduce_dim])\n",
    "    \n",
    "    return Xrot_reduce,U1\n",
    "\n",
    "redu_data,U1 = PCA(data,0.5)\n",
    "print(redu_data,U1)"
   ]
  },
  {
   "cell_type": "code",
   "execution_count": 36,
   "metadata": {},
   "outputs": [
    {
     "data": {
      "image/png": "[encoded data removed]",
      "text/plain": [
       "<matplotlib.figure.Figure at 0x21a2af0ed68>"
      ]
     },
     "metadata": {},
     "output_type": "display_data"
    }
   ],
   "source": [
    "############# 3.打印结果图片 ##########\n",
    "def plotData2(x,y,redu_data,U1):\n",
    "    fig = plt.figure()  \n",
    "    fig.set_size_inches(6, 6) #设置高宽比一样\n",
    "    \n",
    "    #原始点\n",
    "    ax = plt.scatter(x, y, marker = 'x', color = 'm')  \n",
    "\n",
    "    #第一主成分方向直线\n",
    "    k = (U1[1]/U1[0])\n",
    "    plotX = np.arange(-2,3)\n",
    "    plotY = k*plotX\n",
    "    plt.plot(plotX,plotY)\n",
    "    \n",
    "    #降维后的数据点\n",
    "    dist = redu_data\n",
    "    symbol = dist.copy()\n",
    "    symbol[symbol>=0]=1\n",
    "    symbol[symbol<0]=-1\n",
    "    \n",
    "    dotX = np.sqrt(dist**2/(k**2+1))\n",
    "    dotX = dotX*symbol\n",
    "    dotY = k*dotX\n",
    "    ax2 = plt.scatter(dotX, dotY, marker = 'o', color = 'r') \n",
    "    \n",
    "    plt.xlabel('x1') \n",
    "    plt.ylabel('x2')\n",
    "    plt.show()\n",
    "\n",
    "plotData2(data[:,0],data[:,1],redu_data[:,0],U1)"
   ]
  },
  {
   "cell_type": "markdown",
   "metadata": {},
   "source": [
    "#### 结果：\n",
    "红色圆点为紫色x点垂直的投影点。\n",
    "\n",
    "即把二维降维到一维了。"
   ]
  },
  {
   "cell_type": "code",
   "execution_count": null,
   "metadata": {
    "collapsed": true
   },
   "outputs": [],
   "source": []
  }
 ],
 "metadata": {
  "kernelspec": {
   "display_name": "Python 3",
   "language": "python",
   "name": "python3"
  },
  "language_info": {
   "codemirror_mode": {
    "name": "ipython",
    "version": 3
   },
   "file_extension": ".py",
   "mimetype": "text/x-python",
   "name": "python",
   "nbconvert_exporter": "python",
   "pygments_lexer": "ipython3",
   "version": "3.5.4"
  }
 },
 "nbformat": 4,
 "nbformat_minor": 2
}
