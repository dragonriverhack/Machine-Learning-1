{
 "cells": [
  {
   "cell_type": "code",
   "execution_count": 2,
   "metadata": {},
   "outputs": [],
   "source": [
    "# coding: utf-8\n",
    "#贝叶斯定理：P(A|B) = P(B|A) P(A) / P(B)\n",
    "\n",
    "#data\n",
    "#判断一句话的情感 1:positive 0:negtive\n",
    "#语料库 、 假如已经分好词，且为了简化，只取几个词\n",
    "x = [['happy','feel','movie'],\n",
    "     ['happy','sad','not'],\n",
    "     ['new','out','dinner'],\n",
    "     ['happy','sunny','play'],\n",
    "     ['sad','cry','movie']]\n",
    "\n",
    "y = [1,0,1,1,0]"
   ]
  },
  {
   "cell_type": "code",
   "execution_count": 3,
   "metadata": {},
   "outputs": [
    {
     "name": "stdout",
     "output_type": "stream",
     "text": [
      "1\n",
      "{'happy': 0.5}\n",
      "{'sad': 0.5, 'happy': 0.5}\n",
      "{'not': 0.5, 'sad': 0.5, 'happy': 0.5}\n",
      "4\n",
      "{'not': 0.5, 'sad': 1.0, 'happy': 0.5}\n",
      "{'not': 0.5, 'sad': 1.0, 'cry': 0.5, 'happy': 0.5}\n",
      "{'not': 0.5, 'sad': 1.0, 'cry': 0.5, 'happy': 0.5, 'movie': 0.5}\n"
     ]
    }
   ],
   "source": [
    "#train\n",
    "#计算每个词的概率\n",
    "num_p = 0\n",
    "num_n = 0\n",
    "pos={}\n",
    "neg={}\n",
    "for l in y:\n",
    "    if l == 1:\n",
    "        num_p+=1\n",
    "    else:\n",
    "        num_n+=1\n",
    "for i in range(len(x)):\n",
    "    if y[i] == 1:\n",
    "        for j in range(len(x[0])):\n",
    "            #dict.get(key, default=None) 返回给定键的值。如果键不可用，则返回默认值None。\n",
    "            pos[x[i][j]] = pos.get(x[i][j], 0)+1/num_p\n",
    "    else:\n",
    "        print(i)\n",
    "        for k in range(len(x[0])):\n",
    "            neg[x[i][k]] = neg.get(x[i][k], 0)+1/num_n\n",
    "            print(neg)"
   ]
  },
  {
   "cell_type": "code",
   "execution_count": 5,
   "metadata": {},
   "outputs": [
    {
     "name": "stdout",
     "output_type": "stream",
     "text": [
      "negtive\n"
     ]
    }
   ],
   "source": [
    "#predict\n",
    "sentence = 'I am not happy even the weather is sunny cause I saw a sad movie'\n",
    "#提取关键词(对应词库的)\n",
    "test = ['not','happy','sunny','sad','movie']\n",
    "\n",
    "P1=1\n",
    "P2=1\n",
    "for i in test:\n",
    "    if i in pos:\n",
    "        P1 *= pos[i] \n",
    "    if i in neg:\n",
    "        P2 *= neg[i]\n",
    "\n",
    "if P1>P2:\n",
    "    print('positive')\n",
    "else:\n",
    "    print('negtive')\n"
   ]
  },
  {
   "cell_type": "code",
   "execution_count": null,
   "metadata": {
    "collapsed": true
   },
   "outputs": [],
   "source": []
  }
 ],
 "metadata": {
  "kernelspec": {
   "display_name": "Python 3",
   "language": "python",
   "name": "python3"
  },
  "language_info": {
   "codemirror_mode": {
    "name": "ipython",
    "version": 3
   },
   "file_extension": ".py",
   "mimetype": "text/x-python",
   "name": "python",
   "nbconvert_exporter": "python",
   "pygments_lexer": "ipython3",
   "version": "3.5.2rc1"
  }
 },
 "nbformat": 4,
 "nbformat_minor": 2
}
