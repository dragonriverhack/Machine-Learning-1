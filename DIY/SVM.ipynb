{
 "cells": [
  {
   "cell_type": "code",
   "execution_count": 1,
   "metadata": {
    "collapsed": true
   },
   "outputs": [],
   "source": [
    "#==================== Part 0: Basic Function ====================\n",
    "import numpy as np\n",
    "#用吴恩达课程的数据老是跑不对，theta相差很大，也找不出问题，换了一个sk自带的数据，又可以了。。。不知道问题出在哪\n",
    "with open('F:\\data\\svmdata.txt', 'r') as f:  \n",
    "    data = f.readlines()  #txt中所有字符串读入data  \n",
    "datamat = []\n",
    "for line in data:  \n",
    "    odom = line.strip().split('   ')        #将单个数据分隔开存好 \n",
    "    numbers_float = list(map(float, odom)) #转化为浮点数  \n",
    "    datamat.append(numbers_float)\n",
    "datanp = np.array(datamat)\n",
    "m=datanp.shape[0]\n",
    "#print(m)\n",
    "x = datanp[:,(0,1)].reshape((m,2))  \n",
    "y = datanp[:,2].reshape((m,1))"
   ]
  },
  {
   "cell_type": "code",
   "execution_count": 2,
   "metadata": {},
   "outputs": [
    {
     "data": {
      "image/png": "[encoded data removed]",
      "text/plain": [
       "<matplotlib.figure.Figure at 0x272e476a898>"
      ]
     },
     "metadata": {},
     "output_type": "display_data"
    }
   ],
   "source": [
    "#%% ==================== Part 1: Plotting ====================\n",
    "#We start the exercise by first plotting the data to understand the the problem we are working with.\n",
    "import matplotlib.pyplot as plt\n",
    "\n",
    "def plotData(x,y):\n",
    "    fig = plt.figure()  \n",
    "    ax= fig.add_subplot(111) #使画在一个图上\n",
    "    \n",
    "    pos = np.where(y[:,0]==1) #y为类似矩阵形式，所以要再取第一列\n",
    "    neg = np.where(y[:,0]==-1)\n",
    "    ax1 = plt.scatter(x[pos,0], x[pos,1], marker = 'x', color = 'm')  \n",
    "    ax2 = plt.scatter(x[neg,0], x[neg,1], marker = 'o', color = 'r')  \n",
    "    plt.xlabel('exam1 score') \n",
    "    plt.ylabel('exam2 score')\n",
    "    \n",
    "    plt.legend([ax1, ax2], ['Admitted', 'Not admitted'])\n",
    "    plt.show()\n",
    "\n",
    "plotData(x,y)"
   ]
  },
  {
   "cell_type": "code",
   "execution_count": 17,
   "metadata": {},
   "outputs": [
    {
     "name": "stdout",
     "output_type": "stream",
     "text": [
      ".........................................................................................................................................................................................................................................................................................................................................................................................................................................................................................................................................................................................................................................................................................................................................................................................................................................................................................................................................................................................................................................................................................................................................................................................................................................................................................................................................................................................................................................................................................................................................................................................................................................................................................................................................................................................................................................................................................................................................................................................................................................................................................................................................................................................................................................................................................................................................................................................................................................................................................................................................................................................................................................................................................................................................................................................................................................................................................................................................[ 8.1595834 -1.3511488] [-4246.83984074]\n",
      "[-42.46839841] -39.0921663657\n"
     ]
    }
   ],
   "source": [
    "#============ Part 2: Compute ============\n",
    "\n",
    "class SVM(object):\n",
    "    def __init__(self):\n",
    "        self.x = 0\n",
    "        self.y = 0\n",
    "        self.w = 0\n",
    "        self.b = 0\n",
    "        self.b2 = 0\n",
    "        \n",
    "    def fit(self,x,y):\n",
    "        self.x = x\n",
    "        self.y = y\n",
    "        alpha = self.SMO(x,y)\n",
    "        self.w = np.sum(alpha*y*x,axis=0) #1*n\n",
    "        b_tmp = y - np.dot(x,self.w.T) #原始公式w就包含了α了，所以这里实际就是对满足条件的b求均值\n",
    "        self.b2=np.mean(b_tmp)\n",
    "        return\n",
    "    \n",
    "    def Kernel(self,x1,x2,kernel='GS'):\n",
    "        if kernel == 'GS':\n",
    "            return x1.dot(x2.T)\n",
    "        \n",
    "    def clipAlpha(self,z,C,yi,yj,ai,aj):\n",
    "        if yi!=yj:\n",
    "            L=max(0,aj-ai)\n",
    "            H=min(C,C+aj-ai)\n",
    "        else:\n",
    "            L=max(0,aj+ai-C)\n",
    "            H=min(C,aj+ai)\n",
    "        if z<L:\n",
    "            z = L\n",
    "        if z>H:\n",
    "            z= H\n",
    "        return z\n",
    "    \n",
    "    def g_func(self,alpha,i):\n",
    "        g = float(np.sum(alpha*self.y*self.Kernel(self.x,self.x[i])))+self.b\n",
    "        return g\n",
    "    \n",
    "    def error_y(self,alpha,i):\n",
    "        error = self.g_func(alpha,i) - self.y[i][0]\n",
    "        return error\n",
    "    \n",
    "    def selectJ(self,m,i):\n",
    "        #测试简化版，随机选择J\n",
    "        j = i\n",
    "        while (j==i):\n",
    "            j=int(np.random.uniform(0,m))\n",
    "        return j\n",
    "        '''\n",
    "        final_j = 0\n",
    "        maxE=0\n",
    "        for j in range(m):\n",
    "            E[j] = self.error_y(alpha,j)\n",
    "\n",
    "            if i!=j and np.abs(E[i]-E[j])>maxE:\n",
    "                final_j = j\n",
    "                maxE = np.abs(E[i]-E[j])\n",
    "        if final_j == 0:\n",
    "            continue\n",
    "        '''\n",
    "        \n",
    "    def SMO(self,x,y,C=0.1):\n",
    "        m,n=x.shape\n",
    "        alpha = np.zeros((m,1))\n",
    "        E = np.zeros((m,1)) \n",
    "        iter = 0\n",
    "        while True:\n",
    "            alphaChanged = 0\n",
    "            for i in range(m):\n",
    "                if (alpha[i]==0 and y[i]*self.g_func(alpha,i)>=1) or (alpha[i]>0 and alpha[i]<C and y[i]*self.g_func(alpha,i)==1)\\\n",
    "                    or (alpha[i]==C and y[i]*self.g_func(alpha,i)<=1):\n",
    "                    continue\n",
    "                print('.',end = '')\n",
    "                E[i] = self.error_y(alpha,i)\n",
    "                \n",
    "                j = self.selectJ(m,i)   \n",
    "                E[j] = self.error_y(alpha,j)\n",
    "                eta = (self.Kernel(x[i],x[i])+self.Kernel(x[j],x[j])-2*self.Kernel(x[i],x[j]))\n",
    "                if eta<=0:\n",
    "                    print('eta<=0')\n",
    "                    continue\n",
    "                alpha_j_unclip=alpha[j]+y[j]*(E[i]-E[j])/eta\n",
    "                alphaj_old = alpha[j]\n",
    "                alpha[j] = self.clipAlpha(alpha_j_unclip,C,y[i],y[j],alpha[i],alpha[j])\n",
    "                alphai_old = alpha[i]\n",
    "                alpha[i] = alpha[i]+y[i]*y[j]*(alphaj_old-alpha[j])\n",
    "                \n",
    "                b1 = self.b-E[i]-y[i]*self.Kernel(x[i],x[i])*(alpha[i]-alphai_old) - y[j]*self.Kernel(x[j],x[i])*(alpha[j]-alphaj_old)\n",
    "                b2 = self.b-E[j]-y[i]*self.Kernel(x[i],x[j])*(alpha[i]-alphai_old) - y[j]*self.Kernel(x[j],x[j])*(alpha[j]-alphaj_old)\n",
    "                if 0<alpha[i] and alpha[i]<C:\n",
    "                    b=b1\n",
    "                elif 0<alpha[j] and alpha[j]<C:\n",
    "                    b=b2\n",
    "                else:\n",
    "                    b = (b1+b2)/2.0\n",
    "                \n",
    "                self.b=b\n",
    "                alphaChanged+=1\n",
    "\n",
    "            if alphaChanged==0:#没有α改变时最多遍历maxIter次数据集\n",
    "                break\n",
    "\n",
    "        return alpha\n",
    "\n",
    "model = SVM()\n",
    "model.fit(x,y)\n",
    "\n",
    "print(model.w,model.b)\n",
    "print(model.b/m,model.b2)"
   ]
  },
  {
   "cell_type": "code",
   "execution_count": 18,
   "metadata": {},
   "outputs": [
    {
     "data": {
      "image/png": "[encoded data removed]",
      "text/plain": [
       "<matplotlib.figure.Figure at 0x272e57f0208>"
      ]
     },
     "metadata": {},
     "output_type": "display_data"
    }
   ],
   "source": [
    "#%% ============= Part 3: Visualizing J(theta_0, theta_1) =============\n",
    "def plotPerc(pre_theta,pre_b,X,y):\n",
    "    fig = plt.figure()  \n",
    "    ax= fig.add_subplot(111) #使画在一个图上\n",
    "    \n",
    "    pos = np.where(y[:,0]==1) #y为类似矩阵形式，所以要再取第一列\n",
    "    neg = np.where(y[:,0]==-1)\n",
    "    \n",
    "    ax1 = plt.scatter(x[pos,0], x[pos,1], marker = 'x', color = 'm')  \n",
    "    ax2 = plt.scatter(x[neg,0], x[neg,1], marker = 'o', color = 'r')  \n",
    "    \n",
    "    plt.xlabel('x1') \n",
    "    plt.ylabel('x2')\n",
    "    \n",
    "    plotX = np.arange(3,8,1)\n",
    "    plotY = (-pre_b-pre_theta[0]*plotX)/pre_theta[1]\n",
    "    plt.plot(plotX,plotY)\n",
    "    \n",
    "    plt.show()\n",
    "\n",
    "plotPerc(model.w,model.b2,x,y)"
   ]
  },
  {
   "cell_type": "markdown",
   "metadata": {
    "collapsed": true
   },
   "source": [
    "很奇怪...b总是要除以m后画出的图像才是对的...检查了好几遍公式和代码..不知道问题在哪里...\n",
    "\n",
    "#### update：\n",
    "\n",
    "换了求b的公式，结果就对了....\n",
    "\n",
    "研究了下，原因应该是这样：在SMO中求的b是用来更新E的，虽然也是一样代入wx+b公式来算，但是实际并不是原函数的b，SMO算法最终只是求出一个α。\n",
    "\n",
    "求出α之后，再拿回去求出w和b。\n",
    "\n",
    "可以随便选择一个支持向量的分量来计算b，但由于对原始的b是一个范围，所以实际中选取了所有满足条件点的的均值。"
   ]
  },
  {
   "cell_type": "code",
   "execution_count": null,
   "metadata": {
    "collapsed": true
   },
   "outputs": [],
   "source": []
  }
 ],
 "metadata": {
  "kernelspec": {
   "display_name": "Python 3",
   "language": "python",
   "name": "python3"
  },
  "language_info": {
   "codemirror_mode": {
    "name": "ipython",
    "version": 3
   },
   "file_extension": ".py",
   "mimetype": "text/x-python",
   "name": "python",
   "nbconvert_exporter": "python",
   "pygments_lexer": "ipython3",
   "version": "3.5.4"
  }
 },
 "nbformat": 4,
 "nbformat_minor": 2
}
